{
 "cells": [
  {
   "cell_type": "code",
   "execution_count": 1,
   "metadata": {},
   "outputs": [
    {
     "name": "stdout",
     "output_type": "stream",
     "text": [
      "150930_IOA_F56_BDC-1B-01_DML_6109.las\n",
      "150930_IOA_F56_BDC-1B-01_DML_Run_01.las\n",
      "150930_IOA_F56_BDC-1B-01_DML_Run_02.las\n",
      "150930_IOA_F56_BDC-1B-01_DML_Run_03.las\n",
      "150930_IOA_F56_BDC-1B-01_DML_Run_04.las\n",
      "150930_IOA_F56_BDC-1B-01_DML_Run_05.las\n",
      "150930_IOA_F56_BDC-1B-01_DML_Run_06.las\n",
      "150930_IOA_F56_BDC-1B-01_LWD_6109.las\n",
      "150930_IOA_F56_BDC-1B-01_UT.las\n",
      "BDC-1B-01_EOWR_RV2.pdf\n",
      "dataset.md\n"
     ]
    }
   ],
   "source": [
    "import os\n",
    "\n",
    "directory = \"data\"\n",
    "for filename in os.listdir(directory):\n",
    "    if os.path.isfile(os.path.join(directory, filename)):\n",
    "        print(filename)"
   ]
  },
  {
   "cell_type": "code",
   "execution_count": 12,
   "metadata": {},
   "outputs": [],
   "source": [
    "# !pip install lasio"
   ]
  },
  {
   "cell_type": "code",
   "execution_count": 11,
   "metadata": {},
   "outputs": [
    {
     "name": "stderr",
     "output_type": "stream",
     "text": [
      "  0%|          | 0/11 [00:00<?, ?it/s]"
     ]
    },
    {
     "name": "stderr",
     "output_type": "stream",
     "text": [
      "  9%|▉         | 1/11 [00:02<00:22,  2.26s/it]"
     ]
    },
    {
     "name": "stdout",
     "output_type": "stream",
     "text": [
      "Reading file 150930_IOA_F56_BDC-1B-01_DML_6109.las...\n"
     ]
    },
    {
     "name": "stderr",
     "output_type": "stream",
     "text": [
      " 18%|█▊        | 2/11 [00:03<00:17,  1.90s/it]"
     ]
    },
    {
     "name": "stdout",
     "output_type": "stream",
     "text": [
      "Reading file 150930_IOA_F56_BDC-1B-01_DML_Run_01.las...\n"
     ]
    },
    {
     "name": "stderr",
     "output_type": "stream",
     "text": [
      " 27%|██▋       | 3/11 [00:06<00:16,  2.03s/it]"
     ]
    },
    {
     "name": "stdout",
     "output_type": "stream",
     "text": [
      "Reading file 150930_IOA_F56_BDC-1B-01_DML_Run_02.las...\n"
     ]
    },
    {
     "name": "stderr",
     "output_type": "stream",
     "text": [
      " 36%|███▋      | 4/11 [00:17<00:39,  5.68s/it]"
     ]
    },
    {
     "name": "stdout",
     "output_type": "stream",
     "text": [
      "Reading file 150930_IOA_F56_BDC-1B-01_DML_Run_03.las...\n"
     ]
    },
    {
     "name": "stderr",
     "output_type": "stream",
     "text": [
      " 45%|████▌     | 5/11 [01:03<02:01, 20.21s/it]"
     ]
    },
    {
     "name": "stdout",
     "output_type": "stream",
     "text": [
      "Reading file 150930_IOA_F56_BDC-1B-01_DML_Run_04.las...\n"
     ]
    },
    {
     "name": "stderr",
     "output_type": "stream",
     "text": [
      " 55%|█████▍    | 6/11 [01:18<01:32, 18.55s/it]"
     ]
    },
    {
     "name": "stdout",
     "output_type": "stream",
     "text": [
      "Reading file 150930_IOA_F56_BDC-1B-01_DML_Run_05.las...\n"
     ]
    },
    {
     "name": "stderr",
     "output_type": "stream",
     "text": [
      " 64%|██████▎   | 7/11 [01:33<01:09, 17.45s/it]"
     ]
    },
    {
     "name": "stdout",
     "output_type": "stream",
     "text": [
      "Reading file 150930_IOA_F56_BDC-1B-01_DML_Run_06.las...\n"
     ]
    },
    {
     "name": "stderr",
     "output_type": "stream",
     "text": [
      "100%|██████████| 11/11 [01:39<00:00,  9.04s/it]\n"
     ]
    },
    {
     "name": "stdout",
     "output_type": "stream",
     "text": [
      "Reading file 150930_IOA_F56_BDC-1B-01_LWD_6109.las...\n",
      "Reading file 150930_IOA_F56_BDC-1B-01_UT.las...\n"
     ]
    },
    {
     "name": "stderr",
     "output_type": "stream",
     "text": [
      "100%|██████████| 9/9 [00:00<?, ?it/s]\n"
     ]
    },
    {
     "name": "stdout",
     "output_type": "stream",
     "text": [
      "Common columns: {'TVD'}\n"
     ]
    },
    {
     "name": "stderr",
     "output_type": "stream",
     "text": [
      "100%|██████████| 9/9 [00:00<00:00, 298.72it/s]"
     ]
    },
    {
     "name": "stdout",
     "output_type": "stream",
     "text": [
      "File 150930_IOA_F56_BDC-1B-01_DML_6109.las has all common columns.\n",
      "DataFrame for 150930_IOA_F56_BDC-1B-01_DML_6109.las:\n",
      "                TVD\n",
      "DEPT              \n",
      "261.0612  261.0612\n",
      "261.2136  261.2136\n",
      "261.3660  261.3660\n",
      "261.5184  261.5184\n",
      "261.6708  261.6708\n",
      "File 150930_IOA_F56_BDC-1B-01_DML_Run_01.las has all common columns.\n",
      "DataFrame for 150930_IOA_F56_BDC-1B-01_DML_Run_01.las:\n",
      "                  TVD\n",
      "TIME_1900           \n",
      "42224.687500  227.98\n",
      "42224.687616  227.98\n",
      "42224.687731  227.98\n",
      "42224.687847  227.98\n",
      "42224.687963  227.98\n",
      "File 150930_IOA_F56_BDC-1B-01_DML_Run_02.las has all common columns.\n",
      "DataFrame for 150930_IOA_F56_BDC-1B-01_DML_Run_02.las:\n",
      "                    TVD\n",
      "TIME_1900             \n",
      "42226.650903  257.1167\n",
      "42226.651019  257.1167\n",
      "42226.651134  257.1167\n",
      "42226.651250  257.1167\n",
      "42226.651366  257.1167\n",
      "File 150930_IOA_F56_BDC-1B-01_DML_Run_03.las has all common columns.\n",
      "DataFrame for 150930_IOA_F56_BDC-1B-01_DML_Run_03.las:\n",
      "                    TVD\n",
      "TIME_1900             \n",
      "42229.708333  149.6302\n",
      "42229.708449  150.3001\n",
      "42229.708565  151.9052\n",
      "42229.708681  154.7740\n",
      "42229.708796  158.4823\n",
      "File 150930_IOA_F56_BDC-1B-01_DML_Run_04.las has all common columns.\n",
      "DataFrame for 150930_IOA_F56_BDC-1B-01_DML_Run_04.las:\n",
      "                TVD\n",
      "TIME_1900         \n",
      "42239.380058  47.0\n",
      "42239.380174  47.0\n",
      "42239.380289  47.0\n",
      "42239.380405  47.0\n",
      "42239.380521  47.0\n",
      "File 150930_IOA_F56_BDC-1B-01_DML_Run_05.las has all common columns.\n",
      "DataFrame for 150930_IOA_F56_BDC-1B-01_DML_Run_05.las:\n",
      "                    TVD\n",
      "TIME_1900             \n",
      "42267.732118  236.6018\n",
      "42267.732234  236.6018\n",
      "42267.732350  236.6018\n",
      "42267.732465  236.6018\n",
      "42267.732581  236.6018\n",
      "File 150930_IOA_F56_BDC-1B-01_DML_Run_06.las has all common columns.\n",
      "DataFrame for 150930_IOA_F56_BDC-1B-01_DML_Run_06.las:\n",
      "               TVD\n",
      "TIME_1900        \n",
      "42273.085567  NaN\n",
      "42273.085683  NaN\n",
      "42273.085799  NaN\n",
      "42273.085914  NaN\n",
      "42273.086030  NaN\n",
      "File 150930_IOA_F56_BDC-1B-01_LWD_6109.las has all common columns.\n",
      "DataFrame for 150930_IOA_F56_BDC-1B-01_LWD_6109.las:\n",
      "                TVD\n",
      "DEPT              \n",
      "261.0612  261.0612\n",
      "261.2136  261.2136\n",
      "261.3660  261.3660\n",
      "261.5184  261.5184\n",
      "261.6708  261.6708\n",
      "File 150930_IOA_F56_BDC-1B-01_UT.las has all common columns.\n",
      "DataFrame for 150930_IOA_F56_BDC-1B-01_UT.las:\n",
      "               TVD\n",
      "MD               \n",
      "0.00      0.00000\n",
      "261.20  261.20000\n",
      "297.22  297.21954\n",
      "309.06  309.05929\n",
      "350.21  350.20748\n"
     ]
    },
    {
     "name": "stderr",
     "output_type": "stream",
     "text": [
      "\n"
     ]
    }
   ],
   "source": [
    "import os\n",
    "import lasio\n",
    "import difflib\n",
    "from tqdm import tqdm\n",
    "\n",
    "directory = \"data\"\n",
    "headers = {}\n",
    "dfs = {}\n",
    "\n",
    "for filename in tqdm(os.listdir(directory)):\n",
    "    if filename.endswith(\".las\"):\n",
    "        las = lasio.read(os.path.join(directory, filename))\n",
    "        headers[filename] = las.keys()\n",
    "        dfs[filename] = las.df()\n",
    "        print(f\"Reading file {filename}...\")\n",
    "\n",
    "common_columns = set(headers[list(headers.keys())[0]])\n",
    "for header in tqdm(headers.values()):\n",
    "    common_columns.intersection_update(header)\n",
    "\n",
    "if len(common_columns) == 0:\n",
    "    print(\"No common columns found.\")\n",
    "else:\n",
    "    print(\"Common columns:\", common_columns)\n",
    "    for filename, header in tqdm(headers.items()):\n",
    "        missing_columns = common_columns - set(header)\n",
    "        if len(missing_columns) > 0:\n",
    "            print(f\"File {filename} is missing columns:\", missing_columns)\n",
    "        else:\n",
    "            print(f\"File {filename} has all common columns.\")\n",
    "        df = dfs[filename][list(common_columns)]\n",
    "        print(f\"DataFrame for {filename}:\\n\", df.head())"
   ]
  },
  {
   "cell_type": "code",
   "execution_count": 13,
   "metadata": {},
   "outputs": [
    {
     "name": "stdout",
     "output_type": "stream",
     "text": [
      "150930_IOA_F56_BDC-1B-01_DML_6109.las\n",
      "150930_IOA_F56_BDC-1B-01_DML_Run_01.las\n",
      "150930_IOA_F56_BDC-1B-01_DML_Run_02.las\n",
      "150930_IOA_F56_BDC-1B-01_DML_Run_03.las\n",
      "150930_IOA_F56_BDC-1B-01_DML_Run_04.las\n",
      "150930_IOA_F56_BDC-1B-01_DML_Run_05.las\n",
      "150930_IOA_F56_BDC-1B-01_DML_Run_06.las\n",
      "150930_IOA_F56_BDC-1B-01_LWD_6109.las\n",
      "150930_IOA_F56_BDC-1B-01_UT.las\n"
     ]
    }
   ],
   "source": [
    "for name in dfs.keys():\n",
    "    print(name)"
   ]
  },
  {
   "cell_type": "code",
   "execution_count": 15,
   "metadata": {},
   "outputs": [
    {
     "data": {
      "text/html": [
       "<div>\n",
       "<style scoped>\n",
       "    .dataframe tbody tr th:only-of-type {\n",
       "        vertical-align: middle;\n",
       "    }\n",
       "\n",
       "    .dataframe tbody tr th {\n",
       "        vertical-align: top;\n",
       "    }\n",
       "\n",
       "    .dataframe thead th {\n",
       "        text-align: right;\n",
       "    }\n",
       "</style>\n",
       "<table border=\"1\" class=\"dataframe\">\n",
       "  <thead>\n",
       "    <tr style=\"text-align: right;\">\n",
       "      <th></th>\n",
       "      <th>DEPTH</th>\n",
       "      <th>TVD</th>\n",
       "      <th>ROP5</th>\n",
       "      <th>GR</th>\n",
       "      <th>BLKP</th>\n",
       "      <th>HKLA</th>\n",
       "      <th>STOR</th>\n",
       "      <th>SWOB</th>\n",
       "      <th>RPM</th>\n",
       "      <th>CRPM</th>\n",
       "      <th>...</th>\n",
       "      <th>DHAT</th>\n",
       "      <th>DHAP</th>\n",
       "      <th>ECD</th>\n",
       "      <th>TEMP_DNI</th>\n",
       "      <th>VIB_X</th>\n",
       "      <th>VIB_LAT</th>\n",
       "      <th>SHKRSK</th>\n",
       "      <th>SHKL:1</th>\n",
       "      <th>SHKL:2</th>\n",
       "      <th>SHKL:3</th>\n",
       "    </tr>\n",
       "  </thead>\n",
       "  <tbody>\n",
       "    <tr>\n",
       "      <th>count</th>\n",
       "      <td>38372.000000</td>\n",
       "      <td>38374.000000</td>\n",
       "      <td>38339.000000</td>\n",
       "      <td>35814.000000</td>\n",
       "      <td>38363.000000</td>\n",
       "      <td>38371.000000</td>\n",
       "      <td>38361.000000</td>\n",
       "      <td>38364.000000</td>\n",
       "      <td>38309.000000</td>\n",
       "      <td>22447.000000</td>\n",
       "      <td>...</td>\n",
       "      <td>35766.000000</td>\n",
       "      <td>35769.000000</td>\n",
       "      <td>35769.000000</td>\n",
       "      <td>12830.000000</td>\n",
       "      <td>23070.000000</td>\n",
       "      <td>23070.000000</td>\n",
       "      <td>12869.000000</td>\n",
       "      <td>35074.000000</td>\n",
       "      <td>32193.000000</td>\n",
       "      <td>22098.000000</td>\n",
       "    </tr>\n",
       "    <tr>\n",
       "      <th>mean</th>\n",
       "      <td>3185.083331</td>\n",
       "      <td>2686.221477</td>\n",
       "      <td>34.336116</td>\n",
       "      <td>92.573970</td>\n",
       "      <td>15.227759</td>\n",
       "      <td>254.903473</td>\n",
       "      <td>14.544384</td>\n",
       "      <td>21.612647</td>\n",
       "      <td>107.360672</td>\n",
       "      <td>116.152455</td>\n",
       "      <td>...</td>\n",
       "      <td>84.748101</td>\n",
       "      <td>5446.370666</td>\n",
       "      <td>1.324564</td>\n",
       "      <td>93.037120</td>\n",
       "      <td>0.104078</td>\n",
       "      <td>0.637347</td>\n",
       "      <td>0.002720</td>\n",
       "      <td>0.036181</td>\n",
       "      <td>0.000124</td>\n",
       "      <td>0.003665</td>\n",
       "    </tr>\n",
       "    <tr>\n",
       "      <th>std</th>\n",
       "      <td>1688.163446</td>\n",
       "      <td>1178.409505</td>\n",
       "      <td>27.983897</td>\n",
       "      <td>53.150483</td>\n",
       "      <td>8.369545</td>\n",
       "      <td>51.588842</td>\n",
       "      <td>8.494042</td>\n",
       "      <td>15.369367</td>\n",
       "      <td>55.849481</td>\n",
       "      <td>56.758322</td>\n",
       "      <td>...</td>\n",
       "      <td>35.058343</td>\n",
       "      <td>2295.284715</td>\n",
       "      <td>0.158859</td>\n",
       "      <td>37.604322</td>\n",
       "      <td>0.102098</td>\n",
       "      <td>0.484769</td>\n",
       "      <td>0.059073</td>\n",
       "      <td>0.248572</td>\n",
       "      <td>0.011146</td>\n",
       "      <td>0.062640</td>\n",
       "    </tr>\n",
       "    <tr>\n",
       "      <th>min</th>\n",
       "      <td>261.207820</td>\n",
       "      <td>261.061200</td>\n",
       "      <td>0.982920</td>\n",
       "      <td>11.415040</td>\n",
       "      <td>-3.123160</td>\n",
       "      <td>128.526210</td>\n",
       "      <td>-0.060000</td>\n",
       "      <td>-92.527000</td>\n",
       "      <td>0.000000</td>\n",
       "      <td>0.000000</td>\n",
       "      <td>...</td>\n",
       "      <td>33.000000</td>\n",
       "      <td>950.000080</td>\n",
       "      <td>1.087640</td>\n",
       "      <td>24.314330</td>\n",
       "      <td>0.000000</td>\n",
       "      <td>0.000000</td>\n",
       "      <td>0.000000</td>\n",
       "      <td>0.000000</td>\n",
       "      <td>0.000000</td>\n",
       "      <td>0.000000</td>\n",
       "    </tr>\n",
       "    <tr>\n",
       "      <th>25%</th>\n",
       "      <td>1723.144137</td>\n",
       "      <td>1722.660930</td>\n",
       "      <td>18.007445</td>\n",
       "      <td>40.238320</td>\n",
       "      <td>8.046575</td>\n",
       "      <td>229.100970</td>\n",
       "      <td>8.300000</td>\n",
       "      <td>9.631840</td>\n",
       "      <td>56.000000</td>\n",
       "      <td>75.000000</td>\n",
       "      <td>...</td>\n",
       "      <td>41.000000</td>\n",
       "      <td>3150.000660</td>\n",
       "      <td>1.182420</td>\n",
       "      <td>43.922660</td>\n",
       "      <td>0.000000</td>\n",
       "      <td>0.499660</td>\n",
       "      <td>0.000000</td>\n",
       "      <td>0.000000</td>\n",
       "      <td>0.000000</td>\n",
       "      <td>0.000000</td>\n",
       "    </tr>\n",
       "    <tr>\n",
       "      <th>50%</th>\n",
       "      <td>3185.086180</td>\n",
       "      <td>2910.239445</td>\n",
       "      <td>26.225000</td>\n",
       "      <td>93.886555</td>\n",
       "      <td>15.211530</td>\n",
       "      <td>248.597440</td>\n",
       "      <td>14.600000</td>\n",
       "      <td>25.038305</td>\n",
       "      <td>109.000000</td>\n",
       "      <td>126.000000</td>\n",
       "      <td>...</td>\n",
       "      <td>88.000000</td>\n",
       "      <td>6152.999760</td>\n",
       "      <td>1.234860</td>\n",
       "      <td>112.944000</td>\n",
       "      <td>0.124920</td>\n",
       "      <td>0.499660</td>\n",
       "      <td>0.000000</td>\n",
       "      <td>0.000000</td>\n",
       "      <td>0.000000</td>\n",
       "      <td>0.000000</td>\n",
       "    </tr>\n",
       "    <tr>\n",
       "      <th>75%</th>\n",
       "      <td>4647.016725</td>\n",
       "      <td>3807.480843</td>\n",
       "      <td>36.492035</td>\n",
       "      <td>134.785850</td>\n",
       "      <td>22.378255</td>\n",
       "      <td>272.089895</td>\n",
       "      <td>20.010000</td>\n",
       "      <td>31.652415</td>\n",
       "      <td>154.000000</td>\n",
       "      <td>161.000000</td>\n",
       "      <td>...</td>\n",
       "      <td>117.000000</td>\n",
       "      <td>7085.999970</td>\n",
       "      <td>1.497620</td>\n",
       "      <td>121.571700</td>\n",
       "      <td>0.124920</td>\n",
       "      <td>0.749490</td>\n",
       "      <td>0.000000</td>\n",
       "      <td>0.000000</td>\n",
       "      <td>0.000000</td>\n",
       "      <td>0.000000</td>\n",
       "    </tr>\n",
       "    <tr>\n",
       "      <th>max</th>\n",
       "      <td>6108.948730</td>\n",
       "      <td>4105.146740</td>\n",
       "      <td>715.194800</td>\n",
       "      <td>678.865800</td>\n",
       "      <td>32.647850</td>\n",
       "      <td>386.543540</td>\n",
       "      <td>30.050000</td>\n",
       "      <td>65.891410</td>\n",
       "      <td>182.000000</td>\n",
       "      <td>245.000000</td>\n",
       "      <td>...</td>\n",
       "      <td>140.000000</td>\n",
       "      <td>9030.000240</td>\n",
       "      <td>1.612460</td>\n",
       "      <td>138.042700</td>\n",
       "      <td>1.103420</td>\n",
       "      <td>7.245080</td>\n",
       "      <td>2.000000</td>\n",
       "      <td>3.000000</td>\n",
       "      <td>1.000000</td>\n",
       "      <td>2.000000</td>\n",
       "    </tr>\n",
       "  </tbody>\n",
       "</table>\n",
       "<p>8 rows × 24 columns</p>\n",
       "</div>"
      ],
      "text/plain": [
       "              DEPTH           TVD          ROP5            GR          BLKP  \\\n",
       "count  38372.000000  38374.000000  38339.000000  35814.000000  38363.000000   \n",
       "mean    3185.083331   2686.221477     34.336116     92.573970     15.227759   \n",
       "std     1688.163446   1178.409505     27.983897     53.150483      8.369545   \n",
       "min      261.207820    261.061200      0.982920     11.415040     -3.123160   \n",
       "25%     1723.144137   1722.660930     18.007445     40.238320      8.046575   \n",
       "50%     3185.086180   2910.239445     26.225000     93.886555     15.211530   \n",
       "75%     4647.016725   3807.480843     36.492035    134.785850     22.378255   \n",
       "max     6108.948730   4105.146740    715.194800    678.865800     32.647850   \n",
       "\n",
       "               HKLA          STOR          SWOB           RPM          CRPM  \\\n",
       "count  38371.000000  38361.000000  38364.000000  38309.000000  22447.000000   \n",
       "mean     254.903473     14.544384     21.612647    107.360672    116.152455   \n",
       "std       51.588842      8.494042     15.369367     55.849481     56.758322   \n",
       "min      128.526210     -0.060000    -92.527000      0.000000      0.000000   \n",
       "25%      229.100970      8.300000      9.631840     56.000000     75.000000   \n",
       "50%      248.597440     14.600000     25.038305    109.000000    126.000000   \n",
       "75%      272.089895     20.010000     31.652415    154.000000    161.000000   \n",
       "max      386.543540     30.050000     65.891410    182.000000    245.000000   \n",
       "\n",
       "       ...          DHAT          DHAP           ECD      TEMP_DNI  \\\n",
       "count  ...  35766.000000  35769.000000  35769.000000  12830.000000   \n",
       "mean   ...     84.748101   5446.370666      1.324564     93.037120   \n",
       "std    ...     35.058343   2295.284715      0.158859     37.604322   \n",
       "min    ...     33.000000    950.000080      1.087640     24.314330   \n",
       "25%    ...     41.000000   3150.000660      1.182420     43.922660   \n",
       "50%    ...     88.000000   6152.999760      1.234860    112.944000   \n",
       "75%    ...    117.000000   7085.999970      1.497620    121.571700   \n",
       "max    ...    140.000000   9030.000240      1.612460    138.042700   \n",
       "\n",
       "              VIB_X       VIB_LAT        SHKRSK        SHKL:1        SHKL:2  \\\n",
       "count  23070.000000  23070.000000  12869.000000  35074.000000  32193.000000   \n",
       "mean       0.104078      0.637347      0.002720      0.036181      0.000124   \n",
       "std        0.102098      0.484769      0.059073      0.248572      0.011146   \n",
       "min        0.000000      0.000000      0.000000      0.000000      0.000000   \n",
       "25%        0.000000      0.499660      0.000000      0.000000      0.000000   \n",
       "50%        0.124920      0.499660      0.000000      0.000000      0.000000   \n",
       "75%        0.124920      0.749490      0.000000      0.000000      0.000000   \n",
       "max        1.103420      7.245080      2.000000      3.000000      1.000000   \n",
       "\n",
       "             SHKL:3  \n",
       "count  22098.000000  \n",
       "mean       0.003665  \n",
       "std        0.062640  \n",
       "min        0.000000  \n",
       "25%        0.000000  \n",
       "50%        0.000000  \n",
       "75%        0.000000  \n",
       "max        2.000000  \n",
       "\n",
       "[8 rows x 24 columns]"
      ]
     },
     "execution_count": 15,
     "metadata": {},
     "output_type": "execute_result"
    }
   ],
   "source": [
    "dfs['150930_IOA_F56_BDC-1B-01_DML_6109.las'].describe()"
   ]
  },
  {
   "cell_type": "code",
   "execution_count": 17,
   "metadata": {},
   "outputs": [
    {
     "data": {
      "text/html": [
       "<div>\n",
       "<style scoped>\n",
       "    .dataframe tbody tr th:only-of-type {\n",
       "        vertical-align: middle;\n",
       "    }\n",
       "\n",
       "    .dataframe tbody tr th {\n",
       "        vertical-align: top;\n",
       "    }\n",
       "\n",
       "    .dataframe thead th {\n",
       "        text-align: right;\n",
       "    }\n",
       "</style>\n",
       "<table border=\"1\" class=\"dataframe\">\n",
       "  <thead>\n",
       "    <tr style=\"text-align: right;\">\n",
       "      <th></th>\n",
       "      <th>DEPTH</th>\n",
       "      <th>TVD</th>\n",
       "      <th>ROP5</th>\n",
       "      <th>GR</th>\n",
       "      <th>BLKP</th>\n",
       "      <th>HKLA</th>\n",
       "      <th>STOR</th>\n",
       "      <th>SWOB</th>\n",
       "      <th>RPM</th>\n",
       "      <th>CRPM</th>\n",
       "      <th>...</th>\n",
       "      <th>DHAT</th>\n",
       "      <th>DHAP</th>\n",
       "      <th>ECD</th>\n",
       "      <th>TEMP_DNI</th>\n",
       "      <th>VIB_X</th>\n",
       "      <th>VIB_LAT</th>\n",
       "      <th>SHKRSK</th>\n",
       "      <th>SHKL:1</th>\n",
       "      <th>SHKL:2</th>\n",
       "      <th>SHKL:3</th>\n",
       "    </tr>\n",
       "    <tr>\n",
       "      <th>DEPT</th>\n",
       "      <th></th>\n",
       "      <th></th>\n",
       "      <th></th>\n",
       "      <th></th>\n",
       "      <th></th>\n",
       "      <th></th>\n",
       "      <th></th>\n",
       "      <th></th>\n",
       "      <th></th>\n",
       "      <th></th>\n",
       "      <th></th>\n",
       "      <th></th>\n",
       "      <th></th>\n",
       "      <th></th>\n",
       "      <th></th>\n",
       "      <th></th>\n",
       "      <th></th>\n",
       "      <th></th>\n",
       "      <th></th>\n",
       "      <th></th>\n",
       "      <th></th>\n",
       "    </tr>\n",
       "  </thead>\n",
       "  <tbody>\n",
       "    <tr>\n",
       "      <th>261.0612</th>\n",
       "      <td>NaN</td>\n",
       "      <td>261.0612</td>\n",
       "      <td>NaN</td>\n",
       "      <td>NaN</td>\n",
       "      <td>NaN</td>\n",
       "      <td>NaN</td>\n",
       "      <td>NaN</td>\n",
       "      <td>NaN</td>\n",
       "      <td>NaN</td>\n",
       "      <td>NaN</td>\n",
       "      <td>...</td>\n",
       "      <td>NaN</td>\n",
       "      <td>NaN</td>\n",
       "      <td>NaN</td>\n",
       "      <td>NaN</td>\n",
       "      <td>NaN</td>\n",
       "      <td>NaN</td>\n",
       "      <td>NaN</td>\n",
       "      <td>NaN</td>\n",
       "      <td>NaN</td>\n",
       "      <td>NaN</td>\n",
       "    </tr>\n",
       "    <tr>\n",
       "      <th>261.2136</th>\n",
       "      <td>261.20782</td>\n",
       "      <td>261.2136</td>\n",
       "      <td>NaN</td>\n",
       "      <td>NaN</td>\n",
       "      <td>NaN</td>\n",
       "      <td>NaN</td>\n",
       "      <td>NaN</td>\n",
       "      <td>NaN</td>\n",
       "      <td>NaN</td>\n",
       "      <td>NaN</td>\n",
       "      <td>...</td>\n",
       "      <td>NaN</td>\n",
       "      <td>NaN</td>\n",
       "      <td>NaN</td>\n",
       "      <td>NaN</td>\n",
       "      <td>NaN</td>\n",
       "      <td>NaN</td>\n",
       "      <td>NaN</td>\n",
       "      <td>NaN</td>\n",
       "      <td>NaN</td>\n",
       "      <td>NaN</td>\n",
       "    </tr>\n",
       "    <tr>\n",
       "      <th>261.3660</th>\n",
       "      <td>261.36407</td>\n",
       "      <td>261.3660</td>\n",
       "      <td>173.0609</td>\n",
       "      <td>NaN</td>\n",
       "      <td>25.25114</td>\n",
       "      <td>146.18407</td>\n",
       "      <td>-0.04</td>\n",
       "      <td>26.78486</td>\n",
       "      <td>0.0</td>\n",
       "      <td>NaN</td>\n",
       "      <td>...</td>\n",
       "      <td>NaN</td>\n",
       "      <td>NaN</td>\n",
       "      <td>NaN</td>\n",
       "      <td>24.31433</td>\n",
       "      <td>NaN</td>\n",
       "      <td>NaN</td>\n",
       "      <td>NaN</td>\n",
       "      <td>NaN</td>\n",
       "      <td>NaN</td>\n",
       "      <td>NaN</td>\n",
       "    </tr>\n",
       "  </tbody>\n",
       "</table>\n",
       "<p>3 rows × 24 columns</p>\n",
       "</div>"
      ],
      "text/plain": [
       "              DEPTH       TVD      ROP5  GR      BLKP       HKLA  STOR  \\\n",
       "DEPT                                                                     \n",
       "261.0612        NaN  261.0612       NaN NaN       NaN        NaN   NaN   \n",
       "261.2136  261.20782  261.2136       NaN NaN       NaN        NaN   NaN   \n",
       "261.3660  261.36407  261.3660  173.0609 NaN  25.25114  146.18407 -0.04   \n",
       "\n",
       "              SWOB  RPM  CRPM  ...  DHAT  DHAP  ECD  TEMP_DNI  VIB_X  VIB_LAT  \\\n",
       "DEPT                           ...                                              \n",
       "261.0612       NaN  NaN   NaN  ...   NaN   NaN  NaN       NaN    NaN      NaN   \n",
       "261.2136       NaN  NaN   NaN  ...   NaN   NaN  NaN       NaN    NaN      NaN   \n",
       "261.3660  26.78486  0.0   NaN  ...   NaN   NaN  NaN  24.31433    NaN      NaN   \n",
       "\n",
       "          SHKRSK  SHKL:1  SHKL:2  SHKL:3  \n",
       "DEPT                                      \n",
       "261.0612     NaN     NaN     NaN     NaN  \n",
       "261.2136     NaN     NaN     NaN     NaN  \n",
       "261.3660     NaN     NaN     NaN     NaN  \n",
       "\n",
       "[3 rows x 24 columns]"
      ]
     },
     "execution_count": 17,
     "metadata": {},
     "output_type": "execute_result"
    }
   ],
   "source": [
    "dfs['150930_IOA_F56_BDC-1B-01_DML_6109.las'].head(3)"
   ]
  },
  {
   "cell_type": "code",
   "execution_count": 18,
   "metadata": {},
   "outputs": [
    {
     "data": {
      "text/html": [
       "<div>\n",
       "<style scoped>\n",
       "    .dataframe tbody tr th:only-of-type {\n",
       "        vertical-align: middle;\n",
       "    }\n",
       "\n",
       "    .dataframe tbody tr th {\n",
       "        vertical-align: top;\n",
       "    }\n",
       "\n",
       "    .dataframe thead th {\n",
       "        text-align: right;\n",
       "    }\n",
       "</style>\n",
       "<table border=\"1\" class=\"dataframe\">\n",
       "  <thead>\n",
       "    <tr style=\"text-align: right;\">\n",
       "      <th></th>\n",
       "      <th>DEPTH</th>\n",
       "      <th>TVD</th>\n",
       "      <th>ROP5</th>\n",
       "      <th>GR</th>\n",
       "      <th>P16H</th>\n",
       "      <th>P28H</th>\n",
       "      <th>P40H</th>\n",
       "      <th>A40H</th>\n",
       "      <th>TNPH</th>\n",
       "      <th>ROBB</th>\n",
       "      <th>...</th>\n",
       "      <th>PESC[16]</th>\n",
       "      <th>PEB</th>\n",
       "      <th>ADIA</th>\n",
       "      <th>DCAV</th>\n",
       "      <th>DHAT:1</th>\n",
       "      <th>DHAT:2</th>\n",
       "      <th>DHAP:1</th>\n",
       "      <th>DHAP:2</th>\n",
       "      <th>ECD:1</th>\n",
       "      <th>ECD:2</th>\n",
       "    </tr>\n",
       "  </thead>\n",
       "  <tbody>\n",
       "    <tr>\n",
       "      <th>count</th>\n",
       "      <td>38372.000000</td>\n",
       "      <td>38374.000000</td>\n",
       "      <td>38339.000000</td>\n",
       "      <td>35814.000000</td>\n",
       "      <td>35816.000000</td>\n",
       "      <td>35816.000000</td>\n",
       "      <td>35816.000000</td>\n",
       "      <td>35816.000000</td>\n",
       "      <td>13519.000000</td>\n",
       "      <td>23254.000000</td>\n",
       "      <td>...</td>\n",
       "      <td>23185.000000</td>\n",
       "      <td>23253.000000</td>\n",
       "      <td>23315.000000</td>\n",
       "      <td>23197.000000</td>\n",
       "      <td>1890.000000</td>\n",
       "      <td>35766.000000</td>\n",
       "      <td>1887.000000</td>\n",
       "      <td>35769.000000</td>\n",
       "      <td>1888.000000</td>\n",
       "      <td>35769.000000</td>\n",
       "    </tr>\n",
       "    <tr>\n",
       "      <th>mean</th>\n",
       "      <td>3185.083331</td>\n",
       "      <td>2686.221477</td>\n",
       "      <td>34.336116</td>\n",
       "      <td>92.573970</td>\n",
       "      <td>264.547468</td>\n",
       "      <td>107.437258</td>\n",
       "      <td>83.293345</td>\n",
       "      <td>13.477723</td>\n",
       "      <td>22.255318</td>\n",
       "      <td>2.479392</td>\n",
       "      <td>...</td>\n",
       "      <td>9.059319</td>\n",
       "      <td>4.600919</td>\n",
       "      <td>11.353445</td>\n",
       "      <td>11.204477</td>\n",
       "      <td>28.145708</td>\n",
       "      <td>84.748101</td>\n",
       "      <td>677.686148</td>\n",
       "      <td>5446.370666</td>\n",
       "      <td>1.107955</td>\n",
       "      <td>1.324564</td>\n",
       "    </tr>\n",
       "    <tr>\n",
       "      <th>std</th>\n",
       "      <td>1688.163446</td>\n",
       "      <td>1178.409505</td>\n",
       "      <td>27.983897</td>\n",
       "      <td>53.150483</td>\n",
       "      <td>946.215414</td>\n",
       "      <td>352.007575</td>\n",
       "      <td>270.815202</td>\n",
       "      <td>26.859862</td>\n",
       "      <td>12.086501</td>\n",
       "      <td>0.128423</td>\n",
       "      <td>...</td>\n",
       "      <td>4.214417</td>\n",
       "      <td>1.837344</td>\n",
       "      <td>1.675524</td>\n",
       "      <td>1.684372</td>\n",
       "      <td>1.060478</td>\n",
       "      <td>35.058343</td>\n",
       "      <td>183.907011</td>\n",
       "      <td>2295.284715</td>\n",
       "      <td>0.021718</td>\n",
       "      <td>0.158859</td>\n",
       "    </tr>\n",
       "    <tr>\n",
       "      <th>min</th>\n",
       "      <td>261.207820</td>\n",
       "      <td>261.061200</td>\n",
       "      <td>0.982920</td>\n",
       "      <td>11.415040</td>\n",
       "      <td>0.200000</td>\n",
       "      <td>0.100000</td>\n",
       "      <td>0.100000</td>\n",
       "      <td>0.100000</td>\n",
       "      <td>4.029590</td>\n",
       "      <td>2.046800</td>\n",
       "      <td>...</td>\n",
       "      <td>0.391320</td>\n",
       "      <td>0.052070</td>\n",
       "      <td>8.482150</td>\n",
       "      <td>8.338630</td>\n",
       "      <td>26.000000</td>\n",
       "      <td>33.000000</td>\n",
       "      <td>369.000080</td>\n",
       "      <td>950.000080</td>\n",
       "      <td>1.066930</td>\n",
       "      <td>1.087640</td>\n",
       "    </tr>\n",
       "    <tr>\n",
       "      <th>25%</th>\n",
       "      <td>1723.144137</td>\n",
       "      <td>1722.660930</td>\n",
       "      <td>18.007445</td>\n",
       "      <td>40.238320</td>\n",
       "      <td>0.839755</td>\n",
       "      <td>0.860553</td>\n",
       "      <td>0.874842</td>\n",
       "      <td>0.870880</td>\n",
       "      <td>8.398620</td>\n",
       "      <td>2.380950</td>\n",
       "      <td>...</td>\n",
       "      <td>6.244130</td>\n",
       "      <td>3.598290</td>\n",
       "      <td>8.881120</td>\n",
       "      <td>8.749040</td>\n",
       "      <td>27.000000</td>\n",
       "      <td>41.000000</td>\n",
       "      <td>517.000070</td>\n",
       "      <td>3150.000660</td>\n",
       "      <td>1.092763</td>\n",
       "      <td>1.182420</td>\n",
       "    </tr>\n",
       "    <tr>\n",
       "      <th>50%</th>\n",
       "      <td>3185.086180</td>\n",
       "      <td>2910.239445</td>\n",
       "      <td>26.225000</td>\n",
       "      <td>93.886555</td>\n",
       "      <td>1.485590</td>\n",
       "      <td>1.503830</td>\n",
       "      <td>1.574580</td>\n",
       "      <td>1.639540</td>\n",
       "      <td>26.820990</td>\n",
       "      <td>2.440575</td>\n",
       "      <td>...</td>\n",
       "      <td>9.107360</td>\n",
       "      <td>4.414710</td>\n",
       "      <td>12.309060</td>\n",
       "      <td>12.179430</td>\n",
       "      <td>28.000000</td>\n",
       "      <td>88.000000</td>\n",
       "      <td>699.666690</td>\n",
       "      <td>6152.999760</td>\n",
       "      <td>1.106655</td>\n",
       "      <td>1.234860</td>\n",
       "    </tr>\n",
       "    <tr>\n",
       "      <th>75%</th>\n",
       "      <td>4647.016725</td>\n",
       "      <td>3807.480843</td>\n",
       "      <td>36.492035</td>\n",
       "      <td>134.785850</td>\n",
       "      <td>5.662025</td>\n",
       "      <td>5.688795</td>\n",
       "      <td>5.858612</td>\n",
       "      <td>5.513680</td>\n",
       "      <td>33.595710</td>\n",
       "      <td>2.561470</td>\n",
       "      <td>...</td>\n",
       "      <td>11.125440</td>\n",
       "      <td>5.122760</td>\n",
       "      <td>12.396585</td>\n",
       "      <td>12.266680</td>\n",
       "      <td>29.000000</td>\n",
       "      <td>117.000000</td>\n",
       "      <td>837.750015</td>\n",
       "      <td>7085.999970</td>\n",
       "      <td>1.122185</td>\n",
       "      <td>1.497620</td>\n",
       "    </tr>\n",
       "    <tr>\n",
       "      <th>max</th>\n",
       "      <td>6108.948730</td>\n",
       "      <td>4105.146740</td>\n",
       "      <td>715.194800</td>\n",
       "      <td>678.865800</td>\n",
       "      <td>5000.000000</td>\n",
       "      <td>5000.000000</td>\n",
       "      <td>5000.000000</td>\n",
       "      <td>200.000000</td>\n",
       "      <td>43.333790</td>\n",
       "      <td>3.680750</td>\n",
       "      <td>...</td>\n",
       "      <td>64.397870</td>\n",
       "      <td>27.687600</td>\n",
       "      <td>14.365520</td>\n",
       "      <td>14.395800</td>\n",
       "      <td>30.000000</td>\n",
       "      <td>140.000000</td>\n",
       "      <td>979.874960</td>\n",
       "      <td>9030.000240</td>\n",
       "      <td>1.167830</td>\n",
       "      <td>1.612460</td>\n",
       "    </tr>\n",
       "  </tbody>\n",
       "</table>\n",
       "<p>8 rows × 88 columns</p>\n",
       "</div>"
      ],
      "text/plain": [
       "              DEPTH           TVD          ROP5            GR          P16H  \\\n",
       "count  38372.000000  38374.000000  38339.000000  35814.000000  35816.000000   \n",
       "mean    3185.083331   2686.221477     34.336116     92.573970    264.547468   \n",
       "std     1688.163446   1178.409505     27.983897     53.150483    946.215414   \n",
       "min      261.207820    261.061200      0.982920     11.415040      0.200000   \n",
       "25%     1723.144137   1722.660930     18.007445     40.238320      0.839755   \n",
       "50%     3185.086180   2910.239445     26.225000     93.886555      1.485590   \n",
       "75%     4647.016725   3807.480843     36.492035    134.785850      5.662025   \n",
       "max     6108.948730   4105.146740    715.194800    678.865800   5000.000000   \n",
       "\n",
       "               P28H          P40H          A40H          TNPH          ROBB  \\\n",
       "count  35816.000000  35816.000000  35816.000000  13519.000000  23254.000000   \n",
       "mean     107.437258     83.293345     13.477723     22.255318      2.479392   \n",
       "std      352.007575    270.815202     26.859862     12.086501      0.128423   \n",
       "min        0.100000      0.100000      0.100000      4.029590      2.046800   \n",
       "25%        0.860553      0.874842      0.870880      8.398620      2.380950   \n",
       "50%        1.503830      1.574580      1.639540     26.820990      2.440575   \n",
       "75%        5.688795      5.858612      5.513680     33.595710      2.561470   \n",
       "max     5000.000000   5000.000000    200.000000     43.333790      3.680750   \n",
       "\n",
       "       ...      PESC[16]           PEB          ADIA          DCAV  \\\n",
       "count  ...  23185.000000  23253.000000  23315.000000  23197.000000   \n",
       "mean   ...      9.059319      4.600919     11.353445     11.204477   \n",
       "std    ...      4.214417      1.837344      1.675524      1.684372   \n",
       "min    ...      0.391320      0.052070      8.482150      8.338630   \n",
       "25%    ...      6.244130      3.598290      8.881120      8.749040   \n",
       "50%    ...      9.107360      4.414710     12.309060     12.179430   \n",
       "75%    ...     11.125440      5.122760     12.396585     12.266680   \n",
       "max    ...     64.397870     27.687600     14.365520     14.395800   \n",
       "\n",
       "            DHAT:1        DHAT:2       DHAP:1        DHAP:2        ECD:1  \\\n",
       "count  1890.000000  35766.000000  1887.000000  35769.000000  1888.000000   \n",
       "mean     28.145708     84.748101   677.686148   5446.370666     1.107955   \n",
       "std       1.060478     35.058343   183.907011   2295.284715     0.021718   \n",
       "min      26.000000     33.000000   369.000080    950.000080     1.066930   \n",
       "25%      27.000000     41.000000   517.000070   3150.000660     1.092763   \n",
       "50%      28.000000     88.000000   699.666690   6152.999760     1.106655   \n",
       "75%      29.000000    117.000000   837.750015   7085.999970     1.122185   \n",
       "max      30.000000    140.000000   979.874960   9030.000240     1.167830   \n",
       "\n",
       "              ECD:2  \n",
       "count  35769.000000  \n",
       "mean       1.324564  \n",
       "std        0.158859  \n",
       "min        1.087640  \n",
       "25%        1.182420  \n",
       "50%        1.234860  \n",
       "75%        1.497620  \n",
       "max        1.612460  \n",
       "\n",
       "[8 rows x 88 columns]"
      ]
     },
     "execution_count": 18,
     "metadata": {},
     "output_type": "execute_result"
    }
   ],
   "source": [
    "dfs['150930_IOA_F56_BDC-1B-01_LWD_6109.las'].describe()"
   ]
  },
  {
   "cell_type": "code",
   "execution_count": 20,
   "metadata": {},
   "outputs": [
    {
     "data": {
      "text/html": [
       "<div>\n",
       "<style scoped>\n",
       "    .dataframe tbody tr th:only-of-type {\n",
       "        vertical-align: middle;\n",
       "    }\n",
       "\n",
       "    .dataframe tbody tr th {\n",
       "        vertical-align: top;\n",
       "    }\n",
       "\n",
       "    .dataframe thead th {\n",
       "        text-align: right;\n",
       "    }\n",
       "</style>\n",
       "<table border=\"1\" class=\"dataframe\">\n",
       "  <thead>\n",
       "    <tr style=\"text-align: right;\">\n",
       "      <th></th>\n",
       "      <th>DEPTH</th>\n",
       "      <th>TVD</th>\n",
       "      <th>ROP5</th>\n",
       "      <th>GR</th>\n",
       "      <th>P16H</th>\n",
       "      <th>P28H</th>\n",
       "      <th>P40H</th>\n",
       "      <th>A40H</th>\n",
       "      <th>TNPH</th>\n",
       "      <th>ROBB</th>\n",
       "      <th>...</th>\n",
       "      <th>PESC[16]</th>\n",
       "      <th>PEB</th>\n",
       "      <th>ADIA</th>\n",
       "      <th>DCAV</th>\n",
       "      <th>DHAT:1</th>\n",
       "      <th>DHAT:2</th>\n",
       "      <th>DHAP:1</th>\n",
       "      <th>DHAP:2</th>\n",
       "      <th>ECD:1</th>\n",
       "      <th>ECD:2</th>\n",
       "    </tr>\n",
       "    <tr>\n",
       "      <th>DEPT</th>\n",
       "      <th></th>\n",
       "      <th></th>\n",
       "      <th></th>\n",
       "      <th></th>\n",
       "      <th></th>\n",
       "      <th></th>\n",
       "      <th></th>\n",
       "      <th></th>\n",
       "      <th></th>\n",
       "      <th></th>\n",
       "      <th></th>\n",
       "      <th></th>\n",
       "      <th></th>\n",
       "      <th></th>\n",
       "      <th></th>\n",
       "      <th></th>\n",
       "      <th></th>\n",
       "      <th></th>\n",
       "      <th></th>\n",
       "      <th></th>\n",
       "      <th></th>\n",
       "    </tr>\n",
       "  </thead>\n",
       "  <tbody>\n",
       "    <tr>\n",
       "      <th>261.0612</th>\n",
       "      <td>NaN</td>\n",
       "      <td>261.0612</td>\n",
       "      <td>NaN</td>\n",
       "      <td>NaN</td>\n",
       "      <td>NaN</td>\n",
       "      <td>NaN</td>\n",
       "      <td>NaN</td>\n",
       "      <td>NaN</td>\n",
       "      <td>NaN</td>\n",
       "      <td>NaN</td>\n",
       "      <td>...</td>\n",
       "      <td>NaN</td>\n",
       "      <td>NaN</td>\n",
       "      <td>NaN</td>\n",
       "      <td>NaN</td>\n",
       "      <td>NaN</td>\n",
       "      <td>NaN</td>\n",
       "      <td>NaN</td>\n",
       "      <td>NaN</td>\n",
       "      <td>NaN</td>\n",
       "      <td>NaN</td>\n",
       "    </tr>\n",
       "    <tr>\n",
       "      <th>261.2136</th>\n",
       "      <td>261.20782</td>\n",
       "      <td>261.2136</td>\n",
       "      <td>NaN</td>\n",
       "      <td>NaN</td>\n",
       "      <td>NaN</td>\n",
       "      <td>NaN</td>\n",
       "      <td>NaN</td>\n",
       "      <td>NaN</td>\n",
       "      <td>NaN</td>\n",
       "      <td>NaN</td>\n",
       "      <td>...</td>\n",
       "      <td>NaN</td>\n",
       "      <td>NaN</td>\n",
       "      <td>NaN</td>\n",
       "      <td>NaN</td>\n",
       "      <td>NaN</td>\n",
       "      <td>NaN</td>\n",
       "      <td>NaN</td>\n",
       "      <td>NaN</td>\n",
       "      <td>NaN</td>\n",
       "      <td>NaN</td>\n",
       "    </tr>\n",
       "    <tr>\n",
       "      <th>261.3660</th>\n",
       "      <td>261.36407</td>\n",
       "      <td>261.3660</td>\n",
       "      <td>173.0609</td>\n",
       "      <td>NaN</td>\n",
       "      <td>NaN</td>\n",
       "      <td>NaN</td>\n",
       "      <td>NaN</td>\n",
       "      <td>NaN</td>\n",
       "      <td>NaN</td>\n",
       "      <td>NaN</td>\n",
       "      <td>...</td>\n",
       "      <td>NaN</td>\n",
       "      <td>NaN</td>\n",
       "      <td>NaN</td>\n",
       "      <td>NaN</td>\n",
       "      <td>NaN</td>\n",
       "      <td>NaN</td>\n",
       "      <td>NaN</td>\n",
       "      <td>NaN</td>\n",
       "      <td>NaN</td>\n",
       "      <td>NaN</td>\n",
       "    </tr>\n",
       "  </tbody>\n",
       "</table>\n",
       "<p>3 rows × 88 columns</p>\n",
       "</div>"
      ],
      "text/plain": [
       "              DEPTH       TVD      ROP5  GR  P16H  P28H  P40H  A40H  TNPH  \\\n",
       "DEPT                                                                        \n",
       "261.0612        NaN  261.0612       NaN NaN   NaN   NaN   NaN   NaN   NaN   \n",
       "261.2136  261.20782  261.2136       NaN NaN   NaN   NaN   NaN   NaN   NaN   \n",
       "261.3660  261.36407  261.3660  173.0609 NaN   NaN   NaN   NaN   NaN   NaN   \n",
       "\n",
       "          ROBB  ...  PESC[16]  PEB  ADIA  DCAV  DHAT:1  DHAT:2  DHAP:1  \\\n",
       "DEPT            ...                                                      \n",
       "261.0612   NaN  ...       NaN  NaN   NaN   NaN     NaN     NaN     NaN   \n",
       "261.2136   NaN  ...       NaN  NaN   NaN   NaN     NaN     NaN     NaN   \n",
       "261.3660   NaN  ...       NaN  NaN   NaN   NaN     NaN     NaN     NaN   \n",
       "\n",
       "          DHAP:2  ECD:1  ECD:2  \n",
       "DEPT                            \n",
       "261.0612     NaN    NaN    NaN  \n",
       "261.2136     NaN    NaN    NaN  \n",
       "261.3660     NaN    NaN    NaN  \n",
       "\n",
       "[3 rows x 88 columns]"
      ]
     },
     "execution_count": 20,
     "metadata": {},
     "output_type": "execute_result"
    }
   ],
   "source": [
    "dfs['150930_IOA_F56_BDC-1B-01_LWD_6109.las'].head(3)"
   ]
  },
  {
   "cell_type": "code",
   "execution_count": 22,
   "metadata": {},
   "outputs": [
    {
     "data": {
      "text/html": [
       "<div>\n",
       "<style scoped>\n",
       "    .dataframe tbody tr th:only-of-type {\n",
       "        vertical-align: middle;\n",
       "    }\n",
       "\n",
       "    .dataframe tbody tr th {\n",
       "        vertical-align: top;\n",
       "    }\n",
       "\n",
       "    .dataframe thead th {\n",
       "        text-align: right;\n",
       "    }\n",
       "</style>\n",
       "<table border=\"1\" class=\"dataframe\">\n",
       "  <thead>\n",
       "    <tr style=\"text-align: right;\">\n",
       "      <th></th>\n",
       "      <th>INCL</th>\n",
       "      <th>AZIM</th>\n",
       "      <th>TVD</th>\n",
       "      <th>VSEC</th>\n",
       "      <th>ND</th>\n",
       "      <th>ED</th>\n",
       "      <th>DLS</th>\n",
       "      <th>QI</th>\n",
       "      <th>DI</th>\n",
       "      <th>CI</th>\n",
       "    </tr>\n",
       "  </thead>\n",
       "  <tbody>\n",
       "    <tr>\n",
       "      <th>count</th>\n",
       "      <td>198.000000</td>\n",
       "      <td>198.000000</td>\n",
       "      <td>198.000000</td>\n",
       "      <td>198.000000</td>\n",
       "      <td>198.000000</td>\n",
       "      <td>198.000000</td>\n",
       "      <td>198.000000</td>\n",
       "      <td>198.000000</td>\n",
       "      <td>198.000000</td>\n",
       "      <td>0.0</td>\n",
       "    </tr>\n",
       "    <tr>\n",
       "      <th>mean</th>\n",
       "      <td>41.139747</td>\n",
       "      <td>163.573687</td>\n",
       "      <td>2706.297010</td>\n",
       "      <td>368.178038</td>\n",
       "      <td>566.095536</td>\n",
       "      <td>263.215402</td>\n",
       "      <td>1.273420</td>\n",
       "      <td>9.095960</td>\n",
       "      <td>0.090909</td>\n",
       "      <td>NaN</td>\n",
       "    </tr>\n",
       "    <tr>\n",
       "      <th>std</th>\n",
       "      <td>29.720292</td>\n",
       "      <td>115.737428</td>\n",
       "      <td>1172.318152</td>\n",
       "      <td>561.096561</td>\n",
       "      <td>596.780920</td>\n",
       "      <td>416.148330</td>\n",
       "      <td>0.905602</td>\n",
       "      <td>1.350271</td>\n",
       "      <td>0.924466</td>\n",
       "      <td>NaN</td>\n",
       "    </tr>\n",
       "    <tr>\n",
       "      <th>min</th>\n",
       "      <td>0.000000</td>\n",
       "      <td>0.000000</td>\n",
       "      <td>0.000000</td>\n",
       "      <td>-126.390850</td>\n",
       "      <td>-2.296150</td>\n",
       "      <td>-769.057670</td>\n",
       "      <td>0.000000</td>\n",
       "      <td>9.000000</td>\n",
       "      <td>0.000000</td>\n",
       "      <td>NaN</td>\n",
       "    </tr>\n",
       "    <tr>\n",
       "      <th>25%</th>\n",
       "      <td>6.497500</td>\n",
       "      <td>62.180000</td>\n",
       "      <td>1801.450910</td>\n",
       "      <td>-22.540672</td>\n",
       "      <td>1.278930</td>\n",
       "      <td>3.223890</td>\n",
       "      <td>0.416580</td>\n",
       "      <td>9.000000</td>\n",
       "      <td>0.000000</td>\n",
       "      <td>NaN</td>\n",
       "    </tr>\n",
       "    <tr>\n",
       "      <th>50%</th>\n",
       "      <td>48.695000</td>\n",
       "      <td>94.205000</td>\n",
       "      <td>2927.133530</td>\n",
       "      <td>0.433530</td>\n",
       "      <td>298.824790</td>\n",
       "      <td>161.844205</td>\n",
       "      <td>1.322410</td>\n",
       "      <td>9.000000</td>\n",
       "      <td>0.000000</td>\n",
       "      <td>NaN</td>\n",
       "    </tr>\n",
       "    <tr>\n",
       "      <th>75%</th>\n",
       "      <td>61.327500</td>\n",
       "      <td>275.402500</td>\n",
       "      <td>3800.089963</td>\n",
       "      <td>798.015837</td>\n",
       "      <td>1255.708347</td>\n",
       "      <td>654.549260</td>\n",
       "      <td>1.939288</td>\n",
       "      <td>9.000000</td>\n",
       "      <td>0.000000</td>\n",
       "      <td>NaN</td>\n",
       "    </tr>\n",
       "    <tr>\n",
       "      <th>max</th>\n",
       "      <td>87.420000</td>\n",
       "      <td>358.830000</td>\n",
       "      <td>4105.139510</td>\n",
       "      <td>1625.431220</td>\n",
       "      <td>1435.447180</td>\n",
       "      <td>895.568120</td>\n",
       "      <td>3.957380</td>\n",
       "      <td>28.000000</td>\n",
       "      <td>11.000000</td>\n",
       "      <td>NaN</td>\n",
       "    </tr>\n",
       "  </tbody>\n",
       "</table>\n",
       "</div>"
      ],
      "text/plain": [
       "             INCL        AZIM          TVD         VSEC           ND  \\\n",
       "count  198.000000  198.000000   198.000000   198.000000   198.000000   \n",
       "mean    41.139747  163.573687  2706.297010   368.178038   566.095536   \n",
       "std     29.720292  115.737428  1172.318152   561.096561   596.780920   \n",
       "min      0.000000    0.000000     0.000000  -126.390850    -2.296150   \n",
       "25%      6.497500   62.180000  1801.450910   -22.540672     1.278930   \n",
       "50%     48.695000   94.205000  2927.133530     0.433530   298.824790   \n",
       "75%     61.327500  275.402500  3800.089963   798.015837  1255.708347   \n",
       "max     87.420000  358.830000  4105.139510  1625.431220  1435.447180   \n",
       "\n",
       "               ED         DLS          QI          DI   CI  \n",
       "count  198.000000  198.000000  198.000000  198.000000  0.0  \n",
       "mean   263.215402    1.273420    9.095960    0.090909  NaN  \n",
       "std    416.148330    0.905602    1.350271    0.924466  NaN  \n",
       "min   -769.057670    0.000000    9.000000    0.000000  NaN  \n",
       "25%      3.223890    0.416580    9.000000    0.000000  NaN  \n",
       "50%    161.844205    1.322410    9.000000    0.000000  NaN  \n",
       "75%    654.549260    1.939288    9.000000    0.000000  NaN  \n",
       "max    895.568120    3.957380   28.000000   11.000000  NaN  "
      ]
     },
     "execution_count": 22,
     "metadata": {},
     "output_type": "execute_result"
    }
   ],
   "source": [
    "dfs['150930_IOA_F56_BDC-1B-01_UT.las'].describe()"
   ]
  },
  {
   "cell_type": "code",
   "execution_count": 23,
   "metadata": {},
   "outputs": [
    {
     "data": {
      "text/html": [
       "<div>\n",
       "<style scoped>\n",
       "    .dataframe tbody tr th:only-of-type {\n",
       "        vertical-align: middle;\n",
       "    }\n",
       "\n",
       "    .dataframe tbody tr th {\n",
       "        vertical-align: top;\n",
       "    }\n",
       "\n",
       "    .dataframe thead th {\n",
       "        text-align: right;\n",
       "    }\n",
       "</style>\n",
       "<table border=\"1\" class=\"dataframe\">\n",
       "  <thead>\n",
       "    <tr style=\"text-align: right;\">\n",
       "      <th></th>\n",
       "      <th>INCL</th>\n",
       "      <th>AZIM</th>\n",
       "      <th>TVD</th>\n",
       "      <th>VSEC</th>\n",
       "      <th>ND</th>\n",
       "      <th>ED</th>\n",
       "      <th>DLS</th>\n",
       "      <th>QI</th>\n",
       "      <th>DI</th>\n",
       "      <th>CI</th>\n",
       "    </tr>\n",
       "    <tr>\n",
       "      <th>MD</th>\n",
       "      <th></th>\n",
       "      <th></th>\n",
       "      <th></th>\n",
       "      <th></th>\n",
       "      <th></th>\n",
       "      <th></th>\n",
       "      <th></th>\n",
       "      <th></th>\n",
       "      <th></th>\n",
       "      <th></th>\n",
       "    </tr>\n",
       "  </thead>\n",
       "  <tbody>\n",
       "    <tr>\n",
       "      <th>0.00</th>\n",
       "      <td>0.00</td>\n",
       "      <td>90.00</td>\n",
       "      <td>0.00000</td>\n",
       "      <td>0.00000</td>\n",
       "      <td>0.00000</td>\n",
       "      <td>0.00000</td>\n",
       "      <td>0.00000</td>\n",
       "      <td>28.0</td>\n",
       "      <td>0.0</td>\n",
       "      <td>NaN</td>\n",
       "    </tr>\n",
       "    <tr>\n",
       "      <th>261.20</th>\n",
       "      <td>0.00</td>\n",
       "      <td>0.00</td>\n",
       "      <td>261.20000</td>\n",
       "      <td>0.00000</td>\n",
       "      <td>0.00000</td>\n",
       "      <td>0.00000</td>\n",
       "      <td>0.00000</td>\n",
       "      <td>9.0</td>\n",
       "      <td>11.0</td>\n",
       "      <td>NaN</td>\n",
       "    </tr>\n",
       "    <tr>\n",
       "      <th>297.22</th>\n",
       "      <td>0.50</td>\n",
       "      <td>62.33</td>\n",
       "      <td>297.21954</td>\n",
       "      <td>-0.00344</td>\n",
       "      <td>0.07298</td>\n",
       "      <td>0.13919</td>\n",
       "      <td>0.41644</td>\n",
       "      <td>9.0</td>\n",
       "      <td>0.0</td>\n",
       "      <td>NaN</td>\n",
       "    </tr>\n",
       "    <tr>\n",
       "      <th>309.06</th>\n",
       "      <td>0.26</td>\n",
       "      <td>22.51</td>\n",
       "      <td>309.05929</td>\n",
       "      <td>0.01218</td>\n",
       "      <td>0.12179</td>\n",
       "      <td>0.19523</td>\n",
       "      <td>0.87003</td>\n",
       "      <td>9.0</td>\n",
       "      <td>0.0</td>\n",
       "      <td>NaN</td>\n",
       "    </tr>\n",
       "    <tr>\n",
       "      <th>350.21</th>\n",
       "      <td>0.78</td>\n",
       "      <td>43.04</td>\n",
       "      <td>350.20748</td>\n",
       "      <td>0.15710</td>\n",
       "      <td>0.41276</td>\n",
       "      <td>0.42214</td>\n",
       "      <td>0.39675</td>\n",
       "      <td>9.0</td>\n",
       "      <td>0.0</td>\n",
       "      <td>NaN</td>\n",
       "    </tr>\n",
       "  </tbody>\n",
       "</table>\n",
       "</div>"
      ],
      "text/plain": [
       "        INCL   AZIM        TVD     VSEC       ND       ED      DLS    QI  \\\n",
       "MD                                                                         \n",
       "0.00    0.00  90.00    0.00000  0.00000  0.00000  0.00000  0.00000  28.0   \n",
       "261.20  0.00   0.00  261.20000  0.00000  0.00000  0.00000  0.00000   9.0   \n",
       "297.22  0.50  62.33  297.21954 -0.00344  0.07298  0.13919  0.41644   9.0   \n",
       "309.06  0.26  22.51  309.05929  0.01218  0.12179  0.19523  0.87003   9.0   \n",
       "350.21  0.78  43.04  350.20748  0.15710  0.41276  0.42214  0.39675   9.0   \n",
       "\n",
       "          DI  CI  \n",
       "MD                \n",
       "0.00     0.0 NaN  \n",
       "261.20  11.0 NaN  \n",
       "297.22   0.0 NaN  \n",
       "309.06   0.0 NaN  \n",
       "350.21   0.0 NaN  "
      ]
     },
     "execution_count": 23,
     "metadata": {},
     "output_type": "execute_result"
    }
   ],
   "source": [
    "dfs['150930_IOA_F56_BDC-1B-01_UT.las'].head()"
   ]
  },
  {
   "cell_type": "code",
   "execution_count": 24,
   "metadata": {},
   "outputs": [
    {
     "data": {
      "text/html": [
       "<div>\n",
       "<style scoped>\n",
       "    .dataframe tbody tr th:only-of-type {\n",
       "        vertical-align: middle;\n",
       "    }\n",
       "\n",
       "    .dataframe tbody tr th {\n",
       "        vertical-align: top;\n",
       "    }\n",
       "\n",
       "    .dataframe thead th {\n",
       "        text-align: right;\n",
       "    }\n",
       "</style>\n",
       "<table border=\"1\" class=\"dataframe\">\n",
       "  <thead>\n",
       "    <tr style=\"text-align: right;\">\n",
       "      <th></th>\n",
       "      <th>TIME</th>\n",
       "      <th>DEPTH</th>\n",
       "      <th>TVD</th>\n",
       "      <th>ROP5</th>\n",
       "      <th>BLKP</th>\n",
       "      <th>HKLA</th>\n",
       "      <th>STOR</th>\n",
       "      <th>SWOB</th>\n",
       "      <th>RPM</th>\n",
       "      <th>CRPM</th>\n",
       "      <th>...</th>\n",
       "      <th>TRPM</th>\n",
       "      <th>DHAT</th>\n",
       "      <th>DHAP</th>\n",
       "      <th>ECD</th>\n",
       "      <th>TEMP_DNI</th>\n",
       "      <th>VIB_X</th>\n",
       "      <th>VIB_LAT</th>\n",
       "      <th>OBTM</th>\n",
       "      <th>SHKRSK</th>\n",
       "      <th>SHKPK</th>\n",
       "    </tr>\n",
       "    <tr>\n",
       "      <th>TIME_1900</th>\n",
       "      <th></th>\n",
       "      <th></th>\n",
       "      <th></th>\n",
       "      <th></th>\n",
       "      <th></th>\n",
       "      <th></th>\n",
       "      <th></th>\n",
       "      <th></th>\n",
       "      <th></th>\n",
       "      <th></th>\n",
       "      <th></th>\n",
       "      <th></th>\n",
       "      <th></th>\n",
       "      <th></th>\n",
       "      <th></th>\n",
       "      <th></th>\n",
       "      <th></th>\n",
       "      <th></th>\n",
       "      <th></th>\n",
       "      <th></th>\n",
       "      <th></th>\n",
       "    </tr>\n",
       "  </thead>\n",
       "  <tbody>\n",
       "    <tr>\n",
       "      <th>42224.687500</th>\n",
       "      <td>16:30:00/08-Aug-2015</td>\n",
       "      <td>227.98000</td>\n",
       "      <td>227.98000</td>\n",
       "      <td>NaN</td>\n",
       "      <td>1.00799</td>\n",
       "      <td>139.72369</td>\n",
       "      <td>-0.04</td>\n",
       "      <td>32.45546</td>\n",
       "      <td>0.0</td>\n",
       "      <td>NaN</td>\n",
       "      <td>...</td>\n",
       "      <td>NaN</td>\n",
       "      <td>NaN</td>\n",
       "      <td>NaN</td>\n",
       "      <td>NaN</td>\n",
       "      <td>NaN</td>\n",
       "      <td>NaN</td>\n",
       "      <td>NaN</td>\n",
       "      <td>0.0</td>\n",
       "      <td>NaN</td>\n",
       "      <td>NaN</td>\n",
       "    </tr>\n",
       "    <tr>\n",
       "      <th>42224.687616</th>\n",
       "      <td>16:30:10/08-Aug-2015</td>\n",
       "      <td>227.98000</td>\n",
       "      <td>227.98000</td>\n",
       "      <td>NaN</td>\n",
       "      <td>1.00799</td>\n",
       "      <td>139.61573</td>\n",
       "      <td>-0.04</td>\n",
       "      <td>32.57123</td>\n",
       "      <td>0.0</td>\n",
       "      <td>NaN</td>\n",
       "      <td>...</td>\n",
       "      <td>NaN</td>\n",
       "      <td>NaN</td>\n",
       "      <td>NaN</td>\n",
       "      <td>NaN</td>\n",
       "      <td>NaN</td>\n",
       "      <td>NaN</td>\n",
       "      <td>NaN</td>\n",
       "      <td>0.0</td>\n",
       "      <td>NaN</td>\n",
       "      <td>NaN</td>\n",
       "    </tr>\n",
       "    <tr>\n",
       "      <th>42224.687731</th>\n",
       "      <td>16:30:20/08-Aug-2015</td>\n",
       "      <td>227.98000</td>\n",
       "      <td>227.98000</td>\n",
       "      <td>NaN</td>\n",
       "      <td>1.00799</td>\n",
       "      <td>139.65374</td>\n",
       "      <td>-0.04</td>\n",
       "      <td>32.56757</td>\n",
       "      <td>0.0</td>\n",
       "      <td>NaN</td>\n",
       "      <td>...</td>\n",
       "      <td>NaN</td>\n",
       "      <td>NaN</td>\n",
       "      <td>NaN</td>\n",
       "      <td>NaN</td>\n",
       "      <td>NaN</td>\n",
       "      <td>NaN</td>\n",
       "      <td>NaN</td>\n",
       "      <td>0.0</td>\n",
       "      <td>NaN</td>\n",
       "      <td>NaN</td>\n",
       "    </tr>\n",
       "    <tr>\n",
       "      <th>42224.687847</th>\n",
       "      <td>16:30:30/08-Aug-2015</td>\n",
       "      <td>227.98000</td>\n",
       "      <td>227.98000</td>\n",
       "      <td>NaN</td>\n",
       "      <td>1.00799</td>\n",
       "      <td>139.71838</td>\n",
       "      <td>-0.04</td>\n",
       "      <td>32.47504</td>\n",
       "      <td>0.0</td>\n",
       "      <td>NaN</td>\n",
       "      <td>...</td>\n",
       "      <td>NaN</td>\n",
       "      <td>NaN</td>\n",
       "      <td>NaN</td>\n",
       "      <td>NaN</td>\n",
       "      <td>NaN</td>\n",
       "      <td>NaN</td>\n",
       "      <td>NaN</td>\n",
       "      <td>0.0</td>\n",
       "      <td>NaN</td>\n",
       "      <td>NaN</td>\n",
       "    </tr>\n",
       "    <tr>\n",
       "      <th>42224.687963</th>\n",
       "      <td>16:30:40/08-Aug-2015</td>\n",
       "      <td>227.98000</td>\n",
       "      <td>227.98000</td>\n",
       "      <td>NaN</td>\n",
       "      <td>1.00799</td>\n",
       "      <td>139.83361</td>\n",
       "      <td>-0.05</td>\n",
       "      <td>32.37449</td>\n",
       "      <td>0.0</td>\n",
       "      <td>NaN</td>\n",
       "      <td>...</td>\n",
       "      <td>NaN</td>\n",
       "      <td>NaN</td>\n",
       "      <td>NaN</td>\n",
       "      <td>NaN</td>\n",
       "      <td>NaN</td>\n",
       "      <td>NaN</td>\n",
       "      <td>NaN</td>\n",
       "      <td>0.0</td>\n",
       "      <td>NaN</td>\n",
       "      <td>NaN</td>\n",
       "    </tr>\n",
       "    <tr>\n",
       "      <th>...</th>\n",
       "      <td>...</td>\n",
       "      <td>...</td>\n",
       "      <td>...</td>\n",
       "      <td>...</td>\n",
       "      <td>...</td>\n",
       "      <td>...</td>\n",
       "      <td>...</td>\n",
       "      <td>...</td>\n",
       "      <td>...</td>\n",
       "      <td>...</td>\n",
       "      <td>...</td>\n",
       "      <td>...</td>\n",
       "      <td>...</td>\n",
       "      <td>...</td>\n",
       "      <td>...</td>\n",
       "      <td>...</td>\n",
       "      <td>...</td>\n",
       "      <td>...</td>\n",
       "      <td>...</td>\n",
       "      <td>...</td>\n",
       "      <td>...</td>\n",
       "    </tr>\n",
       "    <tr>\n",
       "      <th>42225.395370</th>\n",
       "      <td>09:29:20/09-Aug-2015</td>\n",
       "      <td>64.99947</td>\n",
       "      <td>64.99947</td>\n",
       "      <td>NaN</td>\n",
       "      <td>-0.14386</td>\n",
       "      <td>58.16842</td>\n",
       "      <td>-0.06</td>\n",
       "      <td>0.00000</td>\n",
       "      <td>0.0</td>\n",
       "      <td>NaN</td>\n",
       "      <td>...</td>\n",
       "      <td>NaN</td>\n",
       "      <td>NaN</td>\n",
       "      <td>NaN</td>\n",
       "      <td>NaN</td>\n",
       "      <td>NaN</td>\n",
       "      <td>NaN</td>\n",
       "      <td>NaN</td>\n",
       "      <td>1.0</td>\n",
       "      <td>NaN</td>\n",
       "      <td>NaN</td>\n",
       "    </tr>\n",
       "    <tr>\n",
       "      <th>42225.395486</th>\n",
       "      <td>09:29:30/09-Aug-2015</td>\n",
       "      <td>64.99947</td>\n",
       "      <td>64.99947</td>\n",
       "      <td>NaN</td>\n",
       "      <td>0.39938</td>\n",
       "      <td>51.91119</td>\n",
       "      <td>-0.06</td>\n",
       "      <td>0.00000</td>\n",
       "      <td>0.0</td>\n",
       "      <td>NaN</td>\n",
       "      <td>...</td>\n",
       "      <td>NaN</td>\n",
       "      <td>NaN</td>\n",
       "      <td>NaN</td>\n",
       "      <td>NaN</td>\n",
       "      <td>NaN</td>\n",
       "      <td>NaN</td>\n",
       "      <td>NaN</td>\n",
       "      <td>1.0</td>\n",
       "      <td>NaN</td>\n",
       "      <td>NaN</td>\n",
       "    </tr>\n",
       "    <tr>\n",
       "      <th>42225.395602</th>\n",
       "      <td>09:29:40/09-Aug-2015</td>\n",
       "      <td>64.99947</td>\n",
       "      <td>64.99947</td>\n",
       "      <td>NaN</td>\n",
       "      <td>3.25771</td>\n",
       "      <td>53.40288</td>\n",
       "      <td>-0.06</td>\n",
       "      <td>0.00000</td>\n",
       "      <td>0.0</td>\n",
       "      <td>NaN</td>\n",
       "      <td>...</td>\n",
       "      <td>NaN</td>\n",
       "      <td>NaN</td>\n",
       "      <td>NaN</td>\n",
       "      <td>NaN</td>\n",
       "      <td>NaN</td>\n",
       "      <td>NaN</td>\n",
       "      <td>NaN</td>\n",
       "      <td>1.0</td>\n",
       "      <td>NaN</td>\n",
       "      <td>NaN</td>\n",
       "    </tr>\n",
       "    <tr>\n",
       "      <th>42225.395718</th>\n",
       "      <td>09:29:50/09-Aug-2015</td>\n",
       "      <td>64.99947</td>\n",
       "      <td>64.99947</td>\n",
       "      <td>NaN</td>\n",
       "      <td>6.06974</td>\n",
       "      <td>54.05737</td>\n",
       "      <td>-0.06</td>\n",
       "      <td>0.00000</td>\n",
       "      <td>0.0</td>\n",
       "      <td>NaN</td>\n",
       "      <td>...</td>\n",
       "      <td>NaN</td>\n",
       "      <td>NaN</td>\n",
       "      <td>NaN</td>\n",
       "      <td>NaN</td>\n",
       "      <td>NaN</td>\n",
       "      <td>NaN</td>\n",
       "      <td>NaN</td>\n",
       "      <td>1.0</td>\n",
       "      <td>NaN</td>\n",
       "      <td>NaN</td>\n",
       "    </tr>\n",
       "    <tr>\n",
       "      <th>42225.395833</th>\n",
       "      <td>09:30:00/09-Aug-2015</td>\n",
       "      <td>64.99947</td>\n",
       "      <td>64.99947</td>\n",
       "      <td>NaN</td>\n",
       "      <td>8.32584</td>\n",
       "      <td>61.11615</td>\n",
       "      <td>-0.06</td>\n",
       "      <td>0.00000</td>\n",
       "      <td>0.0</td>\n",
       "      <td>NaN</td>\n",
       "      <td>...</td>\n",
       "      <td>NaN</td>\n",
       "      <td>NaN</td>\n",
       "      <td>NaN</td>\n",
       "      <td>NaN</td>\n",
       "      <td>NaN</td>\n",
       "      <td>NaN</td>\n",
       "      <td>NaN</td>\n",
       "      <td>1.0</td>\n",
       "      <td>NaN</td>\n",
       "      <td>NaN</td>\n",
       "    </tr>\n",
       "  </tbody>\n",
       "</table>\n",
       "<p>6121 rows × 25 columns</p>\n",
       "</div>"
      ],
      "text/plain": [
       "                              TIME      DEPTH        TVD  ROP5     BLKP  \\\n",
       "TIME_1900                                                                 \n",
       "42224.687500  16:30:00/08-Aug-2015  227.98000  227.98000   NaN  1.00799   \n",
       "42224.687616  16:30:10/08-Aug-2015  227.98000  227.98000   NaN  1.00799   \n",
       "42224.687731  16:30:20/08-Aug-2015  227.98000  227.98000   NaN  1.00799   \n",
       "42224.687847  16:30:30/08-Aug-2015  227.98000  227.98000   NaN  1.00799   \n",
       "42224.687963  16:30:40/08-Aug-2015  227.98000  227.98000   NaN  1.00799   \n",
       "...                            ...        ...        ...   ...      ...   \n",
       "42225.395370  09:29:20/09-Aug-2015   64.99947   64.99947   NaN -0.14386   \n",
       "42225.395486  09:29:30/09-Aug-2015   64.99947   64.99947   NaN  0.39938   \n",
       "42225.395602  09:29:40/09-Aug-2015   64.99947   64.99947   NaN  3.25771   \n",
       "42225.395718  09:29:50/09-Aug-2015   64.99947   64.99947   NaN  6.06974   \n",
       "42225.395833  09:30:00/09-Aug-2015   64.99947   64.99947   NaN  8.32584   \n",
       "\n",
       "                   HKLA  STOR      SWOB  RPM  CRPM  ...  TRPM  DHAT  DHAP  \\\n",
       "TIME_1900                                           ...                     \n",
       "42224.687500  139.72369 -0.04  32.45546  0.0   NaN  ...   NaN   NaN   NaN   \n",
       "42224.687616  139.61573 -0.04  32.57123  0.0   NaN  ...   NaN   NaN   NaN   \n",
       "42224.687731  139.65374 -0.04  32.56757  0.0   NaN  ...   NaN   NaN   NaN   \n",
       "42224.687847  139.71838 -0.04  32.47504  0.0   NaN  ...   NaN   NaN   NaN   \n",
       "42224.687963  139.83361 -0.05  32.37449  0.0   NaN  ...   NaN   NaN   NaN   \n",
       "...                 ...   ...       ...  ...   ...  ...   ...   ...   ...   \n",
       "42225.395370   58.16842 -0.06   0.00000  0.0   NaN  ...   NaN   NaN   NaN   \n",
       "42225.395486   51.91119 -0.06   0.00000  0.0   NaN  ...   NaN   NaN   NaN   \n",
       "42225.395602   53.40288 -0.06   0.00000  0.0   NaN  ...   NaN   NaN   NaN   \n",
       "42225.395718   54.05737 -0.06   0.00000  0.0   NaN  ...   NaN   NaN   NaN   \n",
       "42225.395833   61.11615 -0.06   0.00000  0.0   NaN  ...   NaN   NaN   NaN   \n",
       "\n",
       "              ECD  TEMP_DNI  VIB_X  VIB_LAT  OBTM  SHKRSK  SHKPK  \n",
       "TIME_1900                                                         \n",
       "42224.687500  NaN       NaN    NaN      NaN   0.0     NaN    NaN  \n",
       "42224.687616  NaN       NaN    NaN      NaN   0.0     NaN    NaN  \n",
       "42224.687731  NaN       NaN    NaN      NaN   0.0     NaN    NaN  \n",
       "42224.687847  NaN       NaN    NaN      NaN   0.0     NaN    NaN  \n",
       "42224.687963  NaN       NaN    NaN      NaN   0.0     NaN    NaN  \n",
       "...           ...       ...    ...      ...   ...     ...    ...  \n",
       "42225.395370  NaN       NaN    NaN      NaN   1.0     NaN    NaN  \n",
       "42225.395486  NaN       NaN    NaN      NaN   1.0     NaN    NaN  \n",
       "42225.395602  NaN       NaN    NaN      NaN   1.0     NaN    NaN  \n",
       "42225.395718  NaN       NaN    NaN      NaN   1.0     NaN    NaN  \n",
       "42225.395833  NaN       NaN    NaN      NaN   1.0     NaN    NaN  \n",
       "\n",
       "[6121 rows x 25 columns]"
      ]
     },
     "execution_count": 24,
     "metadata": {},
     "output_type": "execute_result"
    }
   ],
   "source": [
    "dfs['150930_IOA_F56_BDC-1B-01_DML_Run_01.las']"
   ]
  },
  {
   "cell_type": "code",
   "execution_count": 25,
   "metadata": {},
   "outputs": [
    {
     "name": "stderr",
     "output_type": "stream",
     "text": [
      "  9%|▉         | 1/11 [00:02<00:21,  2.12s/it]"
     ]
    },
    {
     "name": "stdout",
     "output_type": "stream",
     "text": [
      "Reading file 150930_IOA_F56_BDC-1B-01_DML_6109.las...\n"
     ]
    },
    {
     "name": "stderr",
     "output_type": "stream",
     "text": [
      " 18%|█▊        | 2/11 [00:03<00:17,  1.91s/it]"
     ]
    },
    {
     "name": "stdout",
     "output_type": "stream",
     "text": [
      "Reading file 150930_IOA_F56_BDC-1B-01_DML_Run_01.las...\n"
     ]
    },
    {
     "name": "stderr",
     "output_type": "stream",
     "text": [
      " 27%|██▋       | 3/11 [00:06<00:16,  2.08s/it]"
     ]
    },
    {
     "name": "stdout",
     "output_type": "stream",
     "text": [
      "Reading file 150930_IOA_F56_BDC-1B-01_DML_Run_02.las...\n"
     ]
    },
    {
     "name": "stderr",
     "output_type": "stream",
     "text": [
      " 36%|███▋      | 4/11 [00:17<00:39,  5.58s/it]"
     ]
    },
    {
     "name": "stdout",
     "output_type": "stream",
     "text": [
      "Reading file 150930_IOA_F56_BDC-1B-01_DML_Run_03.las...\n"
     ]
    },
    {
     "name": "stderr",
     "output_type": "stream",
     "text": [
      " 45%|████▌     | 5/11 [01:06<02:07, 21.25s/it]"
     ]
    },
    {
     "name": "stdout",
     "output_type": "stream",
     "text": [
      "Reading file 150930_IOA_F56_BDC-1B-01_DML_Run_04.las...\n"
     ]
    },
    {
     "name": "stderr",
     "output_type": "stream",
     "text": [
      " 55%|█████▍    | 6/11 [01:20<01:35, 19.00s/it]"
     ]
    },
    {
     "name": "stdout",
     "output_type": "stream",
     "text": [
      "Reading file 150930_IOA_F56_BDC-1B-01_DML_Run_05.las...\n"
     ]
    },
    {
     "name": "stderr",
     "output_type": "stream",
     "text": [
      " 64%|██████▎   | 7/11 [01:35<01:10, 17.68s/it]"
     ]
    },
    {
     "name": "stdout",
     "output_type": "stream",
     "text": [
      "Reading file 150930_IOA_F56_BDC-1B-01_DML_Run_06.las...\n"
     ]
    },
    {
     "name": "stderr",
     "output_type": "stream",
     "text": [
      "100%|██████████| 11/11 [01:41<00:00,  9.23s/it]\n"
     ]
    },
    {
     "name": "stdout",
     "output_type": "stream",
     "text": [
      "Reading file 150930_IOA_F56_BDC-1B-01_LWD_6109.las...\n",
      "Reading file 150930_IOA_F56_BDC-1B-01_UT.las...\n"
     ]
    },
    {
     "name": "stderr",
     "output_type": "stream",
     "text": [
      "100%|██████████| 9/9 [00:00<?, ?it/s]\n"
     ]
    },
    {
     "name": "stdout",
     "output_type": "stream",
     "text": [
      "Common columns: {'TVD'}\n"
     ]
    },
    {
     "name": "stderr",
     "output_type": "stream",
     "text": [
      "100%|██████████| 9/9 [00:00<00:00, 330.13it/s]"
     ]
    },
    {
     "name": "stdout",
     "output_type": "stream",
     "text": [
      "File 150930_IOA_F56_BDC-1B-01_DML_6109.las has all common columns.\n",
      "DataFrame for 150930_IOA_F56_BDC-1B-01_DML_6109.las:\n",
      "                TVD\n",
      "DEPT              \n",
      "261.0612  261.0612\n",
      "261.2136  261.2136\n",
      "261.3660  261.3660\n",
      "261.5184  261.5184\n",
      "261.6708  261.6708\n",
      "File 150930_IOA_F56_BDC-1B-01_DML_Run_01.las has all common columns.\n",
      "DataFrame for 150930_IOA_F56_BDC-1B-01_DML_Run_01.las:\n",
      "                  TVD\n",
      "TIME_1900           \n",
      "42224.687500  227.98\n",
      "42224.687616  227.98\n",
      "42224.687731  227.98\n",
      "42224.687847  227.98\n",
      "42224.687963  227.98\n",
      "File 150930_IOA_F56_BDC-1B-01_DML_Run_02.las has all common columns.\n",
      "DataFrame for 150930_IOA_F56_BDC-1B-01_DML_Run_02.las:\n",
      "                    TVD\n",
      "TIME_1900             \n",
      "42226.650903  257.1167\n",
      "42226.651019  257.1167\n",
      "42226.651134  257.1167\n",
      "42226.651250  257.1167\n",
      "42226.651366  257.1167\n",
      "File 150930_IOA_F56_BDC-1B-01_DML_Run_03.las has all common columns.\n",
      "DataFrame for 150930_IOA_F56_BDC-1B-01_DML_Run_03.las:\n",
      "                    TVD\n",
      "TIME_1900             \n",
      "42229.708333  149.6302\n",
      "42229.708449  150.3001\n",
      "42229.708565  151.9052\n",
      "42229.708681  154.7740\n",
      "42229.708796  158.4823\n",
      "File 150930_IOA_F56_BDC-1B-01_DML_Run_04.las has all common columns.\n",
      "DataFrame for 150930_IOA_F56_BDC-1B-01_DML_Run_04.las:\n",
      "                TVD\n",
      "TIME_1900         \n",
      "42239.380058  47.0\n",
      "42239.380174  47.0\n",
      "42239.380289  47.0\n",
      "42239.380405  47.0\n",
      "42239.380521  47.0\n",
      "File 150930_IOA_F56_BDC-1B-01_DML_Run_05.las has all common columns.\n",
      "DataFrame for 150930_IOA_F56_BDC-1B-01_DML_Run_05.las:\n",
      "                    TVD\n",
      "TIME_1900             \n",
      "42267.732118  236.6018\n",
      "42267.732234  236.6018\n",
      "42267.732350  236.6018\n",
      "42267.732465  236.6018\n",
      "42267.732581  236.6018\n",
      "File 150930_IOA_F56_BDC-1B-01_DML_Run_06.las has all common columns.\n",
      "DataFrame for 150930_IOA_F56_BDC-1B-01_DML_Run_06.las:\n",
      "               TVD\n",
      "TIME_1900        \n",
      "42273.085567  NaN\n",
      "42273.085683  NaN\n",
      "42273.085799  NaN\n",
      "42273.085914  NaN\n",
      "42273.086030  NaN\n",
      "File 150930_IOA_F56_BDC-1B-01_LWD_6109.las has all common columns.\n",
      "DataFrame for 150930_IOA_F56_BDC-1B-01_LWD_6109.las:\n",
      "                TVD\n",
      "DEPT              \n",
      "261.0612  261.0612\n",
      "261.2136  261.2136\n",
      "261.3660  261.3660\n",
      "261.5184  261.5184\n",
      "261.6708  261.6708\n",
      "File 150930_IOA_F56_BDC-1B-01_UT.las has all common columns.\n",
      "DataFrame for 150930_IOA_F56_BDC-1B-01_UT.las:\n",
      "               TVD\n",
      "MD               \n",
      "0.00      0.00000\n",
      "261.20  261.20000\n",
      "297.22  297.21954\n",
      "309.06  309.05929\n",
      "350.21  350.20748\n"
     ]
    },
    {
     "name": "stderr",
     "output_type": "stream",
     "text": [
      "\n"
     ]
    }
   ],
   "source": [
    "import os\n",
    "import lasio\n",
    "from tqdm import tqdm\n",
    "\n",
    "directory = \"data\"\n",
    "headers = {}\n",
    "dfs = {}\n",
    "\n",
    "for filename in tqdm(os.listdir(directory)):  # loop over files in directory\n",
    "    if filename.endswith(\".las\"):  # check if file is a LAS file\n",
    "        las = lasio.read(os.path.join(directory, filename))  # read LAS file\n",
    "        headers[filename] = las.keys()  # store header of LAS file in dictionary\n",
    "        dfs[filename] = las.df()  # store data of LAS file in dictionary\n",
    "        print(f\"Reading file {filename}...\")  # print message indicating file is being read\n",
    "\n",
    "common_columns = set(headers[list(headers.keys())[0]])  # get columns in first file\n",
    "for header in tqdm(headers.values()):  # loop over headers of all files\n",
    "    common_columns.intersection_update(header)  # update set of common columns\n",
    "\n",
    "if len(common_columns) == 0:  # check if there are any common columns\n",
    "    print(\"No common columns found.\")\n",
    "else:\n",
    "    print(\"Common columns:\", common_columns)  # print common columns\n",
    "    for filename, header in tqdm(headers.items()):  # loop over headers of all files\n",
    "        missing_columns = common_columns - set(header)  # get missing columns\n",
    "        if len(missing_columns) > 0:  # check if there are any missing columns\n",
    "            print(f\"File {filename} is missing columns:\", missing_columns)  # print missing columns\n",
    "        else:\n",
    "            print(f\"File {filename} has all common columns.\")  # print message indicating all columns are present\n",
    "        df = dfs[filename][list(common_columns)]  # get dataframe with common columns\n",
    "        print(f\"DataFrame for {filename}:\\n\", df.head())  # print first few rows of dataframe"
   ]
  },
  {
   "cell_type": "code",
   "execution_count": 27,
   "metadata": {},
   "outputs": [
    {
     "name": "stderr",
     "output_type": "stream",
     "text": [
      "  0%|          | 0/11 [00:00<?, ?it/s]"
     ]
    },
    {
     "name": "stderr",
     "output_type": "stream",
     "text": [
      "  9%|▉         | 1/11 [00:02<00:21,  2.10s/it]"
     ]
    },
    {
     "name": "stdout",
     "output_type": "stream",
     "text": [
      "Reading file 150930_IOA_F56_BDC-1B-01_DML_6109.las...\n"
     ]
    },
    {
     "name": "stderr",
     "output_type": "stream",
     "text": [
      " 18%|█▊        | 2/11 [00:03<00:16,  1.83s/it]"
     ]
    },
    {
     "name": "stdout",
     "output_type": "stream",
     "text": [
      "Reading file 150930_IOA_F56_BDC-1B-01_DML_Run_01.las...\n"
     ]
    },
    {
     "name": "stderr",
     "output_type": "stream",
     "text": [
      " 27%|██▋       | 3/11 [00:05<00:15,  1.99s/it]"
     ]
    },
    {
     "name": "stdout",
     "output_type": "stream",
     "text": [
      "Reading file 150930_IOA_F56_BDC-1B-01_DML_Run_02.las...\n"
     ]
    },
    {
     "name": "stderr",
     "output_type": "stream",
     "text": [
      " 36%|███▋      | 4/11 [00:16<00:38,  5.55s/it]"
     ]
    },
    {
     "name": "stdout",
     "output_type": "stream",
     "text": [
      "Reading file 150930_IOA_F56_BDC-1B-01_DML_Run_03.las...\n"
     ]
    },
    {
     "name": "stderr",
     "output_type": "stream",
     "text": [
      " 45%|████▌     | 5/11 [01:02<01:59, 19.95s/it]"
     ]
    },
    {
     "name": "stdout",
     "output_type": "stream",
     "text": [
      "Reading file 150930_IOA_F56_BDC-1B-01_DML_Run_04.las...\n"
     ]
    },
    {
     "name": "stderr",
     "output_type": "stream",
     "text": [
      " 55%|█████▍    | 6/11 [01:16<01:29, 18.00s/it]"
     ]
    },
    {
     "name": "stdout",
     "output_type": "stream",
     "text": [
      "Reading file 150930_IOA_F56_BDC-1B-01_DML_Run_05.las...\n"
     ]
    },
    {
     "name": "stderr",
     "output_type": "stream",
     "text": [
      " 64%|██████▎   | 7/11 [01:31<01:07, 16.97s/it]"
     ]
    },
    {
     "name": "stdout",
     "output_type": "stream",
     "text": [
      "Reading file 150930_IOA_F56_BDC-1B-01_DML_Run_06.las...\n"
     ]
    },
    {
     "name": "stderr",
     "output_type": "stream",
     "text": [
      "100%|██████████| 11/11 [01:37<00:00,  8.85s/it]"
     ]
    },
    {
     "name": "stdout",
     "output_type": "stream",
     "text": [
      "Reading file 150930_IOA_F56_BDC-1B-01_LWD_6109.las...\n",
      "Reading file 150930_IOA_F56_BDC-1B-01_UT.las...\n"
     ]
    },
    {
     "name": "stderr",
     "output_type": "stream",
     "text": [
      "\n"
     ]
    },
    {
     "name": "stdout",
     "output_type": "stream",
     "text": [
      "Saved 150930_IOA_F56_BDC-1B-01_DML_6109.csv to processed directory.\n",
      "Saved 150930_IOA_F56_BDC-1B-01_DML_Run_01.csv to processed directory.\n",
      "Saved 150930_IOA_F56_BDC-1B-01_DML_Run_02.csv to processed directory.\n",
      "Saved 150930_IOA_F56_BDC-1B-01_DML_Run_03.csv to processed directory.\n",
      "Saved 150930_IOA_F56_BDC-1B-01_DML_Run_04.csv to processed directory.\n",
      "Saved 150930_IOA_F56_BDC-1B-01_DML_Run_05.csv to processed directory.\n",
      "Saved 150930_IOA_F56_BDC-1B-01_DML_Run_06.csv to processed directory.\n",
      "Saved 150930_IOA_F56_BDC-1B-01_LWD_6109.csv to processed directory.\n",
      "Saved 150930_IOA_F56_BDC-1B-01_UT.csv to processed directory.\n"
     ]
    }
   ],
   "source": [
    "import os\n",
    "import lasio\n",
    "from tqdm import tqdm\n",
    "import pandas as pd\n",
    "\n",
    "directory = \"data\"\n",
    "processed_directory = \"processed\"\n",
    "headers = {}\n",
    "dfs = {}\n",
    "\n",
    "# Function to rename columns with depth-related names to 'MD'\n",
    "def rename_depth_columns(df):\n",
    "    for col in df.columns:\n",
    "        if col.lower() in ['depth', 'dept', 'md']:\n",
    "            df.rename(columns={col: 'MD'}, inplace=True)\n",
    "    return df\n",
    "\n",
    "# Function to rename 'ROP5' column to 'ROP'\n",
    "def rename_rop_column(df):\n",
    "    if 'ROP5' in df.columns:\n",
    "        df.rename(columns={'ROP5': 'ROP'}, inplace=True)\n",
    "    return df\n",
    "\n",
    "# Function to add units to column headers\n",
    "def add_units_to_headers(df, units):\n",
    "    new_columns = []\n",
    "    for col in df.columns:\n",
    "        new_col = col\n",
    "        if col not in ['MD', 'ROP']:\n",
    "            new_col += f\" ({units})\"\n",
    "        new_columns.append(new_col)\n",
    "    df.columns = new_columns\n",
    "    return df\n",
    "\n",
    "# Function to add prefix to column headers based on time or depth columns\n",
    "def add_prefix_to_headers(df):\n",
    "    if 'time' in df.columns:\n",
    "        prefix = 'time_'\n",
    "    elif any(col.lower() in ['depth', 'dept', 'md'] for col in df.columns):\n",
    "        prefix = ''\n",
    "        for i, col in enumerate(df.columns):\n",
    "            if col.lower() in ['depth', 'dept', 'md']:\n",
    "                df.rename(columns={col: f\"depth_{col}\"}, inplace=True)\n",
    "    else:\n",
    "        prefix = ''\n",
    "    df.columns = [f\"{prefix}{col}\" for col in df.columns]\n",
    "    return df\n",
    "\n",
    "# Loop over files in directory\n",
    "for filename in tqdm(os.listdir(directory)):\n",
    "    if filename.endswith(\".las\"):\n",
    "        # Read LAS file\n",
    "        las = lasio.read(os.path.join(directory, filename))\n",
    "        # Store header of LAS file in dictionary\n",
    "        headers[filename] = las.keys()\n",
    "        # Store data of LAS file in dictionary\n",
    "        df = las.df()\n",
    "        # Rename depth-related columns to 'MD'\n",
    "        df = rename_depth_columns(df)\n",
    "        # Rename 'ROP5' column to 'ROP'\n",
    "        df = rename_rop_column(df)\n",
    "        # Add units to column headers\n",
    "        df = add_units_to_headers(df, las.curves[0].unit)\n",
    "        # Add prefix to column headers based on time or depth columns\n",
    "        df = add_prefix_to_headers(df)\n",
    "        # Store dataframe in dictionary\n",
    "        dfs[filename] = df\n",
    "        print(f\"Reading file {filename}...\")\n",
    "\n",
    "# Check if processed directory exists, create it if it doesn't\n",
    "if not os.path.exists(processed_directory):\n",
    "    os.makedirs(processed_directory)\n",
    "\n",
    "# Loop over dataframes and save them to CSV files in processed directory\n",
    "for filename, df in dfs.items():\n",
    "    # Change file extension from '.las' to '.csv'\n",
    "    csv_filename = filename.replace('.las', '.csv')\n",
    "    # Save dataframe to CSV file in processed directory\n",
    "    df.to_csv(os.path.join(processed_directory, csv_filename), index=False)\n",
    "    print(f\"Saved {csv_filename} to {processed_directory} directory.\")"
   ]
  },
  {
   "cell_type": "code",
   "execution_count": 29,
   "metadata": {},
   "outputs": [
    {
     "data": {
      "text/plain": [
       "dict_keys(['150930_IOA_F56_BDC-1B-01_DML_6109.las', '150930_IOA_F56_BDC-1B-01_DML_Run_01.las', '150930_IOA_F56_BDC-1B-01_DML_Run_02.las', '150930_IOA_F56_BDC-1B-01_DML_Run_03.las', '150930_IOA_F56_BDC-1B-01_DML_Run_04.las', '150930_IOA_F56_BDC-1B-01_DML_Run_05.las', '150930_IOA_F56_BDC-1B-01_DML_Run_06.las', '150930_IOA_F56_BDC-1B-01_LWD_6109.las', '150930_IOA_F56_BDC-1B-01_UT.las'])"
      ]
     },
     "execution_count": 29,
     "metadata": {},
     "output_type": "execute_result"
    }
   ],
   "source": [
    "dfs.keys()"
   ]
  },
  {
   "cell_type": "code",
   "execution_count": 39,
   "metadata": {},
   "outputs": [
    {
     "name": "stderr",
     "output_type": "stream",
     "text": [
      "  0%|          | 0/11 [00:02<?, ?it/s]\n"
     ]
    },
    {
     "ename": "AttributeError",
     "evalue": "'str' object has no attribute 'curves'",
     "output_type": "error",
     "traceback": [
      "\u001b[1;31m---------------------------------------------------------------------------\u001b[0m",
      "\u001b[1;31mAttributeError\u001b[0m                            Traceback (most recent call last)",
      "Cell \u001b[1;32mIn[39], line 60\u001b[0m\n\u001b[0;32m     58\u001b[0m df \u001b[39m=\u001b[39m rename_rop_column(df)\n\u001b[0;32m     59\u001b[0m \u001b[39m# Add units to column headers\u001b[39;00m\n\u001b[1;32m---> 60\u001b[0m df \u001b[39m=\u001b[39m add_units_to_headers(df, las\u001b[39m.\u001b[39;49mcurves[\u001b[39m0\u001b[39;49m]\u001b[39m.\u001b[39;49munit)\n\u001b[0;32m     61\u001b[0m \u001b[39m# Store dataframe in dictionary with prefix added to name\u001b[39;00m\n\u001b[0;32m     62\u001b[0m dfs[add_prefix_to_df_name(filename\u001b[39m.\u001b[39mreplace(\u001b[39m'\u001b[39m\u001b[39m.las\u001b[39m\u001b[39m'\u001b[39m, \u001b[39m'\u001b[39m\u001b[39m.csv\u001b[39m\u001b[39m'\u001b[39m), df)] \u001b[39m=\u001b[39m df\n",
      "Cell \u001b[1;32mIn[39], line 27\u001b[0m, in \u001b[0;36madd_units_to_headers\u001b[1;34m(df, las)\u001b[0m\n\u001b[0;32m     25\u001b[0m \u001b[39mdef\u001b[39;00m \u001b[39madd_units_to_headers\u001b[39m(df, las):\n\u001b[0;32m     26\u001b[0m     new_columns \u001b[39m=\u001b[39m []\n\u001b[1;32m---> 27\u001b[0m     \u001b[39mif\u001b[39;00m las\u001b[39m.\u001b[39;49mcurves:\n\u001b[0;32m     28\u001b[0m         \u001b[39mfor\u001b[39;00m col, unit \u001b[39min\u001b[39;00m \u001b[39mzip\u001b[39m(df\u001b[39m.\u001b[39mcolumns, las\u001b[39m.\u001b[39mcurves\u001b[39m.\u001b[39munit):\n\u001b[0;32m     29\u001b[0m             new_col \u001b[39m=\u001b[39m \u001b[39mf\u001b[39m\u001b[39m\"\u001b[39m\u001b[39m{\u001b[39;00mcol\u001b[39m}\u001b[39;00m\u001b[39m (\u001b[39m\u001b[39m{\u001b[39;00munit\u001b[39m}\u001b[39;00m\u001b[39m)\u001b[39m\u001b[39m\"\u001b[39m\n",
      "\u001b[1;31mAttributeError\u001b[0m: 'str' object has no attribute 'curves'"
     ]
    }
   ],
   "source": [
    "import os\n",
    "import lasio\n",
    "from tqdm import tqdm\n",
    "import pandas as pd\n",
    "\n",
    "directory = \"data\"\n",
    "processed_directory = \"processed\"\n",
    "headers = {}\n",
    "dfs = {}\n",
    "\n",
    "# Function to rename columns with depth-related names to 'MD'\n",
    "def rename_depth_columns(df):\n",
    "    for col in df.columns:\n",
    "        if col.lower() in ['depth', 'dept', 'md']:\n",
    "            df.rename(columns={col: 'MD'}, inplace=True)\n",
    "    return df\n",
    "\n",
    "# Function to rename 'ROP5' column to 'ROP'\n",
    "def rename_rop_column(df):\n",
    "    if 'ROP5' in df.columns:\n",
    "        df.rename(columns={'ROP5': 'ROP'}, inplace=True)\n",
    "    return df\n",
    "\n",
    "# Function to add units to column headers\n",
    "def add_units_to_headers(df, las):\n",
    "    new_columns = []\n",
    "    if las.curves:\n",
    "        for col, unit in zip(df.columns, las.curves.unit):\n",
    "            new_col = f\"{col} ({unit})\"\n",
    "            new_columns.append(new_col)\n",
    "    else:\n",
    "        new_columns = df.columns\n",
    "    df.columns = new_columns\n",
    "    return df\n",
    "\n",
    "# Function to add prefix to dataframe name based on time or depth columns\n",
    "def add_prefix_to_df_name(df_name, df):\n",
    "    if any(col.lower() == 'time' for col in df.columns):\n",
    "        prefix = 'time_'\n",
    "    elif any(col.lower() in ['depth', 'dept', 'md', 'tvd'] for col in df.columns):\n",
    "        prefix = 'depth_'\n",
    "    else:\n",
    "        prefix = ''\n",
    "    return f\"{prefix}{df_name}\"\n",
    "\n",
    "# Loop over files in directory\n",
    "for filename in tqdm(os.listdir(directory)):\n",
    "    if filename.endswith(\".las\"):\n",
    "        # Read LAS file\n",
    "        las = lasio.read(os.path.join(directory, filename))\n",
    "        # Store header of LAS file in dictionary\n",
    "        headers[filename] = las.keys()\n",
    "        # Store data of LAS file in dictionary\n",
    "        df = las.df()\n",
    "        # Rename depth-related columns to 'MD'\n",
    "        df = rename_depth_columns(df)\n",
    "        # Rename 'ROP5' column to 'ROP'\n",
    "        df = rename_rop_column(df)\n",
    "        # Add units to column headers\n",
    "        df = add_units_to_headers(df, las.curves[0].unit)\n",
    "        # Store dataframe in dictionary with prefix added to name\n",
    "        dfs[add_prefix_to_df_name(filename.replace('.las', '.csv'), df)] = df\n",
    "        print(f\"Reading file {filename}...\")\n",
    "\n",
    "# Check if processed directory exists, create it if it doesn't\n",
    "if not os.path.exists(processed_directory):\n",
    "    os.makedirs(processed_directory)\n",
    "\n",
    "# Loop over dataframes and save them to CSV files in processed directory\n",
    "for filename, df in dfs.items():\n",
    "    # Save dataframe to CSV file in processed directory with prefix added to name\n",
    "    df.to_csv(os.path.join(processed_directory, filename), index=False)\n",
    "    print(f\"Saved {filename} to {processed_directory} directory.\")"
   ]
  },
  {
   "cell_type": "code",
   "execution_count": 44,
   "metadata": {},
   "outputs": [
    {
     "name": "stderr",
     "output_type": "stream",
     "text": [
      "  0%|          | 0/11 [00:00<?, ?it/s]"
     ]
    },
    {
     "name": "stdout",
     "output_type": "stream",
     "text": [
      "Reading file 150930_IOA_F56_BDC-1B-01_DML_6109.las...\n"
     ]
    },
    {
     "name": "stderr",
     "output_type": "stream",
     "text": [
      "  9%|▉         | 1/11 [00:02<00:20,  2.07s/it]"
     ]
    },
    {
     "name": "stdout",
     "output_type": "stream",
     "text": [
      "Reading file 150930_IOA_F56_BDC-1B-01_DML_Run_01.las...\n"
     ]
    },
    {
     "name": "stderr",
     "output_type": "stream",
     "text": [
      " 18%|█▊        | 2/11 [00:03<00:15,  1.78s/it]"
     ]
    },
    {
     "name": "stdout",
     "output_type": "stream",
     "text": [
      "Reading file 150930_IOA_F56_BDC-1B-01_DML_Run_02.las...\n"
     ]
    },
    {
     "name": "stderr",
     "output_type": "stream",
     "text": [
      " 27%|██▋       | 3/11 [00:05<00:15,  1.93s/it]"
     ]
    },
    {
     "name": "stdout",
     "output_type": "stream",
     "text": [
      "Reading file 150930_IOA_F56_BDC-1B-01_DML_Run_03.las...\n"
     ]
    },
    {
     "name": "stderr",
     "output_type": "stream",
     "text": [
      " 36%|███▋      | 4/11 [00:16<00:39,  5.59s/it]"
     ]
    },
    {
     "name": "stdout",
     "output_type": "stream",
     "text": [
      "Reading file 150930_IOA_F56_BDC-1B-01_DML_Run_04.las...\n"
     ]
    },
    {
     "name": "stderr",
     "output_type": "stream",
     "text": [
      " 45%|████▌     | 5/11 [01:00<01:55, 19.23s/it]"
     ]
    },
    {
     "name": "stdout",
     "output_type": "stream",
     "text": [
      "Reading file 150930_IOA_F56_BDC-1B-01_DML_Run_05.las...\n"
     ]
    },
    {
     "name": "stderr",
     "output_type": "stream",
     "text": [
      " 55%|█████▍    | 6/11 [01:14<01:27, 17.43s/it]"
     ]
    },
    {
     "name": "stdout",
     "output_type": "stream",
     "text": [
      "Reading file 150930_IOA_F56_BDC-1B-01_DML_Run_06.las...\n"
     ]
    },
    {
     "name": "stderr",
     "output_type": "stream",
     "text": [
      " 64%|██████▎   | 7/11 [01:28<01:04, 16.23s/it]"
     ]
    },
    {
     "name": "stdout",
     "output_type": "stream",
     "text": [
      "Reading file 150930_IOA_F56_BDC-1B-01_LWD_6109.las...\n"
     ]
    },
    {
     "name": "stderr",
     "output_type": "stream",
     "text": [
      "100%|██████████| 11/11 [01:33<00:00,  8.47s/it]\n"
     ]
    },
    {
     "name": "stdout",
     "output_type": "stream",
     "text": [
      "Reading file 150930_IOA_F56_BDC-1B-01_UT.las...\n"
     ]
    },
    {
     "name": "stderr",
     "output_type": "stream",
     "text": [
      " 22%|██▏       | 2/9 [00:01<00:03,  2.15it/s]"
     ]
    },
    {
     "name": "stdout",
     "output_type": "stream",
     "text": [
      "Saved depth_150930_IOA_F56_BDC-1B-01_DML_6109.csv to processed directory.\n",
      "Saved depth_150930_IOA_F56_BDC-1B-01_DML_Run_01.csv to processed directory.\n"
     ]
    },
    {
     "name": "stderr",
     "output_type": "stream",
     "text": [
      " 33%|███▎      | 3/9 [00:01<00:02,  2.94it/s]"
     ]
    },
    {
     "name": "stdout",
     "output_type": "stream",
     "text": [
      "Saved depth_150930_IOA_F56_BDC-1B-01_DML_Run_02.csv to processed directory.\n"
     ]
    },
    {
     "name": "stderr",
     "output_type": "stream",
     "text": [
      " 44%|████▍     | 4/9 [00:02<00:03,  1.60it/s]"
     ]
    },
    {
     "name": "stdout",
     "output_type": "stream",
     "text": [
      "Saved depth_150930_IOA_F56_BDC-1B-01_DML_Run_03.csv to processed directory.\n"
     ]
    },
    {
     "name": "stderr",
     "output_type": "stream",
     "text": [
      " 56%|█████▌    | 5/9 [00:06<00:07,  1.76s/it]"
     ]
    },
    {
     "name": "stdout",
     "output_type": "stream",
     "text": [
      "Saved depth_150930_IOA_F56_BDC-1B-01_DML_Run_04.csv to processed directory.\n"
     ]
    },
    {
     "name": "stderr",
     "output_type": "stream",
     "text": [
      " 67%|██████▋   | 6/9 [00:07<00:04,  1.57s/it]"
     ]
    },
    {
     "name": "stdout",
     "output_type": "stream",
     "text": [
      "Saved depth_150930_IOA_F56_BDC-1B-01_DML_Run_05.csv to processed directory.\n"
     ]
    },
    {
     "name": "stderr",
     "output_type": "stream",
     "text": [
      " 78%|███████▊  | 7/9 [00:08<00:02,  1.43s/it]"
     ]
    },
    {
     "name": "stdout",
     "output_type": "stream",
     "text": [
      "Saved depth_150930_IOA_F56_BDC-1B-01_DML_Run_06.csv to processed directory.\n"
     ]
    },
    {
     "name": "stderr",
     "output_type": "stream",
     "text": [
      "100%|██████████| 9/9 [00:11<00:00,  1.28s/it]"
     ]
    },
    {
     "name": "stdout",
     "output_type": "stream",
     "text": [
      "Saved depth_150930_IOA_F56_BDC-1B-01_LWD_6109.csv to processed directory.\n",
      "Saved 150930_IOA_F56_BDC-1B-01_UT.csv to processed directory.\n"
     ]
    },
    {
     "name": "stderr",
     "output_type": "stream",
     "text": [
      "\n"
     ]
    }
   ],
   "source": [
    "import os\n",
    "import lasio\n",
    "from tqdm import tqdm\n",
    "import pandas as pd\n",
    "\n",
    "directory = \"data\"\n",
    "processed_directory = \"processed\"\n",
    "headers = {}\n",
    "dfs = {}\n",
    "\n",
    "# Function to rename columns with depth-related names to 'MD'\n",
    "def rename_depth_columns(df):\n",
    "    for col in df.columns:\n",
    "        if col.lower() in ['depth', 'dept', 'md']:\n",
    "            df.rename(columns={col: 'MD'}, inplace=True)\n",
    "    return df\n",
    "\n",
    "# Function to rename 'ROP5' column to 'ROP'\n",
    "def rename_rop_column(df):\n",
    "    if 'ROP5' in df.columns:\n",
    "        df.rename(columns={'ROP5': 'ROP'}, inplace=True)\n",
    "    return df\n",
    "\n",
    "# Function to add units to column headers\n",
    "def add_units_to_headers(df, las):\n",
    "    new_columns = []\n",
    "    for col in df.columns:\n",
    "        matching_curve = next((curve for curve in las.curves if curve.mnemonic == col), None)\n",
    "        if matching_curve is not None and matching_curve.unit:\n",
    "            new_col = f\"{col} ({matching_curve.unit})\"\n",
    "        else:\n",
    "            new_col = f\"{col}\"  # default: keep original column name, add empty unit if none found\n",
    "        new_columns.append(new_col)\n",
    "    df.columns = new_columns\n",
    "    return df\n",
    "\n",
    "# Function to add prefix to dataframe name based on time or depth columns\n",
    "def add_prefix_to_df_name(df_name, df):\n",
    "    if any(col.lower() == 'time' for col in df.columns):\n",
    "        prefix = 'time_'\n",
    "    elif any(col.lower() in ['depth', 'dept', 'md', 'tvd'] for col in df.columns):\n",
    "        prefix = 'depth_'\n",
    "    else:\n",
    "        prefix = ''\n",
    "    return f\"{prefix}{df_name}\"\n",
    "\n",
    "# Loop over files in directory\n",
    "for filename in tqdm(os.listdir(directory)):\n",
    "    if filename.endswith(\".las\"):\n",
    "        print(f\"Reading file {filename}...\")  # Moved this print statement up here\n",
    "        # Read LAS file\n",
    "        las = lasio.read(os.path.join(directory, filename))\n",
    "        # Store header of LAS file in dictionary\n",
    "        headers[filename] = las.keys()\n",
    "        # Store data of LAS file in dictionary\n",
    "        df = las.df()\n",
    "        # Rename depth-related columns to 'MD'\n",
    "        df = rename_depth_columns(df)\n",
    "        # Rename 'ROP5' column to 'ROP'\n",
    "        df = rename_rop_column(df)\n",
    "        # Add units to column headers\n",
    "        df = add_units_to_headers(df, las)\n",
    "        # Store dataframe in dictionary with prefix added to name\n",
    "        dfs[add_prefix_to_df_name(filename.replace('.las', '.csv'), df)] = df\n",
    "\n",
    "# Check if processed directory exists, create it if it doesn't\n",
    "if not os.path.exists(processed_directory):\n",
    "    os.makedirs(processed_directory)\n",
    "\n",
    "# Loop over dataframes and save them to CSV files in processed directory\n",
    "for filename, df in tqdm(dfs.items()):\n",
    "    # Save dataframe to CSV file in processed directory with prefix added to name\n",
    "    df.to_csv(os.path.join(processed_directory, filename), index=False)\n",
    "    print(f\"Saved {filename} to {processed_directory} directory.\")\n"
   ]
  },
  {
   "cell_type": "code",
   "execution_count": 45,
   "metadata": {},
   "outputs": [
    {
     "name": "stderr",
     "output_type": "stream",
     "text": [
      "  9%|▉         | 1/11 [00:01<00:19,  2.00s/it]"
     ]
    },
    {
     "name": "stdout",
     "output_type": "stream",
     "text": [
      "Curves and units in 150930_IOA_F56_BDC-1B-01_DML_6109.las:\n",
      "DEPT: m\n",
      "DEPTH: m\n",
      "TVD: m\n",
      "ROP5: m/h\n",
      "GR: gAPI\n",
      "BLKP: m\n",
      "HKLA: 1000 lbf\n",
      "STOR: 1000 ft.lbf\n",
      "SWOB: 1000 lbf\n",
      "RPM: c/min\n",
      "CRPM: c/min\n",
      "STICKNSLIP: c/min\n",
      "SPPA: psi\n",
      "TFLO: gal/min\n",
      "TRPM: c/min\n",
      "DHAT: degC\n",
      "DHAP: psi\n",
      "ECD: g/cc\n",
      "TEMP_DNI: degC\n",
      "VIB_X: gn\n",
      "VIB_LAT: gn\n",
      "SHKRSK: \n",
      "SHKL:1: \n",
      "SHKL:2: \n",
      "SHKL:3: \n"
     ]
    },
    {
     "name": "stderr",
     "output_type": "stream",
     "text": [
      " 18%|█▊        | 2/11 [00:03<00:15,  1.76s/it]"
     ]
    },
    {
     "name": "stdout",
     "output_type": "stream",
     "text": [
      "Curves and units in 150930_IOA_F56_BDC-1B-01_DML_Run_01.las:\n",
      "TIME_1900: d\n",
      "TIME: s\n",
      "DEPTH: m\n",
      "TVD: m\n",
      "ROP5: m/h\n",
      "BLKP: m\n",
      "HKLA: 1000 lbf\n",
      "STOR: 1000 ft.lbf\n",
      "SWOB: 1000 lbf\n",
      "RPM: c/min\n",
      "CRPM: c/min\n",
      "STICKNSLIP: c/min\n",
      "STUCK: \n",
      "NRPM: \n",
      "SPPA: psi\n",
      "TFLO: gal/min\n",
      "TRPM: c/min\n",
      "DHAT: degC\n",
      "DHAP: psi\n",
      "ECD: g/cc\n",
      "TEMP_DNI: degC\n",
      "VIB_X: gn\n",
      "VIB_LAT: gn\n",
      "OBTM: \n",
      "SHKRSK: \n",
      "SHKPK: gn\n"
     ]
    },
    {
     "name": "stderr",
     "output_type": "stream",
     "text": [
      " 27%|██▋       | 3/11 [00:05<00:15,  1.91s/it]"
     ]
    },
    {
     "name": "stdout",
     "output_type": "stream",
     "text": [
      "Curves and units in 150930_IOA_F56_BDC-1B-01_DML_Run_02.las:\n",
      "TIME_1900: d\n",
      "TIME: s\n",
      "DEPTH: m\n",
      "TVD: m\n",
      "ROP5: m/h\n",
      "BLKP: m\n",
      "HKLA: 1000 lbf\n",
      "STOR: 1000 ft.lbf\n",
      "SWOB: 1000 lbf\n",
      "RPM: c/min\n",
      "CRPM: c/min\n",
      "STICKNSLIP: c/min\n",
      "STUCK: \n",
      "NRPM: \n",
      "SPPA: psi\n",
      "TFLO: gal/min\n",
      "TRPM: c/min\n",
      "DHAT: degC\n",
      "DHAP: psi\n",
      "ECD: g/cc\n",
      "TEMP_DNI: degC\n",
      "VIB_X: gn\n",
      "VIB_LAT: gn\n",
      "OBTM: \n",
      "SHKRSK: \n",
      "SHKPK: gn\n",
      "Curves and units in 150930_IOA_F56_BDC-1B-01_DML_Run_03.las:\n",
      "TIME_1900: d\n",
      "TIME: s\n",
      "DEPTH: m\n",
      "TVD: m\n",
      "ROP5: m/h\n",
      "GR: gAPI\n",
      "BLKP: m\n",
      "HKLA: 1000 lbf\n",
      "STOR: 1000 ft.lbf\n",
      "SWOB: 1000 lbf\n",
      "RPM: c/min\n",
      "CRPM: c/min\n",
      "STICKNSLIP: c/min\n",
      "STUCK: \n",
      "NRPM: \n",
      "SPPA: psi\n",
      "TFLO: gal/min\n",
      "TRPM: c/min\n",
      "DHAT: degC\n",
      "DHAP: psi\n",
      "ECD: g/cc\n",
      "TEMP_DNI: degC\n",
      "VIB_X: gn\n",
      "VIB_LAT: gn\n",
      "OBTM: \n",
      "SHKL:1: \n",
      "SHKL:2: \n",
      "SHKRSK: \n",
      "SHKPK: gn\n"
     ]
    },
    {
     "name": "stderr",
     "output_type": "stream",
     "text": [
      " 36%|███▋      | 4/11 [00:16<00:37,  5.34s/it]"
     ]
    },
    {
     "name": "stdout",
     "output_type": "stream",
     "text": [
      "Curves and units in 150930_IOA_F56_BDC-1B-01_DML_Run_04.las:\n",
      "TIME_1900: d\n",
      "TIME: s\n",
      "DEPTH: m\n",
      "TVD: m\n",
      "ROP5: m/h\n",
      "GR: gAPI\n",
      "BLKP: m\n",
      "HKLA: 1000 lbf\n",
      "STOR: 1000 ft.lbf\n",
      "SWOB: 1000 lbf\n",
      "RPM: c/min\n",
      "CRPM: c/min\n",
      "STICKNSLIP: c/min\n",
      "STUCK: \n",
      "NRPM: \n",
      "SPPA: psi\n",
      "TFLO: gal/min\n",
      "TRPM: c/min\n",
      "DHAT: degC\n",
      "DHAP: psi\n",
      "ECD: g/cc\n",
      "TEMP_DNI: degC\n",
      "ESD: g/cc\n",
      "ESD_MAX: g/cc\n",
      "ESD_MIN: g/cc\n",
      "VIB_X: gn\n",
      "VIB_LAT: gn\n",
      "OBTM: \n",
      "SHKL:1: \n",
      "SHKL:2: \n",
      "SHKL:3: \n",
      "SHKRSK: \n",
      "SHKPK: gn\n"
     ]
    },
    {
     "name": "stderr",
     "output_type": "stream",
     "text": [
      " 45%|████▌     | 5/11 [01:00<01:56, 19.36s/it]"
     ]
    },
    {
     "name": "stdout",
     "output_type": "stream",
     "text": [
      "Curves and units in 150930_IOA_F56_BDC-1B-01_DML_Run_05.las:\n",
      "TIME_1900: d\n",
      "TIME: s\n",
      "DEPTH: m\n",
      "TVD: m\n",
      "ROP5: m/h\n",
      "GR: gAPI\n",
      "BLKP: m\n",
      "HKLA: 1000 lbf\n",
      "STOR: 1000 ft.lbf\n",
      "SWOB: 1000 lbf\n",
      "RPM: c/min\n",
      "CRPM: c/min\n",
      "STICKNSLIP: c/min\n",
      "STUCK: \n",
      "NRPM: \n",
      "SPPA: psi\n",
      "TFLO: gal/min\n",
      "TRPM: c/min\n",
      "DHAT: degC\n",
      "DHAP: psi\n",
      "ECD: g/cc\n",
      "TEMP_DNI: degC\n",
      "ESD: g/cc\n",
      "ESD_MAX: g/cc\n",
      "ESD_MIN: g/cc\n",
      "VIB_X: gn\n",
      "VIB_LAT: gn\n",
      "OBTM: \n",
      "SHKL:1: \n",
      "SHKL:2: \n",
      "SHKL:3: \n",
      "SHKRSK: \n",
      "SHKPK: gn\n"
     ]
    },
    {
     "name": "stderr",
     "output_type": "stream",
     "text": [
      " 55%|█████▍    | 6/11 [01:15<01:30, 18.01s/it]"
     ]
    },
    {
     "name": "stdout",
     "output_type": "stream",
     "text": [
      "Curves and units in 150930_IOA_F56_BDC-1B-01_DML_Run_06.las:\n",
      "TIME_1900: d\n",
      "TIME: s\n",
      "DEPTH: m\n",
      "TVD: m\n",
      "ROP5: m/h\n",
      "GR: gAPI\n",
      "BLKP: m\n",
      "HKLA: 1000 lbf\n",
      "STOR: 1000 ft.lbf\n",
      "SWOB: 1000 lbf\n",
      "RPM: c/min\n",
      "CRPM: c/min\n",
      "STICKNSLIP: c/min\n",
      "STUCK: \n",
      "NRPM: \n",
      "SPPA: psi\n",
      "TFLO: gal/min\n",
      "TRPM: c/min\n",
      "DHAT: degC\n",
      "DHAP: psi\n",
      "ECD: g/cc\n",
      "TEMP_DNI: degC\n",
      "ESD: g/cc\n",
      "ESD_MAX: g/cc\n",
      "ESD_MIN: g/cc\n",
      "VIB_X: gn\n",
      "VIB_LAT: gn\n",
      "OBTM: \n",
      "SHKL:1: \n",
      "SHKL:2: \n",
      "SHKL:3: \n",
      "SHKRSK: \n",
      "SHKPK: gn\n"
     ]
    },
    {
     "name": "stderr",
     "output_type": "stream",
     "text": [
      "100%|██████████| 11/11 [01:36<00:00,  8.75s/it]\n"
     ]
    },
    {
     "name": "stdout",
     "output_type": "stream",
     "text": [
      "Curves and units in 150930_IOA_F56_BDC-1B-01_LWD_6109.las:\n",
      "DEPT: m\n",
      "DEPTH: m\n",
      "TVD: m\n",
      "ROP5: m/h\n",
      "GR: gAPI\n",
      "P16H: ohm.m\n",
      "P28H: ohm.m\n",
      "P40H: ohm.m\n",
      "A40H: ohm.m\n",
      "TNPH: pu\n",
      "ROBB: g/cm3\n",
      "DRHB: g/cm3\n",
      "ROBU: g/cm3\n",
      "DRHU: g/cm3\n",
      "ROBL: g/cm3\n",
      "ROBR: g/cm3\n",
      "ROSC[1]: g/cm3\n",
      "ROSC[2]: g/cm3\n",
      "ROSC[3]: g/cm3\n",
      "ROSC[4]: g/cm3\n",
      "ROSC[5]: g/cm3\n",
      "ROSC[6]: g/cm3\n",
      "ROSC[7]: g/cm3\n",
      "ROSC[8]: g/cm3\n",
      "ROSC[9]: g/cm3\n",
      "ROSC[10]: g/cm3\n",
      "ROSC[11]: g/cm3\n",
      "ROSC[12]: g/cm3\n",
      "ROSC[13]: g/cm3\n",
      "ROSC[14]: g/cm3\n",
      "ROSC[15]: g/cm3\n",
      "ROSC[16]: g/cm3\n",
      "DRSC[1]: g/cm3\n",
      "DRSC[2]: g/cm3\n",
      "DRSC[3]: g/cm3\n",
      "DRSC[4]: g/cm3\n",
      "DRSC[5]: g/cm3\n",
      "DRSC[6]: g/cm3\n",
      "DRSC[7]: g/cm3\n",
      "DRSC[8]: g/cm3\n",
      "DRSC[9]: g/cm3\n",
      "DRSC[10]: g/cm3\n",
      "DRSC[11]: g/cm3\n",
      "DRSC[12]: g/cm3\n",
      "DRSC[13]: g/cm3\n",
      "DRSC[14]: g/cm3\n",
      "DRSC[15]: g/cm3\n",
      "DRSC[16]: g/cm3\n",
      "DCRA[1]: in\n",
      "DCRA[2]: in\n",
      "DCRA[3]: in\n",
      "DCRA[4]: in\n",
      "DCRA[5]: in\n",
      "DCRA[6]: in\n",
      "DCRA[7]: in\n",
      "DCRA[8]: in\n",
      "DCRA[9]: in\n",
      "DCRA[10]: in\n",
      "DCRA[11]: in\n",
      "DCRA[12]: in\n",
      "DCRA[13]: in\n",
      "DCRA[14]: in\n",
      "DCRA[15]: in\n",
      "DCRA[16]: in\n",
      "PESC[1]: \n",
      "PESC[2]: \n",
      "PESC[3]: \n",
      "PESC[4]: \n",
      "PESC[5]: \n",
      "PESC[6]: \n",
      "PESC[7]: \n",
      "PESC[8]: \n",
      "PESC[9]: \n",
      "PESC[10]: \n",
      "PESC[11]: \n",
      "PESC[12]: \n",
      "PESC[13]: \n",
      "PESC[14]: \n",
      "PESC[15]: \n",
      "PESC[16]: \n",
      "PEB: \n",
      "ADIA: in\n",
      "DCAV: in\n",
      "DHAT:1: degC\n",
      "DHAT:2: degC\n",
      "DHAP:1: psi\n",
      "DHAP:2: psi\n",
      "ECD:1: g/cc\n",
      "ECD:2: g/cc\n",
      "Curves and units in 150930_IOA_F56_BDC-1B-01_UT.las:\n",
      "MD: m\n",
      "INCL: deg\n",
      "AZIM: deg\n",
      "TVD: m\n",
      "VSEC: m\n",
      "ND: m\n",
      "ED: m\n",
      "DLS: deg/30m\n",
      "QI: \n",
      "DI: \n",
      "CI: \n"
     ]
    },
    {
     "name": "stderr",
     "output_type": "stream",
     "text": [
      " 22%|██▏       | 2/9 [00:01<00:03,  1.98it/s]"
     ]
    },
    {
     "name": "stdout",
     "output_type": "stream",
     "text": [
      "Saved depth_150930_IOA_F56_BDC-1B-01_DML_6109.csv to processed directory.\n",
      "Saved depth_150930_IOA_F56_BDC-1B-01_DML_Run_01.csv to processed directory.\n"
     ]
    },
    {
     "name": "stderr",
     "output_type": "stream",
     "text": [
      " 33%|███▎      | 3/9 [00:01<00:02,  2.66it/s]"
     ]
    },
    {
     "name": "stdout",
     "output_type": "stream",
     "text": [
      "Saved depth_150930_IOA_F56_BDC-1B-01_DML_Run_02.csv to processed directory.\n"
     ]
    },
    {
     "name": "stderr",
     "output_type": "stream",
     "text": [
      " 44%|████▍     | 4/9 [00:02<00:03,  1.52it/s]"
     ]
    },
    {
     "name": "stdout",
     "output_type": "stream",
     "text": [
      "Saved depth_150930_IOA_F56_BDC-1B-01_DML_Run_03.csv to processed directory.\n"
     ]
    },
    {
     "name": "stderr",
     "output_type": "stream",
     "text": [
      " 56%|█████▌    | 5/9 [00:06<00:07,  1.96s/it]"
     ]
    },
    {
     "name": "stdout",
     "output_type": "stream",
     "text": [
      "Saved depth_150930_IOA_F56_BDC-1B-01_DML_Run_04.csv to processed directory.\n"
     ]
    },
    {
     "name": "stderr",
     "output_type": "stream",
     "text": [
      " 67%|██████▋   | 6/9 [00:08<00:05,  1.77s/it]"
     ]
    },
    {
     "name": "stdout",
     "output_type": "stream",
     "text": [
      "Saved depth_150930_IOA_F56_BDC-1B-01_DML_Run_05.csv to processed directory.\n"
     ]
    },
    {
     "name": "stderr",
     "output_type": "stream",
     "text": [
      " 78%|███████▊  | 7/9 [00:09<00:03,  1.61s/it]"
     ]
    },
    {
     "name": "stdout",
     "output_type": "stream",
     "text": [
      "Saved depth_150930_IOA_F56_BDC-1B-01_DML_Run_06.csv to processed directory.\n"
     ]
    },
    {
     "name": "stderr",
     "output_type": "stream",
     "text": [
      "100%|██████████| 9/9 [00:12<00:00,  1.40s/it]"
     ]
    },
    {
     "name": "stdout",
     "output_type": "stream",
     "text": [
      "Saved depth_150930_IOA_F56_BDC-1B-01_LWD_6109.csv to processed directory.\n",
      "Saved 150930_IOA_F56_BDC-1B-01_UT.csv to processed directory.\n"
     ]
    },
    {
     "name": "stderr",
     "output_type": "stream",
     "text": [
      "\n"
     ]
    }
   ],
   "source": [
    "import os\n",
    "import lasio\n",
    "from tqdm import tqdm\n",
    "import pandas as pd\n",
    "\n",
    "directory = \"data\"\n",
    "processed_directory = \"processed\"\n",
    "headers = {}\n",
    "dfs = {}\n",
    "\n",
    "# Function to rename columns with depth-related names to 'MD'\n",
    "def rename_depth_columns(df):\n",
    "    for col in df.columns:\n",
    "        if col.lower() in ['depth', 'dept', 'md']:\n",
    "            df.rename(columns={col: 'MD'}, inplace=True)\n",
    "    return df\n",
    "\n",
    "# Function to rename 'ROP5' column to 'ROP'\n",
    "def rename_rop_column(df):\n",
    "    if 'ROP5' in df.columns:\n",
    "        df.rename(columns={'ROP5': 'ROP'}, inplace=True)\n",
    "    return df\n",
    "\n",
    "# Function to add units to column headers\n",
    "def add_units_to_headers(df, las):\n",
    "    new_columns = []\n",
    "    for col in df.columns:\n",
    "        matching_curve = next((curve for curve in las.curves if curve.mnemonic == col), None)\n",
    "        if matching_curve is not None and matching_curve.unit:\n",
    "            new_col = f\"{col} ({matching_curve.unit})\"\n",
    "        else:\n",
    "            new_col = f\"{col}\"  # default: keep original column name, add empty unit if none found\n",
    "        new_columns.append(new_col)\n",
    "    df.columns = new_columns\n",
    "    return df\n",
    "\n",
    "# Function to add prefix to dataframe name based on time or depth columns\n",
    "def add_prefix_to_df_name(df_name, df):\n",
    "    if any(col.lower() == 'time' for col in df.columns):\n",
    "        prefix = 'time_'\n",
    "    elif any(col.lower() in ['depth', 'dept', 'md', 'tvd'] for col in df.columns):\n",
    "        prefix = 'depth_'\n",
    "    else:\n",
    "        prefix = ''\n",
    "    return f\"{prefix}{df_name}\"\n",
    "\n",
    "# Loop over files in directory\n",
    "for filename in tqdm(os.listdir(directory)):\n",
    "    if filename.endswith(\".las\"):\n",
    "        # Read LAS file\n",
    "        las = lasio.read(os.path.join(directory, filename))\n",
    "        # Print out all curves and their units\n",
    "        print(f\"Curves and units in {filename}:\")\n",
    "        for curve in las.curves:\n",
    "            print(f\"{curve.mnemonic}: {curve.unit}\")\n",
    "        # Store header of LAS file in dictionary\n",
    "        headers[filename] = las.keys()\n",
    "        # Store data of LAS file in dictionary\n",
    "        df = las.df()\n",
    "        # Rename depth-related columns to 'MD'\n",
    "        df = rename_depth_columns(df)\n",
    "        # Rename 'ROP5' column to 'ROP'\n",
    "        df = rename_rop_column(df)\n",
    "        # Add units to column headers\n",
    "        df = add_units_to_headers(df, las)\n",
    "        # Store dataframe in dictionary with prefix added to name\n",
    "        dfs[add_prefix_to_df_name(filename.replace('.las', '.csv'), df)] = df\n",
    "\n",
    "# Check if processed directory exists, create it if it doesn't\n",
    "if not os.path.exists(processed_directory):\n",
    "    os.makedirs(processed_directory)\n",
    "\n",
    "# Loop over dataframes and save them to CSV files in processed directory\n",
    "for filename, df in tqdm(dfs.items()):\n",
    "    # Save dataframe to CSV file in processed directory with prefix added to name\n",
    "    df.to_csv(os.path.join(processed_directory, filename), index=False)\n",
    "    print(f\"Saved {filename} to {processed_directory} directory.\")"
   ]
  },
  {
   "cell_type": "code",
   "execution_count": 49,
   "metadata": {},
   "outputs": [
    {
     "data": {
      "text/plain": [
       "(2015, 8, 8, 16, 30, 0)"
      ]
     },
     "execution_count": 49,
     "metadata": {},
     "output_type": "execute_result"
    }
   ],
   "source": [
    "my_time = 42224.6875000000\n",
    "\n",
    "import xlrd\n",
    "xlrd.xldate_as_tuple(my_time, datemode=0) # datemode=0 means the base date is 1899-12-31"
   ]
  },
  {
   "cell_type": "code",
   "execution_count": 48,
   "metadata": {},
   "outputs": [
    {
     "name": "stdout",
     "output_type": "stream",
     "text": [
      "Collecting xlrd\n",
      "  Downloading xlrd-2.0.1-py2.py3-none-any.whl (96 kB)\n",
      "     -------------------------------------- 96.5/96.5 kB 501.7 kB/s eta 0:00:00\n",
      "Installing collected packages: xlrd\n",
      "Successfully installed xlrd-2.0.1\n"
     ]
    },
    {
     "name": "stderr",
     "output_type": "stream",
     "text": [
      "\n",
      "[notice] A new release of pip available: 22.3.1 -> 23.1.2\n",
      "[notice] To update, run: python.exe -m pip install --upgrade pip\n"
     ]
    }
   ],
   "source": [
    "!pip install xlrd"
   ]
  },
  {
   "cell_type": "code",
   "execution_count": 50,
   "metadata": {},
   "outputs": [
    {
     "name": "stderr",
     "output_type": "stream",
     "text": [
      "100%|██████████| 11/11 [01:41<00:00,  9.24s/it]\n",
      " 22%|██▏       | 2/9 [00:01<00:03,  2.03it/s]"
     ]
    },
    {
     "name": "stdout",
     "output_type": "stream",
     "text": [
      "Saved depth_150930_IOA_F56_BDC-1B-01_DML_6109.csv to processed directory.\n",
      "Saved depth_150930_IOA_F56_BDC-1B-01_DML_Run_01.csv to processed directory.\n"
     ]
    },
    {
     "name": "stderr",
     "output_type": "stream",
     "text": [
      " 33%|███▎      | 3/9 [00:01<00:02,  2.81it/s]"
     ]
    },
    {
     "name": "stdout",
     "output_type": "stream",
     "text": [
      "Saved depth_150930_IOA_F56_BDC-1B-01_DML_Run_02.csv to processed directory.\n"
     ]
    },
    {
     "name": "stderr",
     "output_type": "stream",
     "text": [
      " 44%|████▍     | 4/9 [00:02<00:03,  1.60it/s]"
     ]
    },
    {
     "name": "stdout",
     "output_type": "stream",
     "text": [
      "Saved depth_150930_IOA_F56_BDC-1B-01_DML_Run_03.csv to processed directory.\n"
     ]
    },
    {
     "name": "stderr",
     "output_type": "stream",
     "text": [
      " 56%|█████▌    | 5/9 [00:06<00:07,  1.82s/it]"
     ]
    },
    {
     "name": "stdout",
     "output_type": "stream",
     "text": [
      "Saved depth_150930_IOA_F56_BDC-1B-01_DML_Run_04.csv to processed directory.\n"
     ]
    },
    {
     "name": "stderr",
     "output_type": "stream",
     "text": [
      " 67%|██████▋   | 6/9 [00:07<00:04,  1.64s/it]"
     ]
    },
    {
     "name": "stdout",
     "output_type": "stream",
     "text": [
      "Saved depth_150930_IOA_F56_BDC-1B-01_DML_Run_05.csv to processed directory.\n"
     ]
    },
    {
     "name": "stderr",
     "output_type": "stream",
     "text": [
      " 78%|███████▊  | 7/9 [00:08<00:03,  1.51s/it]"
     ]
    },
    {
     "name": "stdout",
     "output_type": "stream",
     "text": [
      "Saved depth_150930_IOA_F56_BDC-1B-01_DML_Run_06.csv to processed directory.\n"
     ]
    },
    {
     "name": "stderr",
     "output_type": "stream",
     "text": [
      "100%|██████████| 9/9 [00:12<00:00,  1.35s/it]"
     ]
    },
    {
     "name": "stdout",
     "output_type": "stream",
     "text": [
      "Saved depth_150930_IOA_F56_BDC-1B-01_LWD_6109.csv to processed directory.\n",
      "Saved 150930_IOA_F56_BDC-1B-01_UT.csv to processed directory.\n"
     ]
    },
    {
     "name": "stderr",
     "output_type": "stream",
     "text": [
      "\n"
     ]
    }
   ],
   "source": [
    "import os\n",
    "import lasio\n",
    "from tqdm import tqdm\n",
    "import pandas as pd\n",
    "\n",
    "directory = \"data\"\n",
    "processed_directory = \"processed\"\n",
    "headers = {}\n",
    "dfs = {}\n",
    "\n",
    "# Function to rename columns with depth-related names to 'MD'\n",
    "def rename_depth_columns(df):\n",
    "    for col in df.columns:\n",
    "        if col.lower() in ['depth', 'dept', 'md']:\n",
    "            df.rename(columns={col: 'MD'}, inplace=True)\n",
    "    return df\n",
    "\n",
    "# Function to rename 'ROP5' column to 'ROP'\n",
    "def rename_rop_column(df):\n",
    "    if 'ROP5' in df.columns:\n",
    "        df.rename(columns={'ROP5': 'ROP'}, inplace=True)\n",
    "    return df\n",
    "\n",
    "# Function to add units to column headers\n",
    "def add_units_to_headers(df, las):\n",
    "    new_columns = []\n",
    "    for col in df.columns:\n",
    "        matching_curve = next((curve for curve in las.curves if curve.mnemonic == col), None)\n",
    "        if matching_curve is not None and matching_curve.unit:\n",
    "            new_col = f\"{col} ({matching_curve.unit})\"\n",
    "        else:\n",
    "            new_col = f\"{col}\"  # default: keep original column name, add empty unit if none found\n",
    "        new_columns.append(new_col)\n",
    "    df.columns = new_columns\n",
    "    return df\n",
    "\n",
    "# Function to add prefix to dataframe name based on time or depth columns\n",
    "def add_prefix_to_df_name(df_name, df):\n",
    "    if any(col.lower() == 'time' for col in df.columns):\n",
    "        prefix = 'time_'\n",
    "    elif any(col.lower() in ['depth', 'dept', 'md', 'tvd'] for col in df.columns):\n",
    "        prefix = 'depth_'\n",
    "    else:\n",
    "        prefix = ''\n",
    "    return f\"{prefix}{df_name}\"\n",
    "\n",
    "# Loop over files in directory\n",
    "for filename in tqdm(os.listdir(directory)):\n",
    "    if filename.endswith(\".las\"):\n",
    "        # Read LAS file\n",
    "        las = lasio.read(os.path.join(directory, filename))\n",
    "        # Store header of LAS file in dictionary\n",
    "        headers[filename] = las.keys()\n",
    "        # Store data of LAS file in dictionary\n",
    "        df = las.df()\n",
    "        # Rename depth-related columns to 'MD'\n",
    "        df = rename_depth_columns(df)\n",
    "        # Rename 'ROP5' column to 'ROP'\n",
    "        df = rename_rop_column(df)\n",
    "        # Add units to column headers\n",
    "        df = add_units_to_headers(df, las)\n",
    "        # Store dataframe in dictionary with prefix added to name\n",
    "        dfs[add_prefix_to_df_name(filename.replace('.las', '.csv'), df)] = df\n",
    "\n",
    "# Check if processed directory exists, create it if it doesn't\n",
    "if not os.path.exists(processed_directory):\n",
    "    os.makedirs(processed_directory)\n",
    "\n",
    "# Loop over dataframes and save them to CSV files in processed directory\n",
    "for filename, df in tqdm(dfs.items()):\n",
    "    # Save dataframe to CSV file in processed directory with prefix added to name\n",
    "    df.to_csv(os.path.join(processed_directory, filename), index=False)\n",
    "    print(f\"Saved {filename} to {processed_directory} directory.\")"
   ]
  },
  {
   "cell_type": "code",
   "execution_count": 54,
   "metadata": {},
   "outputs": [
    {
     "name": "stderr",
     "output_type": "stream",
     "text": [
      "  0%|          | 0/11 [00:00<?, ?it/s]"
     ]
    },
    {
     "name": "stderr",
     "output_type": "stream",
     "text": [
      "  9%|▉         | 1/11 [00:02<00:21,  2.11s/it]"
     ]
    },
    {
     "name": "stdout",
     "output_type": "stream",
     "text": [
      "Curves and units in 150930_IOA_F56_BDC-1B-01_DML_6109.las:\n",
      "TVD: m\n",
      "GR: gAPI\n",
      "BLKP: m\n",
      "HKLA: 1000 lbf\n",
      "STOR: 1000 ft.lbf\n",
      "SWOB: 1000 lbf\n",
      "RPM: c/min\n",
      "CRPM: c/min\n",
      "STICKNSLIP: c/min\n",
      "SPPA: psi\n",
      "TFLO: gal/min\n",
      "TRPM: c/min\n",
      "DHAT: degC\n",
      "DHAP: psi\n",
      "ECD: g/cc\n",
      "TEMP_DNI: degC\n",
      "VIB_X: gn\n",
      "VIB_LAT: gn\n",
      "SHKRSK: \n",
      "SHKL:1: \n",
      "SHKL:2: \n",
      "SHKL:3: \n"
     ]
    },
    {
     "name": "stderr",
     "output_type": "stream",
     "text": [
      " 18%|█▊        | 2/11 [00:03<00:16,  1.87s/it]"
     ]
    },
    {
     "name": "stdout",
     "output_type": "stream",
     "text": [
      "Curves and units in 150930_IOA_F56_BDC-1B-01_DML_Run_01.las:\n",
      "TIME: s\n",
      "TVD: m\n",
      "BLKP: m\n",
      "HKLA: 1000 lbf\n",
      "STOR: 1000 ft.lbf\n",
      "SWOB: 1000 lbf\n",
      "RPM: c/min\n",
      "CRPM: c/min\n",
      "STICKNSLIP: c/min\n",
      "STUCK: \n",
      "NRPM: \n",
      "SPPA: psi\n",
      "TFLO: gal/min\n",
      "TRPM: c/min\n",
      "DHAT: degC\n",
      "DHAP: psi\n",
      "ECD: g/cc\n",
      "TEMP_DNI: degC\n",
      "VIB_X: gn\n",
      "VIB_LAT: gn\n",
      "OBTM: \n",
      "SHKRSK: \n",
      "SHKPK: gn\n"
     ]
    },
    {
     "name": "stderr",
     "output_type": "stream",
     "text": [
      " 27%|██▋       | 3/11 [00:06<00:16,  2.04s/it]"
     ]
    },
    {
     "name": "stdout",
     "output_type": "stream",
     "text": [
      "Curves and units in 150930_IOA_F56_BDC-1B-01_DML_Run_02.las:\n",
      "TIME: s\n",
      "TVD: m\n",
      "BLKP: m\n",
      "HKLA: 1000 lbf\n",
      "STOR: 1000 ft.lbf\n",
      "SWOB: 1000 lbf\n",
      "RPM: c/min\n",
      "CRPM: c/min\n",
      "STICKNSLIP: c/min\n",
      "STUCK: \n",
      "NRPM: \n",
      "SPPA: psi\n",
      "TFLO: gal/min\n",
      "TRPM: c/min\n",
      "DHAT: degC\n",
      "DHAP: psi\n",
      "ECD: g/cc\n",
      "TEMP_DNI: degC\n",
      "VIB_X: gn\n",
      "VIB_LAT: gn\n",
      "OBTM: \n",
      "SHKRSK: \n",
      "SHKPK: gn\n"
     ]
    },
    {
     "name": "stderr",
     "output_type": "stream",
     "text": [
      " 36%|███▋      | 4/11 [00:17<00:39,  5.65s/it]"
     ]
    },
    {
     "name": "stdout",
     "output_type": "stream",
     "text": [
      "Curves and units in 150930_IOA_F56_BDC-1B-01_DML_Run_03.las:\n",
      "TIME: s\n",
      "TVD: m\n",
      "GR: gAPI\n",
      "BLKP: m\n",
      "HKLA: 1000 lbf\n",
      "STOR: 1000 ft.lbf\n",
      "SWOB: 1000 lbf\n",
      "RPM: c/min\n",
      "CRPM: c/min\n",
      "STICKNSLIP: c/min\n",
      "STUCK: \n",
      "NRPM: \n",
      "SPPA: psi\n",
      "TFLO: gal/min\n",
      "TRPM: c/min\n",
      "DHAT: degC\n",
      "DHAP: psi\n",
      "ECD: g/cc\n",
      "TEMP_DNI: degC\n",
      "VIB_X: gn\n",
      "VIB_LAT: gn\n",
      "OBTM: \n",
      "SHKL:1: \n",
      "SHKL:2: \n",
      "SHKRSK: \n",
      "SHKPK: gn\n"
     ]
    },
    {
     "name": "stderr",
     "output_type": "stream",
     "text": [
      " 45%|████▌     | 5/11 [01:04<02:03, 20.59s/it]"
     ]
    },
    {
     "name": "stdout",
     "output_type": "stream",
     "text": [
      "Curves and units in 150930_IOA_F56_BDC-1B-01_DML_Run_04.las:\n",
      "TIME: s\n",
      "TVD: m\n",
      "GR: gAPI\n",
      "BLKP: m\n",
      "HKLA: 1000 lbf\n",
      "STOR: 1000 ft.lbf\n",
      "SWOB: 1000 lbf\n",
      "RPM: c/min\n",
      "CRPM: c/min\n",
      "STICKNSLIP: c/min\n",
      "STUCK: \n",
      "NRPM: \n",
      "SPPA: psi\n",
      "TFLO: gal/min\n",
      "TRPM: c/min\n",
      "DHAT: degC\n",
      "DHAP: psi\n",
      "ECD: g/cc\n",
      "TEMP_DNI: degC\n",
      "ESD: g/cc\n",
      "ESD_MAX: g/cc\n",
      "ESD_MIN: g/cc\n",
      "VIB_X: gn\n",
      "VIB_LAT: gn\n",
      "OBTM: \n",
      "SHKL:1: \n",
      "SHKL:2: \n",
      "SHKL:3: \n",
      "SHKRSK: \n",
      "SHKPK: gn\n"
     ]
    },
    {
     "name": "stderr",
     "output_type": "stream",
     "text": [
      " 55%|█████▍    | 6/11 [01:19<01:33, 18.73s/it]"
     ]
    },
    {
     "name": "stdout",
     "output_type": "stream",
     "text": [
      "Curves and units in 150930_IOA_F56_BDC-1B-01_DML_Run_05.las:\n",
      "TIME: s\n",
      "TVD: m\n",
      "GR: gAPI\n",
      "BLKP: m\n",
      "HKLA: 1000 lbf\n",
      "STOR: 1000 ft.lbf\n",
      "SWOB: 1000 lbf\n",
      "RPM: c/min\n",
      "CRPM: c/min\n",
      "STICKNSLIP: c/min\n",
      "STUCK: \n",
      "NRPM: \n",
      "SPPA: psi\n",
      "TFLO: gal/min\n",
      "TRPM: c/min\n",
      "DHAT: degC\n",
      "DHAP: psi\n",
      "ECD: g/cc\n",
      "TEMP_DNI: degC\n",
      "ESD: g/cc\n",
      "ESD_MAX: g/cc\n",
      "ESD_MIN: g/cc\n",
      "VIB_X: gn\n",
      "VIB_LAT: gn\n",
      "OBTM: \n",
      "SHKL:1: \n",
      "SHKL:2: \n",
      "SHKL:3: \n",
      "SHKRSK: \n",
      "SHKPK: gn\n"
     ]
    },
    {
     "name": "stderr",
     "output_type": "stream",
     "text": [
      " 64%|██████▎   | 7/11 [01:34<01:09, 17.42s/it]"
     ]
    },
    {
     "name": "stdout",
     "output_type": "stream",
     "text": [
      "Curves and units in 150930_IOA_F56_BDC-1B-01_DML_Run_06.las:\n",
      "TIME: s\n",
      "TVD: m\n",
      "GR: gAPI\n",
      "BLKP: m\n",
      "HKLA: 1000 lbf\n",
      "STOR: 1000 ft.lbf\n",
      "SWOB: 1000 lbf\n",
      "RPM: c/min\n",
      "CRPM: c/min\n",
      "STICKNSLIP: c/min\n",
      "STUCK: \n",
      "NRPM: \n",
      "SPPA: psi\n",
      "TFLO: gal/min\n",
      "TRPM: c/min\n",
      "DHAT: degC\n",
      "DHAP: psi\n",
      "ECD: g/cc\n",
      "TEMP_DNI: degC\n",
      "ESD: g/cc\n",
      "ESD_MAX: g/cc\n",
      "ESD_MIN: g/cc\n",
      "VIB_X: gn\n",
      "VIB_LAT: gn\n",
      "OBTM: \n",
      "SHKL:1: \n",
      "SHKL:2: \n",
      "SHKL:3: \n",
      "SHKRSK: \n",
      "SHKPK: gn\n"
     ]
    },
    {
     "name": "stderr",
     "output_type": "stream",
     "text": [
      "100%|██████████| 11/11 [01:39<00:00,  9.06s/it]\n"
     ]
    },
    {
     "name": "stdout",
     "output_type": "stream",
     "text": [
      "Curves and units in 150930_IOA_F56_BDC-1B-01_LWD_6109.las:\n",
      "TVD: m\n",
      "GR: gAPI\n",
      "P16H: ohm.m\n",
      "P28H: ohm.m\n",
      "P40H: ohm.m\n",
      "A40H: ohm.m\n",
      "TNPH: pu\n",
      "ROBB: g/cm3\n",
      "DRHB: g/cm3\n",
      "ROBU: g/cm3\n",
      "DRHU: g/cm3\n",
      "ROBL: g/cm3\n",
      "ROBR: g/cm3\n",
      "ROSC[1]: g/cm3\n",
      "ROSC[2]: g/cm3\n",
      "ROSC[3]: g/cm3\n",
      "ROSC[4]: g/cm3\n",
      "ROSC[5]: g/cm3\n",
      "ROSC[6]: g/cm3\n",
      "ROSC[7]: g/cm3\n",
      "ROSC[8]: g/cm3\n",
      "ROSC[9]: g/cm3\n",
      "ROSC[10]: g/cm3\n",
      "ROSC[11]: g/cm3\n",
      "ROSC[12]: g/cm3\n",
      "ROSC[13]: g/cm3\n",
      "ROSC[14]: g/cm3\n",
      "ROSC[15]: g/cm3\n",
      "ROSC[16]: g/cm3\n",
      "DRSC[1]: g/cm3\n",
      "DRSC[2]: g/cm3\n",
      "DRSC[3]: g/cm3\n",
      "DRSC[4]: g/cm3\n",
      "DRSC[5]: g/cm3\n",
      "DRSC[6]: g/cm3\n",
      "DRSC[7]: g/cm3\n",
      "DRSC[8]: g/cm3\n",
      "DRSC[9]: g/cm3\n",
      "DRSC[10]: g/cm3\n",
      "DRSC[11]: g/cm3\n",
      "DRSC[12]: g/cm3\n",
      "DRSC[13]: g/cm3\n",
      "DRSC[14]: g/cm3\n",
      "DRSC[15]: g/cm3\n",
      "DRSC[16]: g/cm3\n",
      "DCRA[1]: in\n",
      "DCRA[2]: in\n",
      "DCRA[3]: in\n",
      "DCRA[4]: in\n",
      "DCRA[5]: in\n",
      "DCRA[6]: in\n",
      "DCRA[7]: in\n",
      "DCRA[8]: in\n",
      "DCRA[9]: in\n",
      "DCRA[10]: in\n",
      "DCRA[11]: in\n",
      "DCRA[12]: in\n",
      "DCRA[13]: in\n",
      "DCRA[14]: in\n",
      "DCRA[15]: in\n",
      "DCRA[16]: in\n",
      "PESC[1]: \n",
      "PESC[2]: \n",
      "PESC[3]: \n",
      "PESC[4]: \n",
      "PESC[5]: \n",
      "PESC[6]: \n",
      "PESC[7]: \n",
      "PESC[8]: \n",
      "PESC[9]: \n",
      "PESC[10]: \n",
      "PESC[11]: \n",
      "PESC[12]: \n",
      "PESC[13]: \n",
      "PESC[14]: \n",
      "PESC[15]: \n",
      "PESC[16]: \n",
      "PEB: \n",
      "ADIA: in\n",
      "DCAV: in\n",
      "DHAT:1: degC\n",
      "DHAT:2: degC\n",
      "DHAP:1: psi\n",
      "DHAP:2: psi\n",
      "ECD:1: g/cc\n",
      "ECD:2: g/cc\n",
      "Curves and units in 150930_IOA_F56_BDC-1B-01_UT.las:\n",
      "INCL: deg\n",
      "AZIM: deg\n",
      "TVD: m\n",
      "VSEC: m\n",
      "ND: m\n",
      "ED: m\n",
      "DLS: deg/30m\n",
      "QI: \n",
      "DI: \n",
      "CI: \n"
     ]
    },
    {
     "name": "stderr",
     "output_type": "stream",
     "text": [
      " 22%|██▏       | 2/9 [00:01<00:03,  1.97it/s]"
     ]
    },
    {
     "name": "stdout",
     "output_type": "stream",
     "text": [
      "Saved depth_150930_IOA_F56_BDC-1B-01_DML_6109.csv to processed directory.\n",
      "Saved depth_150930_IOA_F56_BDC-1B-01_DML_Run_01.csv to processed directory.\n"
     ]
    },
    {
     "name": "stderr",
     "output_type": "stream",
     "text": [
      " 33%|███▎      | 3/9 [00:01<00:02,  2.70it/s]"
     ]
    },
    {
     "name": "stdout",
     "output_type": "stream",
     "text": [
      "Saved depth_150930_IOA_F56_BDC-1B-01_DML_Run_02.csv to processed directory.\n"
     ]
    },
    {
     "name": "stderr",
     "output_type": "stream",
     "text": [
      " 44%|████▍     | 4/9 [00:02<00:03,  1.58it/s]"
     ]
    },
    {
     "name": "stdout",
     "output_type": "stream",
     "text": [
      "Saved depth_150930_IOA_F56_BDC-1B-01_DML_Run_03.csv to processed directory.\n"
     ]
    },
    {
     "name": "stderr",
     "output_type": "stream",
     "text": [
      " 56%|█████▌    | 5/9 [00:06<00:07,  1.85s/it]"
     ]
    },
    {
     "name": "stdout",
     "output_type": "stream",
     "text": [
      "Saved depth_150930_IOA_F56_BDC-1B-01_DML_Run_04.csv to processed directory.\n"
     ]
    },
    {
     "name": "stderr",
     "output_type": "stream",
     "text": [
      " 67%|██████▋   | 6/9 [00:07<00:04,  1.65s/it]"
     ]
    },
    {
     "name": "stdout",
     "output_type": "stream",
     "text": [
      "Saved depth_150930_IOA_F56_BDC-1B-01_DML_Run_05.csv to processed directory.\n"
     ]
    },
    {
     "name": "stderr",
     "output_type": "stream",
     "text": [
      " 78%|███████▊  | 7/9 [00:08<00:03,  1.51s/it]"
     ]
    },
    {
     "name": "stdout",
     "output_type": "stream",
     "text": [
      "Saved depth_150930_IOA_F56_BDC-1B-01_DML_Run_06.csv to processed directory.\n"
     ]
    },
    {
     "name": "stderr",
     "output_type": "stream",
     "text": [
      "100%|██████████| 9/9 [00:12<00:00,  1.39s/it]"
     ]
    },
    {
     "name": "stdout",
     "output_type": "stream",
     "text": [
      "Saved depth_150930_IOA_F56_BDC-1B-01_LWD_6109.csv to processed directory.\n",
      "Saved 150930_IOA_F56_BDC-1B-01_UT.csv to processed directory.\n"
     ]
    },
    {
     "name": "stderr",
     "output_type": "stream",
     "text": [
      "\n"
     ]
    }
   ],
   "source": [
    "import os\n",
    "import lasio\n",
    "from tqdm import tqdm\n",
    "import pandas as pd\n",
    "\n",
    "directory = \"data\"\n",
    "processed_directory = \"processed\"\n",
    "headers = {}\n",
    "dfs = {}\n",
    "\n",
    "# Function to rename columns with depth-related names to 'MD'\n",
    "def rename_depth_columns(df):\n",
    "    for col in df.columns:\n",
    "        if col.lower() in ['depth', 'dept', 'md']:\n",
    "            df.rename(columns={col: 'MD'}, inplace=True)\n",
    "    return df\n",
    "\n",
    "# Function to rename 'ROP5' column to 'ROP'\n",
    "def rename_rop_column(df):\n",
    "    if 'ROP5' in df.columns:\n",
    "        df.rename(columns={'ROP5': 'ROP'}, inplace=True)\n",
    "    return df\n",
    "\n",
    "# Function to add units to column headers\n",
    "def add_units_to_headers(df, las, filename):\n",
    "    new_columns = []\n",
    "    print(f\"Curves and units in {filename}:\")\n",
    "    for col in df.columns:\n",
    "        matching_curve = next((curve for curve in las.curves if curve.mnemonic == col), None)\n",
    "        if matching_curve is not None and matching_curve.unit:\n",
    "            new_col = f\"{col} ({matching_curve.unit})\"\n",
    "        else:\n",
    "            new_col = f\"{col}\"  # default: keep original column name, add empty unit if none found\n",
    "        new_columns.append(new_col)\n",
    "        if matching_curve is not None:\n",
    "            print(f\"{matching_curve.mnemonic}: {matching_curve.unit}\")\n",
    "    df.columns = new_columns\n",
    "    return df\n",
    "\n",
    "# Function to add prefix to dataframe name based on time or depth columns\n",
    "def add_prefix_to_df_name(df_name, df):\n",
    "    if any(col.lower() == 'time' for col in df.columns):\n",
    "        prefix = 'time_'\n",
    "    elif any(col.lower() in ['depth', 'dept', 'md', 'tvd'] for col in df.columns):\n",
    "        prefix = 'depth_'\n",
    "    else:\n",
    "        prefix = ''\n",
    "    return f\"{prefix}{df_name}\"\n",
    "\n",
    "# Loop over files in directory\n",
    "for filename in tqdm(os.listdir(directory)):\n",
    "    if filename.endswith(\".las\"):\n",
    "        # Read LAS file\n",
    "        las = lasio.read(os.path.join(directory, filename))\n",
    "        # Store header of LAS file in dictionary\n",
    "        headers[filename] = las.keys()\n",
    "        # Store data of LAS file in dictionary\n",
    "        df = las.df()\n",
    "        # Rename depth-related columns to 'MD'\n",
    "        df = rename_depth_columns(df)\n",
    "        # Rename 'ROP5' column to 'ROP'\n",
    "        df = rename_rop_column(df)\n",
    "        # Add units to column headers\n",
    "        df = add_units_to_headers(df, las, filename)\n",
    "        # Store dataframe in dictionary with prefix added to name\n",
    "        dfs[add_prefix_to_df_name(filename.replace('.las', '.csv'), df)] = df\n",
    "\n",
    "# Check if processed directory exists, create it if it doesn't\n",
    "if not os.path.exists(processed_directory):\n",
    "    os.makedirs(processed_directory)\n",
    "\n",
    "# Loop over dataframes and save them to CSV files in processed directory\n",
    "for filename, df in tqdm(dfs.items()):\n",
    "    # Save dataframe to CSV file in processed directory with prefix added to name\n",
    "    if 'MD' in df.columns:\n",
    "        df.set_index('MD', inplace=True)\n",
    "        df.to_csv(os.path.join(processed_directory, filename), index_label='MD')\n",
    "        df.reset_index(inplace=True)\n",
    "    else:\n",
    "        df.to_csv(os.path.join(processed_directory, filename), index=False)\n",
    "    print(f\"Saved {filename} to {processed_directory} directory.\")"
   ]
  },
  {
   "cell_type": "code",
   "execution_count": 55,
   "metadata": {},
   "outputs": [
    {
     "name": "stderr",
     "output_type": "stream",
     "text": [
      "  9%|▉         | 1/11 [00:02<00:21,  2.20s/it]"
     ]
    },
    {
     "name": "stdout",
     "output_type": "stream",
     "text": [
      "Curves and units in 150930_IOA_F56_BDC-1B-01_DML_6109.las:\n",
      "TVD: m\n",
      "GR: gAPI\n",
      "BLKP: m\n",
      "HKLA: 1000 lbf\n",
      "STOR: 1000 ft.lbf\n",
      "SWOB: 1000 lbf\n",
      "RPM: c/min\n",
      "CRPM: c/min\n",
      "STICKNSLIP: c/min\n",
      "SPPA: psi\n",
      "TFLO: gal/min\n",
      "TRPM: c/min\n",
      "DHAT: degC\n",
      "DHAP: psi\n",
      "ECD: g/cc\n",
      "TEMP_DNI: degC\n",
      "VIB_X: gn\n",
      "VIB_LAT: gn\n",
      "SHKRSK: \n",
      "SHKL:1: \n",
      "SHKL:2: \n",
      "SHKL:3: \n"
     ]
    },
    {
     "name": "stderr",
     "output_type": "stream",
     "text": [
      " 18%|█▊        | 2/11 [00:03<00:16,  1.89s/it]"
     ]
    },
    {
     "name": "stdout",
     "output_type": "stream",
     "text": [
      "Curves and units in 150930_IOA_F56_BDC-1B-01_DML_Run_01.las:\n",
      "TIME: s\n",
      "TVD: m\n",
      "BLKP: m\n",
      "HKLA: 1000 lbf\n",
      "STOR: 1000 ft.lbf\n",
      "SWOB: 1000 lbf\n",
      "RPM: c/min\n",
      "CRPM: c/min\n",
      "STICKNSLIP: c/min\n",
      "STUCK: \n",
      "NRPM: \n",
      "SPPA: psi\n",
      "TFLO: gal/min\n",
      "TRPM: c/min\n",
      "DHAT: degC\n",
      "DHAP: psi\n",
      "ECD: g/cc\n",
      "TEMP_DNI: degC\n",
      "VIB_X: gn\n",
      "VIB_LAT: gn\n",
      "OBTM: \n",
      "SHKRSK: \n",
      "SHKPK: gn\n"
     ]
    },
    {
     "name": "stderr",
     "output_type": "stream",
     "text": [
      " 27%|██▋       | 3/11 [00:06<00:16,  2.07s/it]"
     ]
    },
    {
     "name": "stdout",
     "output_type": "stream",
     "text": [
      "Curves and units in 150930_IOA_F56_BDC-1B-01_DML_Run_02.las:\n",
      "TIME: s\n",
      "TVD: m\n",
      "BLKP: m\n",
      "HKLA: 1000 lbf\n",
      "STOR: 1000 ft.lbf\n",
      "SWOB: 1000 lbf\n",
      "RPM: c/min\n",
      "CRPM: c/min\n",
      "STICKNSLIP: c/min\n",
      "STUCK: \n",
      "NRPM: \n",
      "SPPA: psi\n",
      "TFLO: gal/min\n",
      "TRPM: c/min\n",
      "DHAT: degC\n",
      "DHAP: psi\n",
      "ECD: g/cc\n",
      "TEMP_DNI: degC\n",
      "VIB_X: gn\n",
      "VIB_LAT: gn\n",
      "OBTM: \n",
      "SHKRSK: \n",
      "SHKPK: gn\n"
     ]
    },
    {
     "name": "stderr",
     "output_type": "stream",
     "text": [
      " 36%|███▋      | 4/11 [00:17<00:39,  5.63s/it]"
     ]
    },
    {
     "name": "stdout",
     "output_type": "stream",
     "text": [
      "Curves and units in 150930_IOA_F56_BDC-1B-01_DML_Run_03.las:\n",
      "TIME: s\n",
      "TVD: m\n",
      "GR: gAPI\n",
      "BLKP: m\n",
      "HKLA: 1000 lbf\n",
      "STOR: 1000 ft.lbf\n",
      "SWOB: 1000 lbf\n",
      "RPM: c/min\n",
      "CRPM: c/min\n",
      "STICKNSLIP: c/min\n",
      "STUCK: \n",
      "NRPM: \n",
      "SPPA: psi\n",
      "TFLO: gal/min\n",
      "TRPM: c/min\n",
      "DHAT: degC\n",
      "DHAP: psi\n",
      "ECD: g/cc\n",
      "TEMP_DNI: degC\n",
      "VIB_X: gn\n",
      "VIB_LAT: gn\n",
      "OBTM: \n",
      "SHKL:1: \n",
      "SHKL:2: \n",
      "SHKRSK: \n",
      "SHKPK: gn\n"
     ]
    },
    {
     "name": "stderr",
     "output_type": "stream",
     "text": [
      " 45%|████▌     | 5/11 [01:08<02:12, 22.12s/it]"
     ]
    },
    {
     "name": "stdout",
     "output_type": "stream",
     "text": [
      "Curves and units in 150930_IOA_F56_BDC-1B-01_DML_Run_04.las:\n",
      "TIME: s\n",
      "TVD: m\n",
      "GR: gAPI\n",
      "BLKP: m\n",
      "HKLA: 1000 lbf\n",
      "STOR: 1000 ft.lbf\n",
      "SWOB: 1000 lbf\n",
      "RPM: c/min\n",
      "CRPM: c/min\n",
      "STICKNSLIP: c/min\n",
      "STUCK: \n",
      "NRPM: \n",
      "SPPA: psi\n",
      "TFLO: gal/min\n",
      "TRPM: c/min\n",
      "DHAT: degC\n",
      "DHAP: psi\n",
      "ECD: g/cc\n",
      "TEMP_DNI: degC\n",
      "ESD: g/cc\n",
      "ESD_MAX: g/cc\n",
      "ESD_MIN: g/cc\n",
      "VIB_X: gn\n",
      "VIB_LAT: gn\n",
      "OBTM: \n",
      "SHKL:1: \n",
      "SHKL:2: \n",
      "SHKL:3: \n",
      "SHKRSK: \n",
      "SHKPK: gn\n"
     ]
    },
    {
     "name": "stderr",
     "output_type": "stream",
     "text": [
      " 55%|█████▍    | 6/11 [01:24<01:39, 19.97s/it]"
     ]
    },
    {
     "name": "stdout",
     "output_type": "stream",
     "text": [
      "Curves and units in 150930_IOA_F56_BDC-1B-01_DML_Run_05.las:\n",
      "TIME: s\n",
      "TVD: m\n",
      "GR: gAPI\n",
      "BLKP: m\n",
      "HKLA: 1000 lbf\n",
      "STOR: 1000 ft.lbf\n",
      "SWOB: 1000 lbf\n",
      "RPM: c/min\n",
      "CRPM: c/min\n",
      "STICKNSLIP: c/min\n",
      "STUCK: \n",
      "NRPM: \n",
      "SPPA: psi\n",
      "TFLO: gal/min\n",
      "TRPM: c/min\n",
      "DHAT: degC\n",
      "DHAP: psi\n",
      "ECD: g/cc\n",
      "TEMP_DNI: degC\n",
      "ESD: g/cc\n",
      "ESD_MAX: g/cc\n",
      "ESD_MIN: g/cc\n",
      "VIB_X: gn\n",
      "VIB_LAT: gn\n",
      "OBTM: \n",
      "SHKL:1: \n",
      "SHKL:2: \n",
      "SHKL:3: \n",
      "SHKRSK: \n",
      "SHKPK: gn\n"
     ]
    },
    {
     "name": "stderr",
     "output_type": "stream",
     "text": [
      " 64%|██████▎   | 7/11 [01:40<01:15, 18.76s/it]"
     ]
    },
    {
     "name": "stdout",
     "output_type": "stream",
     "text": [
      "Curves and units in 150930_IOA_F56_BDC-1B-01_DML_Run_06.las:\n",
      "TIME: s\n",
      "TVD: m\n",
      "GR: gAPI\n",
      "BLKP: m\n",
      "HKLA: 1000 lbf\n",
      "STOR: 1000 ft.lbf\n",
      "SWOB: 1000 lbf\n",
      "RPM: c/min\n",
      "CRPM: c/min\n",
      "STICKNSLIP: c/min\n",
      "STUCK: \n",
      "NRPM: \n",
      "SPPA: psi\n",
      "TFLO: gal/min\n",
      "TRPM: c/min\n",
      "DHAT: degC\n",
      "DHAP: psi\n",
      "ECD: g/cc\n",
      "TEMP_DNI: degC\n",
      "ESD: g/cc\n",
      "ESD_MAX: g/cc\n",
      "ESD_MIN: g/cc\n",
      "VIB_X: gn\n",
      "VIB_LAT: gn\n",
      "OBTM: \n",
      "SHKL:1: \n",
      "SHKL:2: \n",
      "SHKL:3: \n",
      "SHKRSK: \n",
      "SHKPK: gn\n"
     ]
    },
    {
     "name": "stderr",
     "output_type": "stream",
     "text": [
      "100%|██████████| 11/11 [01:46<00:00,  9.71s/it]\n"
     ]
    },
    {
     "name": "stdout",
     "output_type": "stream",
     "text": [
      "Curves and units in 150930_IOA_F56_BDC-1B-01_LWD_6109.las:\n",
      "TVD: m\n",
      "GR: gAPI\n",
      "P16H: ohm.m\n",
      "P28H: ohm.m\n",
      "P40H: ohm.m\n",
      "A40H: ohm.m\n",
      "TNPH: pu\n",
      "ROBB: g/cm3\n",
      "DRHB: g/cm3\n",
      "ROBU: g/cm3\n",
      "DRHU: g/cm3\n",
      "ROBL: g/cm3\n",
      "ROBR: g/cm3\n",
      "ROSC[1]: g/cm3\n",
      "ROSC[2]: g/cm3\n",
      "ROSC[3]: g/cm3\n",
      "ROSC[4]: g/cm3\n",
      "ROSC[5]: g/cm3\n",
      "ROSC[6]: g/cm3\n",
      "ROSC[7]: g/cm3\n",
      "ROSC[8]: g/cm3\n",
      "ROSC[9]: g/cm3\n",
      "ROSC[10]: g/cm3\n",
      "ROSC[11]: g/cm3\n",
      "ROSC[12]: g/cm3\n",
      "ROSC[13]: g/cm3\n",
      "ROSC[14]: g/cm3\n",
      "ROSC[15]: g/cm3\n",
      "ROSC[16]: g/cm3\n",
      "DRSC[1]: g/cm3\n",
      "DRSC[2]: g/cm3\n",
      "DRSC[3]: g/cm3\n",
      "DRSC[4]: g/cm3\n",
      "DRSC[5]: g/cm3\n",
      "DRSC[6]: g/cm3\n",
      "DRSC[7]: g/cm3\n",
      "DRSC[8]: g/cm3\n",
      "DRSC[9]: g/cm3\n",
      "DRSC[10]: g/cm3\n",
      "DRSC[11]: g/cm3\n",
      "DRSC[12]: g/cm3\n",
      "DRSC[13]: g/cm3\n",
      "DRSC[14]: g/cm3\n",
      "DRSC[15]: g/cm3\n",
      "DRSC[16]: g/cm3\n",
      "DCRA[1]: in\n",
      "DCRA[2]: in\n",
      "DCRA[3]: in\n",
      "DCRA[4]: in\n",
      "DCRA[5]: in\n",
      "DCRA[6]: in\n",
      "DCRA[7]: in\n",
      "DCRA[8]: in\n",
      "DCRA[9]: in\n",
      "DCRA[10]: in\n",
      "DCRA[11]: in\n",
      "DCRA[12]: in\n",
      "DCRA[13]: in\n",
      "DCRA[14]: in\n",
      "DCRA[15]: in\n",
      "DCRA[16]: in\n",
      "PESC[1]: \n",
      "PESC[2]: \n",
      "PESC[3]: \n",
      "PESC[4]: \n",
      "PESC[5]: \n",
      "PESC[6]: \n",
      "PESC[7]: \n",
      "PESC[8]: \n",
      "PESC[9]: \n",
      "PESC[10]: \n",
      "PESC[11]: \n",
      "PESC[12]: \n",
      "PESC[13]: \n",
      "PESC[14]: \n",
      "PESC[15]: \n",
      "PESC[16]: \n",
      "PEB: \n",
      "ADIA: in\n",
      "DCAV: in\n",
      "DHAT:1: degC\n",
      "DHAT:2: degC\n",
      "DHAP:1: psi\n",
      "DHAP:2: psi\n",
      "ECD:1: g/cc\n",
      "ECD:2: g/cc\n",
      "Curves and units in 150930_IOA_F56_BDC-1B-01_UT.las:\n",
      "INCL: deg\n",
      "AZIM: deg\n",
      "TVD: m\n",
      "VSEC: m\n",
      "ND: m\n",
      "ED: m\n",
      "DLS: deg/30m\n",
      "QI: \n",
      "DI: \n",
      "CI: \n"
     ]
    },
    {
     "name": "stderr",
     "output_type": "stream",
     "text": [
      " 11%|█         | 1/9 [00:01<00:09,  1.21s/it]"
     ]
    },
    {
     "name": "stdout",
     "output_type": "stream",
     "text": [
      "Saved depth_150930_IOA_F56_BDC-1B-01_DML_6109.csv to processed directory.\n",
      "Saved depth_150930_IOA_F56_BDC-1B-01_DML_Run_01.csv to processed directory.\n"
     ]
    },
    {
     "name": "stderr",
     "output_type": "stream",
     "text": [
      " 33%|███▎      | 3/9 [00:01<00:02,  2.29it/s]"
     ]
    },
    {
     "name": "stdout",
     "output_type": "stream",
     "text": [
      "Saved depth_150930_IOA_F56_BDC-1B-01_DML_Run_02.csv to processed directory.\n"
     ]
    },
    {
     "name": "stderr",
     "output_type": "stream",
     "text": [
      " 44%|████▍     | 4/9 [00:02<00:03,  1.38it/s]"
     ]
    },
    {
     "name": "stdout",
     "output_type": "stream",
     "text": [
      "Saved depth_150930_IOA_F56_BDC-1B-01_DML_Run_03.csv to processed directory.\n"
     ]
    },
    {
     "name": "stderr",
     "output_type": "stream",
     "text": [
      " 56%|█████▌    | 5/9 [00:06<00:07,  1.91s/it]"
     ]
    },
    {
     "name": "stdout",
     "output_type": "stream",
     "text": [
      "Saved depth_150930_IOA_F56_BDC-1B-01_DML_Run_04.csv to processed directory.\n"
     ]
    },
    {
     "name": "stderr",
     "output_type": "stream",
     "text": [
      " 67%|██████▋   | 6/9 [00:08<00:05,  1.73s/it]"
     ]
    },
    {
     "name": "stdout",
     "output_type": "stream",
     "text": [
      "Saved depth_150930_IOA_F56_BDC-1B-01_DML_Run_05.csv to processed directory.\n"
     ]
    },
    {
     "name": "stderr",
     "output_type": "stream",
     "text": [
      " 78%|███████▊  | 7/9 [00:09<00:03,  1.57s/it]"
     ]
    },
    {
     "name": "stdout",
     "output_type": "stream",
     "text": [
      "Saved depth_150930_IOA_F56_BDC-1B-01_DML_Run_06.csv to processed directory.\n"
     ]
    },
    {
     "name": "stderr",
     "output_type": "stream",
     "text": [
      "100%|██████████| 9/9 [00:12<00:00,  1.40s/it]"
     ]
    },
    {
     "name": "stdout",
     "output_type": "stream",
     "text": [
      "Saved depth_150930_IOA_F56_BDC-1B-01_LWD_6109.csv to processed directory.\n",
      "Saved 150930_IOA_F56_BDC-1B-01_UT.csv to processed directory.\n"
     ]
    },
    {
     "name": "stderr",
     "output_type": "stream",
     "text": [
      "\n"
     ]
    }
   ],
   "source": [
    "import os\n",
    "import lasio\n",
    "from tqdm import tqdm\n",
    "import pandas as pd\n",
    "\n",
    "directory = \"data\"\n",
    "processed_directory = \"processed\"\n",
    "headers = {}\n",
    "dfs = {}\n",
    "\n",
    "# Function to rename columns with depth-related names to 'MD'\n",
    "def rename_depth_columns(df):\n",
    "    for col in df.columns:\n",
    "        if col.lower() in ['depth', 'dept', 'md']:\n",
    "            df.rename(columns={col: 'MD'}, inplace=True)\n",
    "    return df\n",
    "\n",
    "# Function to rename 'ROP5' column to 'ROP'\n",
    "def rename_rop_column(df):\n",
    "    if 'ROP5' in df.columns:\n",
    "        df.rename(columns={'ROP5': 'ROP'}, inplace=True)\n",
    "    return df\n",
    "\n",
    "# Function to add units to column headers\n",
    "def add_units_to_headers(df, las, filename):\n",
    "    new_columns = []\n",
    "    print(f\"Curves and units in {filename}:\")\n",
    "    for col in df.columns:\n",
    "        matching_curve = next((curve for curve in las.curves if curve.mnemonic == col), None)\n",
    "        if matching_curve is not None and matching_curve.unit:\n",
    "            new_col = f\"{col} ({matching_curve.unit})\"\n",
    "        else:\n",
    "            new_col = f\"{col}\"  # default: keep original column name, add empty unit if none found\n",
    "        new_columns.append(new_col)\n",
    "        if matching_curve is not None:\n",
    "            print(f\"{matching_curve.mnemonic}: {matching_curve.unit}\")\n",
    "    df.columns = new_columns\n",
    "    return df\n",
    "\n",
    "# Function to add prefix to dataframe name based on time or depth columns\n",
    "def add_prefix_to_df_name(df_name, df):\n",
    "    if any(col.lower() == 'time' for col in df.columns):\n",
    "        prefix = 'time_'\n",
    "    elif any(col.lower() in ['depth', 'dept', 'md', 'tvd'] for col in df.columns):\n",
    "        prefix = 'depth_'\n",
    "    else:\n",
    "        prefix = ''\n",
    "    return f\"{prefix}{df_name}\"\n",
    "\n",
    "# Loop over files in directory\n",
    "for filename in tqdm(os.listdir(directory)):\n",
    "    if filename.endswith(\".las\"):\n",
    "        # Read LAS file\n",
    "        las = lasio.read(os.path.join(directory, filename))\n",
    "        # Store header of LAS file in dictionary\n",
    "        headers[filename] = las.keys()\n",
    "        # Store data of LAS file in dictionary\n",
    "        df = las.df()\n",
    "        # Rename depth-related columns to 'MD'\n",
    "        df = rename_depth_columns(df)\n",
    "        # Rename 'ROP5' column to 'ROP'\n",
    "        df = rename_rop_column(df)\n",
    "        # Add units to column headers\n",
    "        df = add_units_to_headers(df, las, filename)\n",
    "        # Store dataframe in dictionary with prefix added to name\n",
    "        dfs[add_prefix_to_df_name(filename.replace('.las', '.csv'), df)] = df\n",
    "\n",
    "# Check if processed directory exists, create it if it doesn't\n",
    "if not os.path.exists(processed_directory):\n",
    "    os.makedirs(processed_directory)\n",
    "\n",
    "# Loop over dataframes and save them to CSV files in processed directory\n",
    "for filename, df in tqdm(dfs.items()):\n",
    "    # Save dataframe to CSV file in processed directory with prefix added to name\n",
    "    if 'MD' in df.columns:\n",
    "        df.set_index('MD', inplace=True)\n",
    "        df.to_csv(os.path.join(processed_directory, filename), index_label='MD')\n",
    "        df.reset_index(inplace=True)\n",
    "    else:\n",
    "        df.to_csv(os.path.join(processed_directory, filename), index=False)\n",
    "    print(f\"Saved {filename} to {processed_directory} directory.\")"
   ]
  },
  {
   "cell_type": "code",
   "execution_count": 69,
   "metadata": {},
   "outputs": [
    {
     "name": "stderr",
     "output_type": "stream",
     "text": [
      "100%|██████████| 11/11 [01:31<00:00,  8.34s/it]"
     ]
    },
    {
     "name": "stdout",
     "output_type": "stream",
     "text": [
      "Total number of LAS files: 9\n"
     ]
    },
    {
     "name": "stderr",
     "output_type": "stream",
     "text": [
      "\n"
     ]
    }
   ],
   "source": [
    "import os\n",
    "import json\n",
    "import pandas as pd\n",
    "import lasio\n",
    "from tqdm import tqdm\n",
    "\n",
    "# Define the path to the data folder\n",
    "data_folder = \"data\"\n",
    "\n",
    "# Create empty dictionary to store the dfs and well information\n",
    "dfs = {}\n",
    "well_info = {}\n",
    "\n",
    "# Create a dictionary of curve information\n",
    "curve_info = {}\n",
    "\n",
    "# Loop through all the files in the data folder\n",
    "for filename in tqdm(os.listdir(data_folder)):\n",
    "    if filename.endswith(\".las\"):\n",
    "        # Read the LAS file into a lasio object\n",
    "        las = lasio.read(os.path.join(data_folder, filename))\n",
    "\n",
    "        # Extract the curves and store them in a dataframe\n",
    "        curves = {}\n",
    "        for curve in las.curves:\n",
    "            curves[curve.mnemonic] = las[curve.mnemonic]\n",
    "            if curve.mnemonic not in curve_info:\n",
    "                curve_info[curve.mnemonic] = {\n",
    "                    \"unit\": curve.unit,\n",
    "                    \"description\": curve.descr,\n",
    "                }\n",
    "        df = pd.DataFrame(curves)\n",
    "\n",
    "        # Add the dataframe to the dictionary with the filename as the key\n",
    "        dfs[filename] = df\n",
    "\n",
    "        # Extract the well information and store it in the well_info dictionary\n",
    "        well_name = las.well[\"WELL\"].value\n",
    "        if well_name not in well_info:\n",
    "            well_info[well_name] = {}\n",
    "        for item in las.well.items():\n",
    "            if item[0] not in well_info[well_name]:\n",
    "                well_info[well_name][item[0]] = item[1]\n",
    "\n",
    "# Convert the well information and curve information to JSON format\n",
    "well_info_json = json.dumps(well_info)\n",
    "curve_info_json = json.dumps(curve_info)\n",
    "\n",
    "# Print the total number of LAS files\n",
    "num_files = sum(1 for filename in os.listdir(data_folder) if filename.endswith(\".las\"))\n",
    "print(f\"Total number of LAS files: {num_files}\")"
   ]
  },
  {
   "cell_type": "code",
   "execution_count": 65,
   "metadata": {},
   "outputs": [
    {
     "data": {
      "text/plain": [
       "dict_keys(['150930_IOA_F56_BDC-1B-01_DML_6109.las', '150930_IOA_F56_BDC-1B-01_DML_Run_01.las', '150930_IOA_F56_BDC-1B-01_DML_Run_02.las', '150930_IOA_F56_BDC-1B-01_DML_Run_03.las', '150930_IOA_F56_BDC-1B-01_DML_Run_04.las', '150930_IOA_F56_BDC-1B-01_DML_Run_05.las', '150930_IOA_F56_BDC-1B-01_DML_Run_06.las', '150930_IOA_F56_BDC-1B-01_LWD_6109.las', '150930_IOA_F56_BDC-1B-01_UT.las'])"
      ]
     },
     "execution_count": 65,
     "metadata": {},
     "output_type": "execute_result"
    }
   ],
   "source": [
    "dfs.keys()"
   ]
  },
  {
   "cell_type": "code",
   "execution_count": 70,
   "metadata": {},
   "outputs": [
    {
     "data": {
      "text/plain": [
       "{'BDC-1B-01': {'STRT': HeaderItem(mnemonic=\"STRT\", unit=\"m\", value=\"261.0612\", descr=\"START DEPTH\"),\n",
       "  'STOP': HeaderItem(mnemonic=\"STOP\", unit=\"m\", value=\"6109.1064\", descr=\"STOP DEPTH\"),\n",
       "  'STEP': HeaderItem(mnemonic=\"STEP\", unit=\"m\", value=\"0.1524\", descr=\"STEP\"),\n",
       "  'NULL': HeaderItem(mnemonic=\"NULL\", unit=\"\", value=\"-999.25\", descr=\"NULL VALUE\"),\n",
       "  'COMP': HeaderItem(mnemonic=\"COMP\", unit=\"\", value=\"INPEX Ichthys Pty Ltd\", descr=\"COM\"),\n",
       "  'WELL': HeaderItem(mnemonic=\"WELL\", unit=\"\", value=\"BDC-1B-01\", descr=\"WELL NAME\"),\n",
       "  'FLD': HeaderItem(mnemonic=\"FLD\", unit=\"\", value=\"Ichthys\", descr=\"FIELD NAME\"),\n",
       "  'RIGN': HeaderItem(mnemonic=\"RIGN\", unit=\"\", value=\"Ensco 5006\", descr=\"Rig Name\"),\n",
       "  'RIGTYP': HeaderItem(mnemonic=\"RIGTYP\", unit=\"\", value=\"Semi-Submersible\", descr=\"Rig Ty\"),\n",
       "  'SON': HeaderItem(mnemonic=\"SON\", unit=\"\", value=\"15AWA0104\", descr=\"Service Order Nu\"),\n",
       "  'SRVC': HeaderItem(mnemonic=\"SRVC\", unit=\"\", value=\"Schlumberger\", descr=\"SERVICE COMP\"),\n",
       "  'DATE': HeaderItem(mnemonic=\"DATE\", unit=\"\", value=\"11/08/2015\", descr=\"LOG DATE(Compo\"),\n",
       "  'CLAB': HeaderItem(mnemonic=\"CLAB\", unit=\"\", value=\"County:\", descr=\"County Label\"),\n",
       "  'CNTY': HeaderItem(mnemonic=\"CNTY\", unit=\"\", value=\"\", descr=\"COUNTY\"),\n",
       "  'SLAB': HeaderItem(mnemonic=\"SLAB\", unit=\"\", value=\"State:\", descr=\"State/Province Lab\"),\n",
       "  'STAT': HeaderItem(mnemonic=\"STAT\", unit=\"\", value=\"Western Australia\", descr=\"STATE o\"),\n",
       "  'PROV': HeaderItem(mnemonic=\"PROV\", unit=\"\", value=\"Western Australia\", descr=\"STATE o\"),\n",
       "  'CTRY': HeaderItem(mnemonic=\"CTRY\", unit=\"\", value=\"Australia\", descr=\"COUNTRY\"),\n",
       "  'CONT_REGION': HeaderItem(mnemonic=\"CONT_REGION\", unit=\"\", value=\"Australasia\", descr=\"Contin\"),\n",
       "  'SECT': HeaderItem(mnemonic=\"SECT\", unit=\"\", value=\"\", descr=\"Section\"),\n",
       "  'TOWN': HeaderItem(mnemonic=\"TOWN\", unit=\"\", value=\"\", descr=\"Township\"),\n",
       "  'RANG': HeaderItem(mnemonic=\"RANG\", unit=\"\", value=\"\", descr=\"Range\"),\n",
       "  'API': HeaderItem(mnemonic=\"API\", unit=\"\", value=\"\", descr=\"API NUMBER\"),\n",
       "  'UWI': HeaderItem(mnemonic=\"UWI\", unit=\"\", value=\"15AWA0104\", descr=\"UNIQUE WELL ID\"),\n",
       "  'LUL': HeaderItem(mnemonic=\"LUL\", unit=\"\", value=\"Zone 1\", descr=\"Logging Unit Locati\"),\n",
       "  'LUN': HeaderItem(mnemonic=\"LUN\", unit=\"\", value=\"1011008\", descr=\"Logging Unit Numbe\"),\n",
       "  'LOC': HeaderItem(mnemonic=\"LOC\", unit=\"\", value=\"Map Grid of Australia Zone 51 (GDA \"),\n",
       "  'FL1': HeaderItem(mnemonic=\"FL1\", unit=\"\", value=\"N 8 469 187.56 m\", descr=\"Field Loc\"),\n",
       "  'FL2': HeaderItem(mnemonic=\"FL2\", unit=\"\", value=\"E 534 596.11 m\", descr=\"Field Locat\"),\n",
       "  'LATI': HeaderItem(mnemonic=\"LATI\", unit=\"deg\", value=\"13° 50' 48.677\" S\", descr=\"LATI\"),\n",
       "  'LONG': HeaderItem(mnemonic=\"LONG\", unit=\"deg\", value=\"123° 19' 12.538\" E\", descr=\"LON\"),\n",
       "  'PDAT': HeaderItem(mnemonic=\"PDAT\", unit=\"\", value=\"OTHER\", descr=\"Local Permanent Dat\"),\n",
       "  'LMF': HeaderItem(mnemonic=\"LMF\", unit=\"\", value=\"DF\", descr=\"Logging Measured From\"),\n",
       "  'APD': HeaderItem(mnemonic=\"APD\", unit=\"m\", value=\"24.0\", descr=\"Elevation of Depth R\"),\n",
       "  'EPD': HeaderItem(mnemonic=\"EPD\", unit=\"m\", value=\"-2.7\", descr=\"Elevation of Permane\"),\n",
       "  'EKB': HeaderItem(mnemonic=\"EKB\", unit=\"m\", value=\"-999.25\", descr=\"Elevation of Kell\"),\n",
       "  'EDF': HeaderItem(mnemonic=\"EDF\", unit=\"m\", value=\"24.0\", descr=\"Elevation of Drill F\"),\n",
       "  'EGL': HeaderItem(mnemonic=\"EGL\", unit=\"m\", value=\"-237.2\", descr=\"Elevation of Groun\"),\n",
       "  'ECF': HeaderItem(mnemonic=\"ECF\", unit=\"m\", value=\"-999.25\", descr=\"Elevation of Casi\"),\n",
       "  'TIP_MD': HeaderItem(mnemonic=\"TIP_MD\", unit=\"m\", value=\"0.0\", descr=\"TIP Measure Depth\"),\n",
       "  'TIP_INCL': HeaderItem(mnemonic=\"TIP_INCL\", unit=\"deg\", value=\"0.0\", descr=\"TIP Inclinatio\"),\n",
       "  'TIP_AZIM': HeaderItem(mnemonic=\"TIP_AZIM\", unit=\"deg\", value=\"90.0\", descr=\"TIP Azimuth\"),\n",
       "  'TIP_TVD': HeaderItem(mnemonic=\"TIP_TVD\", unit=\"m\", value=\"0.0\", descr=\"TIP Truth Vertica\"),\n",
       "  'TIP_NORTHING': HeaderItem(mnemonic=\"TIP_NORTHING\", unit=\"m\", value=\"0.0\", descr=\"TIP Northing\"),\n",
       "  'TIP_EASTING': HeaderItem(mnemonic=\"TIP_EASTING\", unit=\"m\", value=\"0.0\", descr=\"TIP Easting\"),\n",
       "  'TIP_N_VSEC_ORI': HeaderItem(mnemonic=\"TIP_N_VSEC_ORI\", unit=\"m\", value=\"0.0\", descr=\"TIP North \"),\n",
       "  'TIP_E_VSEC_ORI': HeaderItem(mnemonic=\"TIP_E_VSEC_ORI\", unit=\"m\", value=\"0.0\", descr=\"TIP East V\"),\n",
       "  'TIP_ROAZ': HeaderItem(mnemonic=\"TIP_ROAZ\", unit=\"deg\", value=\"331.076\", descr=\"TIP Vertic\"),\n",
       "  'NORTH_REF': HeaderItem(mnemonic=\"NORTH_REF\", unit=\"\", value=\"GridNorth\", descr=\"North Refe\"),\n",
       "  'GRID_CONVERGENCE': HeaderItem(mnemonic=\"GRID_CONVERGENCE\", unit=\"deg\", value=\"-0.07662\", descr=\"G\")}}"
      ]
     },
     "execution_count": 70,
     "metadata": {},
     "output_type": "execute_result"
    }
   ],
   "source": [
    "well_info"
   ]
  },
  {
   "cell_type": "code",
   "execution_count": 77,
   "metadata": {},
   "outputs": [
    {
     "name": "stderr",
     "output_type": "stream",
     "text": [
      "100%|██████████| 11/11 [01:43<00:00,  9.41s/it]"
     ]
    },
    {
     "name": "stdout",
     "output_type": "stream",
     "text": [
      "Total number of LAS files processed: 9\n"
     ]
    },
    {
     "name": "stderr",
     "output_type": "stream",
     "text": [
      "\n"
     ]
    }
   ],
   "source": [
    "import os\n",
    "import json\n",
    "import pandas as pd\n",
    "import lasio\n",
    "from tqdm import tqdm\n",
    "\n",
    "# Define the path to the data folder\n",
    "data_folder = \"data\"\n",
    "\n",
    "# Create empty dictionary to store the dfs and well information\n",
    "dfs = {}\n",
    "well_info = {}\n",
    "\n",
    "# Create a dictionary of curve information\n",
    "curve_info = {}\n",
    "\n",
    "# Loop through all the files in the data folder\n",
    "for filename in tqdm(os.listdir(data_folder)):\n",
    "    if filename.endswith(\".las\"):\n",
    "        # Read the LAS file into a lasio object\n",
    "        las = lasio.read(os.path.join(data_folder, filename))\n",
    "\n",
    "        # Extract the curves and store them in a dataframe\n",
    "        curves = {}\n",
    "\n",
    "        df_prefix = 'depth_'\n",
    "        for curve in las.curves:\n",
    "            curves[curve.mnemonic] = las[curve.mnemonic]\n",
    "\n",
    "            if curve.mnemonic.lower() == 'time':\n",
    "                df_prefix = 'time_'\n",
    "\n",
    "            # Add the curve information to the curve_info dictionary\n",
    "            if curve.mnemonic not in curve_info:\n",
    "                curve_info[curve.mnemonic] = {\n",
    "                    \"description\": curve.descr,\n",
    "                    \"files\": {filename: curve.unit}\n",
    "                }\n",
    "            else:\n",
    "                curve_info[curve.mnemonic][\"files\"][filename] = curve.unit\n",
    "\n",
    "        df = pd.DataFrame(curves)\n",
    "\n",
    "        df_name = f\"{df_prefix}{filename}\"\n",
    "\n",
    "        # Add the dataframe to the dictionary with the appropriate prefix and filename as the key\n",
    "        dfs[df_name] = df\n",
    "\n",
    "        # Extract the well information and store it in the well_info dictionary\n",
    "        well_name = las.well[\"WELL\"].value\n",
    "        if well_name not in well_info:\n",
    "            well_info[well_name] = {}\n",
    "        for item in las.well.items():\n",
    "            if item[0] not in well_info[well_name]:\n",
    "                well_info[well_name][item[0]] = item[1]\n",
    "\n",
    "# Convert the well information and curve information to JSON format\n",
    "well_info_json = json.dumps(well_info)\n",
    "curve_info_json = json.dumps(curve_info)\n",
    "\n",
    "# Print the total number of LAS files processed\n",
    "num_files_processed = len(dfs)\n",
    "print(f\"Total number of LAS files processed: {num_files_processed}\")"
   ]
  },
  {
   "cell_type": "code",
   "execution_count": 1,
   "metadata": {},
   "outputs": [
    {
     "name": "stderr",
     "output_type": "stream",
     "text": [
      "100%|██████████| 11/11 [05:38<00:00, 30.76s/it]"
     ]
    },
    {
     "name": "stdout",
     "output_type": "stream",
     "text": [
      "Total number of LAS files processed: 9\n"
     ]
    },
    {
     "name": "stderr",
     "output_type": "stream",
     "text": [
      "\n"
     ]
    }
   ],
   "source": [
    "import os\n",
    "import json\n",
    "import pandas as pd\n",
    "import lasio\n",
    "from tqdm import tqdm\n",
    "\n",
    "# Define the path to the data folder\n",
    "data_folder = \"data\"\n",
    "\n",
    "# Create empty dictionary to store the dfs and well information\n",
    "dfs = {}\n",
    "well_info = {}\n",
    "\n",
    "# Create a dictionary of curve information\n",
    "curve_info = {}\n",
    "\n",
    "# Loop through all the files in the data folder\n",
    "for filename in tqdm(os.listdir(data_folder)):\n",
    "    if filename.endswith(\".las\"):\n",
    "        # Read the LAS file into a lasio object\n",
    "        las = lasio.read(os.path.join(data_folder, filename))\n",
    "\n",
    "        # Extract the curves and store them in a dataframe\n",
    "        curves = {}\n",
    "\n",
    "        df_prefix = 'depth_'\n",
    "        for curve in las.curves:\n",
    "            curves[curve.mnemonic] = las[curve.mnemonic]\n",
    "\n",
    "            if curve.mnemonic.lower() == 'time':\n",
    "                df_prefix = 'time_'\n",
    "\n",
    "            # Add the curve information to the curve_info dictionary\n",
    "            if curve.mnemonic not in curve_info:\n",
    "                curve_info[curve.mnemonic] = {\n",
    "                    \"description\": curve.descr,\n",
    "                    \"files\": {filename: curve.unit}\n",
    "                }\n",
    "            else:\n",
    "                curve_info[curve.mnemonic][\"files\"][filename] = curve.unit\n",
    "\n",
    "        df = pd.DataFrame(curves)\n",
    "\n",
    "        # Set the column headers to curve.mnemonic (curve.unit) or curve.mnemonic () if curve.unit is empty\n",
    "        for column in df.columns:\n",
    "            if curve_info[column][\"files\"][filename]:\n",
    "                unit = curve_info[column][\"files\"][filename]\n",
    "                df = df.rename(columns={column: f\"{column} ({unit})\"})\n",
    "            else:\n",
    "                df = df.rename(columns={column: f\"{column} ()\"})\n",
    "\n",
    "        df_name = f\"{df_prefix}{filename}\"\n",
    "\n",
    "        # Add the dataframe to the dictionary with the appropriate prefix and filename as the key\n",
    "        dfs[df_name] = df\n",
    "\n",
    "        # Extract the well information and store it in the well_info dictionary\n",
    "        well_name = las.well[\"WELL\"].value\n",
    "        if well_name not in well_info:\n",
    "            well_info[well_name] = {}\n",
    "        for item in las.well.items():\n",
    "            if item[0] not in well_info[well_name]:\n",
    "                well_info[well_name][item[0]] = item[1]\n",
    "\n",
    "# Convert the well information and curve information to JSON format\n",
    "well_info_json = json.dumps(well_info)\n",
    "curve_info_json = json.dumps(curve_info)\n",
    "\n",
    "# Print the total number of LAS files processed\n",
    "num_files_processed = len(dfs)\n",
    "print(f\"Total number of LAS files processed: {num_files_processed}\")"
   ]
  },
  {
   "cell_type": "code",
   "execution_count": 2,
   "metadata": {},
   "outputs": [
    {
     "data": {
      "text/plain": [
       "dict_keys(['depth_150930_IOA_F56_BDC-1B-01_DML_6109.las', 'time_150930_IOA_F56_BDC-1B-01_DML_Run_01.las', 'time_150930_IOA_F56_BDC-1B-01_DML_Run_02.las', 'time_150930_IOA_F56_BDC-1B-01_DML_Run_03.las', 'time_150930_IOA_F56_BDC-1B-01_DML_Run_04.las', 'time_150930_IOA_F56_BDC-1B-01_DML_Run_05.las', 'time_150930_IOA_F56_BDC-1B-01_DML_Run_06.las', 'depth_150930_IOA_F56_BDC-1B-01_LWD_6109.las', 'depth_150930_IOA_F56_BDC-1B-01_UT.las'])"
      ]
     },
     "execution_count": 2,
     "metadata": {},
     "output_type": "execute_result"
    }
   ],
   "source": [
    "dfs.keys()"
   ]
  },
  {
   "cell_type": "code",
   "execution_count": 4,
   "metadata": {},
   "outputs": [],
   "source": [
    "dfs['depth_150930_IOA_F56_BDC-1B-01_DML_6109.las'].to_csv('depth_150930_IOA_F56_BDC-1B-01_DML_6109.csv', index=False)"
   ]
  },
  {
   "cell_type": "code",
   "execution_count": 6,
   "metadata": {},
   "outputs": [
    {
     "name": "stdout",
     "output_type": "stream",
     "text": [
      "<function func1 at 0x00000124C082A980>\n"
     ]
    }
   ],
   "source": [
    "def func1(arg):\n",
    "    return arg\n",
    "\n",
    "def func2(func_arg):\n",
    "    input_arg = func_arg\n",
    "    return input_arg\n",
    "\n",
    "result = func2(func_arg=func1)\n",
    "print(result)"
   ]
  },
  {
   "cell_type": "code",
   "execution_count": 10,
   "metadata": {},
   "outputs": [
    {
     "name": "stdout",
     "output_type": "stream",
     "text": [
      "hello\n"
     ]
    }
   ],
   "source": [
    "class my_class:\n",
    "    def __init__(self, func_arg):\n",
    "        self.func = func_arg\n",
    "\n",
    "\n",
    "son_class = my_class(func_arg=func1)\n",
    "\n",
    "result = son_class.func('hello')\n",
    "print(result)"
   ]
  },
  {
   "cell_type": "code",
   "execution_count": 11,
   "metadata": {},
   "outputs": [
    {
     "ename": "TypeError",
     "evalue": "func1() missing 1 required positional argument: 'arg'",
     "output_type": "error",
     "traceback": [
      "\u001b[1;31m---------------------------------------------------------------------------\u001b[0m",
      "\u001b[1;31mTypeError\u001b[0m                                 Traceback (most recent call last)",
      "Cell \u001b[1;32mIn[11], line 1\u001b[0m\n\u001b[1;32m----> 1\u001b[0m func1()\n",
      "\u001b[1;31mTypeError\u001b[0m: func1() missing 1 required positional argument: 'arg'"
     ]
    }
   ],
   "source": [
    "func1()"
   ]
  },
  {
   "cell_type": "code",
   "execution_count": null,
   "metadata": {},
   "outputs": [],
   "source": []
  }
 ],
 "metadata": {
  "kernelspec": {
   "display_name": "py311_langchain",
   "language": "python",
   "name": "python3"
  },
  "language_info": {
   "codemirror_mode": {
    "name": "ipython",
    "version": 3
   },
   "file_extension": ".py",
   "mimetype": "text/x-python",
   "name": "python",
   "nbconvert_exporter": "python",
   "pygments_lexer": "ipython3",
   "version": "3.11.3"
  },
  "orig_nbformat": 4
 },
 "nbformat": 4,
 "nbformat_minor": 2
}
